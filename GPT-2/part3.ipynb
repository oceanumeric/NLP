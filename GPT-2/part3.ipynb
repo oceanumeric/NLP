{
 "cells": [
  {
   "attachments": {},
   "cell_type": "markdown",
   "metadata": {},
   "source": [
    "# Activations, Gradient, and BatchNorm"
   ]
  },
  {
   "cell_type": "code",
   "execution_count": 1,
   "metadata": {},
   "outputs": [],
   "source": [
    "import random\n",
    "import torch\n",
    "import torch.nn.functional as F\n",
    "import matplotlib.pyplot as plt\n",
    "%matplotlib inline\n",
    "# retina\n",
    "%config InlineBackend.figure_format = 'retina'"
   ]
  },
  {
   "cell_type": "code",
   "execution_count": 2,
   "metadata": {},
   "outputs": [
    {
     "name": "stdout",
     "output_type": "stream",
     "text": [
      "Number of words: 32033\n"
     ]
    }
   ],
   "source": [
    "# read the dataset\n",
    "words = open('./data/names.txt', 'r').read().splitlines()\n",
    "print('Number of words:', len(words))"
   ]
  },
  {
   "cell_type": "code",
   "execution_count": 3,
   "metadata": {},
   "outputs": [
    {
     "name": "stdout",
     "output_type": "stream",
     "text": [
      "First 10 words: ['emma', 'olivia', 'ava', 'isabella', 'sophia', 'charlotte', 'mia', 'amelia', 'harper', 'evelyn']\n"
     ]
    }
   ],
   "source": [
    "print('First 10 words:', words[:10])"
   ]
  },
  {
   "cell_type": "code",
   "execution_count": 4,
   "metadata": {},
   "outputs": [
    {
     "name": "stdout",
     "output_type": "stream",
     "text": [
      "Number of characters: 26\n"
     ]
    }
   ],
   "source": [
    "# build up the dictionary for mapping characters to integers\n",
    "chars = sorted(list(set(''.join(words))))\n",
    "print('Number of characters:', len(chars))\n",
    "# chars to integers\n",
    "char2int = {c: i+1 for i, c in enumerate(chars)}\n",
    "# add . as the padding character\n",
    "char2int['.'] = 0\n",
    "# integers to chars\n",
    "int2char = {i: c for c, i in char2int.items()}\n",
    "# vocabulary size\n",
    "vocab_size = len(char2int)"
   ]
  },
  {
   "cell_type": "code",
   "execution_count": 6,
   "metadata": {},
   "outputs": [
    {
     "name": "stdout",
     "output_type": "stream",
     "text": [
      "{'a': 1, 'b': 2, 'c': 3, 'd': 4, 'e': 5, 'f': 6, 'g': 7, 'h': 8, 'i': 9, 'j': 10, 'k': 11, 'l': 12, 'm': 13, 'n': 14, 'o': 15, 'p': 16, 'q': 17, 'r': 18, 's': 19, 't': 20, 'u': 21, 'v': 22, 'w': 23, 'x': 24, 'y': 25, 'z': 26, '.': 0}\n"
     ]
    }
   ],
   "source": [
    "print(char2int)"
   ]
  },
  {
   "cell_type": "code",
   "execution_count": 6,
   "metadata": {},
   "outputs": [],
   "source": [
    "# build the dataset\n",
    "block_size = 3 \n",
    "\n",
    "def build_dataset(words):\n",
    "    X, Y = [], []\n",
    "    for word in words:\n",
    "        # add . as the padding character to the beginning of the word\n",
    "        context = [0] * block_size\n",
    "        for char in word + '.':\n",
    "            X.append(context)\n",
    "            Y.append(char2int[char])\n",
    "            # update the context\n",
    "            context = context[1:] + [char2int[char]]\n",
    "    # convert to tensors\n",
    "    X = torch.tensor(X)\n",
    "    Y = torch.tensor(Y)\n",
    "    print('X:', X.shape, 'Y:', Y.shape)\n",
    "    return X, Y"
   ]
  },
  {
   "cell_type": "code",
   "execution_count": 7,
   "metadata": {},
   "outputs": [
    {
     "name": "stdout",
     "output_type": "stream",
     "text": [
      "X: torch.Size([182426, 3]) Y: torch.Size([182426])\n",
      "X: torch.Size([22807, 3]) Y: torch.Size([22807])\n",
      "X: torch.Size([22913, 3]) Y: torch.Size([22913])\n"
     ]
    }
   ],
   "source": [
    "# split the dataset into training and validation sets\n",
    "# 80%, 10%, 10%\n",
    "# set the random seed\n",
    "random.seed(666)\n",
    "# shuffle the words\n",
    "random.shuffle(words)\n",
    "# split the words\n",
    "train_words = words[:int(0.8*len(words))]\n",
    "val_words = words[int(0.8*len(words)):int(0.9*len(words))]\n",
    "test_words = words[int(0.9*len(words)):]\n",
    "\n",
    "# build the datasets\n",
    "X_train, Y_train = build_dataset(train_words)\n",
    "X_val, Y_val = build_dataset(val_words)\n",
    "X_test, Y_test = build_dataset(test_words)\n"
   ]
  },
  {
   "cell_type": "code",
   "execution_count": 16,
   "metadata": {},
   "outputs": [
    {
     "name": "stdout",
     "output_type": "stream",
     "text": [
      "Total number of parameters: 12297\n"
     ]
    }
   ],
   "source": [
    "# build the model\n",
    "num_embeddings = 10 # dimension of the embedding space\n",
    "num_hidden = 200 # dimension of the hidden layer \n",
    "\n",
    "# set the seed\n",
    "g_seed = torch.Generator().manual_seed(777)\n",
    "\n",
    "# initialize the weights\n",
    "C_emb = torch.randn(vocab_size, num_embeddings, generator=g_seed)\n",
    "# first layer\n",
    "W1 = torch.randn(block_size*num_embeddings, num_hidden, generator=g_seed) * (5/3)/((block_size*num_embeddings)**0.5)\n",
    "b1 = torch.randn(num_hidden, generator=g_seed) * 0.01\n",
    "# second layer with special initialization\n",
    "W2 = torch.randn(num_hidden, vocab_size, generator=g_seed) * 0.01\n",
    "b2 = torch.randn(vocab_size, generator=g_seed) * 0\n",
    "\n",
    "# add batch normalization parameters\n",
    "bn_gain = torch.ones(1, num_hidden)\n",
    "bn_bias = torch.zeros(1, num_hidden)\n",
    "\n",
    "# add batch normalization mean and variance\n",
    "bn_mean = torch.zeros(1, num_hidden)\n",
    "bn_std = torch.ones(1, num_hidden)\n",
    "\n",
    "parameters = [C_emb, W1, b1, W2, b2, bn_gain, bn_bias]\n",
    "\n",
    "# print total number of parameters\n",
    "total_params = sum(p.numel() for p in parameters)\n",
    "print('Total number of parameters:', total_params)\n",
    "\n",
    "# initialize the gradients\n",
    "for p in parameters:\n",
    "    p.requires_grad = True"
   ]
  },
  {
   "cell_type": "code",
   "execution_count": 109,
   "metadata": {},
   "outputs": [
    {
     "name": "stdout",
     "output_type": "stream",
     "text": [
      "X_train: torch.Size([182426, 3])\n"
     ]
    }
   ],
   "source": [
    "print(\"X_train:\", X_train.shape)"
   ]
  },
  {
   "cell_type": "code",
   "execution_count": 15,
   "metadata": {},
   "outputs": [
    {
     "ename": "SyntaxError",
     "evalue": "name 'bn_mean' is parameter and global (4273498240.py, line 3)",
     "output_type": "error",
     "traceback": [
      "\u001b[0;36m  File \u001b[0;32m\"/tmp/ipykernel_69405/4273498240.py\"\u001b[0;36m, line \u001b[0;32m3\u001b[0m\n\u001b[0;31m    global bn_mean, bn_std\u001b[0m\n\u001b[0m    ^\u001b[0m\n\u001b[0;31mSyntaxError\u001b[0m\u001b[0;31m:\u001b[0m name 'bn_mean' is parameter and global\n"
     ]
    }
   ],
   "source": [
    "# define the forward pass that defines the architecture of the model\n",
    "def forward(X, Y, bn_mean, bn_std, *parameters):\n",
    "    global bn_mean\n",
    "    global bn_std\n",
    "    C_emb, W1, b1, W2, b2, bn_gain, bn_bias = parameters\n",
    "    # get the embeddings\n",
    "    # shape of X_emb: (batch_size, block_size, num_embeddings)\n",
    "    X_emb = C_emb[X]\n",
    "    # flatten the embeddings\n",
    "    X_emb = X_emb.view(-1, block_size*num_embeddings)\n",
    "    # first layer h.shape = (batch_size*num_embeddings, num_hidden)\n",
    "    hpreact = X_emb @ W1 + b1\n",
    "    # batch normalization\n",
    "    bn_mean_i = hpreact.mean(0, keepdim=True)\n",
    "    bn_std_i = hpreact.std(0, keepdim=True)\n",
    "    hpreact = bn_gain * (hpreact - bn_mean_i) / bn_std_i + bn_bias\n",
    "\n",
    "    # update mean and std\n",
    "    with torch.no_grad():\n",
    "        bn_mean = 0.999 * bn_mean + 0.001 * bn_mean_i\n",
    "        bn_std = 0.999 * bn_std + 0.001 * bn_std_i\n",
    "\n",
    "    h = torch.tanh(hpreact)\n",
    "    # second layer\n",
    "    logits = h @ W2 + b2\n",
    "    # compute the loss\n",
    "    loss = F.cross_entropy(logits, Y)\n",
    "    return loss, h, hpreact"
   ]
  },
  {
   "cell_type": "code",
   "execution_count": 11,
   "metadata": {},
   "outputs": [
    {
     "name": "stdout",
     "output_type": "stream",
     "text": [
      "Step 0,:::0.0 done:::; Loss 3.2954\n",
      "Step 5000,:::0.025 done:::; Loss 2.2894\n",
      "Step 10000,:::0.05 done:::; Loss 2.3234\n",
      "Step 15000,:::0.075 done:::; Loss 2.1052\n",
      "Step 20000,:::0.1 done:::; Loss 2.2394\n",
      "Step 25000,:::0.125 done:::; Loss 2.2382\n",
      "Step 30000,:::0.15 done:::; Loss 2.1163\n",
      "Step 35000,:::0.175 done:::; Loss 2.3609\n",
      "Step 40000,:::0.2 done:::; Loss 2.0007\n",
      "Step 45000,:::0.225 done:::; Loss 2.2975\n",
      "Step 50000,:::0.25 done:::; Loss 2.3012\n",
      "Step 55000,:::0.275 done:::; Loss 2.3405\n",
      "Step 60000,:::0.3 done:::; Loss 2.5067\n",
      "Step 65000,:::0.325 done:::; Loss 2.3386\n",
      "Step 70000,:::0.35 done:::; Loss 2.3253\n",
      "Step 75000,:::0.375 done:::; Loss 2.5728\n",
      "Step 80000,:::0.4 done:::; Loss 2.4208\n",
      "Step 85000,:::0.425 done:::; Loss 1.9239\n",
      "Step 90000,:::0.45 done:::; Loss 2.1964\n",
      "Step 95000,:::0.475 done:::; Loss 2.0282\n",
      "Step 100000,:::0.5 done:::; Loss 2.1943\n",
      "Step 105000,:::0.525 done:::; Loss 1.9717\n",
      "Step 110000,:::0.55 done:::; Loss 2.0468\n",
      "Step 115000,:::0.575 done:::; Loss 2.0403\n",
      "Step 120000,:::0.6 done:::; Loss 2.4447\n",
      "Step 125000,:::0.625 done:::; Loss 1.8788\n",
      "Step 130000,:::0.65 done:::; Loss 2.4154\n",
      "Step 135000,:::0.675 done:::; Loss 1.9881\n",
      "Step 140000,:::0.7 done:::; Loss 2.2198\n",
      "Step 145000,:::0.725 done:::; Loss 2.4081\n",
      "Step 150000,:::0.75 done:::; Loss 2.0747\n",
      "Step 155000,:::0.775 done:::; Loss 1.9346\n",
      "Step 160000,:::0.8 done:::; Loss 2.3204\n",
      "Step 165000,:::0.825 done:::; Loss 2.0461\n",
      "Step 170000,:::0.85 done:::; Loss 2.0558\n",
      "Step 175000,:::0.875 done:::; Loss 2.3270\n",
      "Step 180000,:::0.9 done:::; Loss 1.8300\n",
      "Step 185000,:::0.925 done:::; Loss 2.1792\n",
      "Step 190000,:::0.95 done:::; Loss 2.1679\n",
      "Step 195000,:::0.975 done:::; Loss 2.1244\n"
     ]
    }
   ],
   "source": [
    "# train the model\n",
    "max_steps = 200000\n",
    "batch_size = 32\n",
    "loss_history = []\n",
    "\n",
    "for i in range(max_steps):\n",
    "    # sample a batch\n",
    "    idx = torch.randint(len(X_train), (batch_size,))\n",
    "    X_batch = X_train[idx]\n",
    "    Y_batch = Y_train[idx]\n",
    "    # compute the loss\n",
    "    loss, h, h_prev = forward(X_batch, Y_batch, bn_mean, bn_std, *parameters)\n",
    "    # zero out the gradients\n",
    "    for p in parameters:\n",
    "        p.grad = None\n",
    "    # backward pass\n",
    "    loss.backward()\n",
    "    # update the parameters\n",
    "    alpha = 0.1 if i < 100000 else 0.01\n",
    "    for p in parameters:\n",
    "        p.data -= alpha * p.grad\n",
    "    # append the loss\n",
    "    loss_history.append(loss.item())\n",
    "    # print the loss every 1000 steps\n",
    "    if i % 5000 == 0:\n",
    "        print(f'Step {i},:::{i/max_steps} done:::; Loss {loss.item():.4f}')"
   ]
  },
  {
   "cell_type": "code",
   "execution_count": 85,
   "metadata": {},
   "outputs": [
    {
     "data": {
      "image/png": "[encoded data removed]",
      "text/plain": [
       "<Figure size 432x288 with 1 Axes>"
      ]
     },
     "metadata": {
      "image/png": {
       "height": 248,
       "width": 375
      },
      "needs_background": "light"
     },
     "output_type": "display_data"
    }
   ],
   "source": [
    "# visualize tanh\n",
    "plt.hist(h.detach().numpy().flatten(), bins=50);"
   ]
  },
  {
   "cell_type": "code",
   "execution_count": 86,
   "metadata": {},
   "outputs": [
    {
     "data": {
      "image/png": "[encoded data removed]",
      "text/plain": [
       "<Figure size 432x288 with 1 Axes>"
      ]
     },
     "metadata": {
      "image/png": {
       "height": 248,
       "width": 375
      },
      "needs_background": "light"
     },
     "output_type": "display_data"
    }
   ],
   "source": [
    "# plot h_prev\n",
    "plt.hist(h_prev.detach().numpy().flatten(), bins=50);"
   ]
  },
  {
   "cell_type": "code",
   "execution_count": 87,
   "metadata": {},
   "outputs": [
    {
     "data": {
      "image/png": "[encoded data removed]",
      "text/plain": [
       "<Figure size 1440x720 with 1 Axes>"
      ]
     },
     "metadata": {
      "image/png": {
       "height": 210,
       "width": 1150
      },
      "needs_background": "light"
     },
     "output_type": "display_data"
    }
   ],
   "source": [
    "# visualize the tanh neuron\n",
    "plt.figure(figsize=(20, 10))\n",
    "plt.imshow(h.detach().numpy() > 0.99, cmap='gray', interpolation='nearest');"
   ]
  },
  {
   "cell_type": "code",
   "execution_count": 52,
   "metadata": {},
   "outputs": [
    {
     "data": {
      "image/png": "[encoded data removed]",
      "text/plain": [
       "<Figure size 432x288 with 1 Axes>"
      ]
     },
     "metadata": {
      "image/png": {
       "height": 248,
       "width": 376
      },
      "needs_background": "light"
     },
     "output_type": "display_data"
    }
   ],
   "source": [
    "    # plot the loss\n",
    "plt.plot(loss_history);"
   ]
  },
  {
   "cell_type": "code",
   "execution_count": 90,
   "metadata": {},
   "outputs": [],
   "source": [
    "@torch.no_grad()\n",
    "def get_validation_loss(data_key):\n",
    "    x, y = {\n",
    "        'train': (X_train, Y_train),\n",
    "        'val': (X_val, Y_val),\n",
    "        'test': (X_test, Y_test)\n",
    "    }[data_key]\n",
    "    loss, _, _ = forward(x, y, *parameters)\n",
    "\n",
    "    return loss.item()"
   ]
  },
  {
   "cell_type": "code",
   "execution_count": 91,
   "metadata": {},
   "outputs": [
    {
     "name": "stdout",
     "output_type": "stream",
     "text": [
      "Validation loss: 2.1086418628692627\n",
      "Test loss: 2.0977792739868164\n"
     ]
    }
   ],
   "source": [
    "# print validation loss\n",
    "print('Validation loss:', get_validation_loss('val'))\n",
    "# print test loss\n",
    "print('Test loss:', get_validation_loss('test'))"
   ]
  },
  {
   "cell_type": "code",
   "execution_count": 101,
   "metadata": {},
   "outputs": [
    {
     "name": "stdout",
     "output_type": "stream",
     "text": [
      "Validation loss: 2.108266592025757\n",
      "Test loss: 2.0967471599578857\n"
     ]
    }
   ],
   "source": [
    "# print validation loss\n",
    "print('Validation loss:', get_validation_loss('val'))\n",
    "# print test loss\n",
    "print('Test loss:', get_validation_loss('test'))"
   ]
  },
  {
   "cell_type": "code",
   "execution_count": 24,
   "metadata": {},
   "outputs": [],
   "source": [
    "# generate a name\n",
    "def generate_name():\n",
    "    # sample a context\n",
    "    context = [0] * block_size\n",
    "    # generate a name\n",
    "    name = []\n",
    "    while True:\n",
    "        # convert to a tensor\n",
    "        X = torch.tensor(context).unsqueeze(0)\n",
    "        # get the embeddings\n",
    "        X_emb = C_emb[X]\n",
    "        # flatten the embeddings\n",
    "        X_emb = X_emb.view(-1, block_size*num_embeddings)\n",
    "        # first layer\n",
    "        h = torch.tanh(X_emb @ W1 + b1)\n",
    "        # second layer\n",
    "        logits = h @ W2 + b2\n",
    "        # sample a character\n",
    "        p = F.softmax(logits, dim=-1)\n",
    "        char_idx = torch.multinomial(p, 1).item()\n",
    "        # stop if we sampled the padding character\n",
    "        if char_idx == 0:\n",
    "            break\n",
    "        # update the context\n",
    "        context = context[1:] + [char_idx]\n",
    "        # add the character to the name\n",
    "        name.append(int2char[char_idx])\n",
    "    return ''.join(name)"
   ]
  },
  {
   "cell_type": "code",
   "execution_count": 103,
   "metadata": {},
   "outputs": [
    {
     "name": "stdout",
     "output_type": "stream",
     "text": [
      "kari\n",
      "desbert\n",
      "tormiah\n",
      "taisley\n",
      "waine\n",
      "doany\n",
      "tavyn\n",
      "marace\n",
      "bertiyah\n",
      "damia\n",
      "bassi\n",
      "mus\n",
      "grachi\n",
      "tyn\n",
      "ava\n",
      "rowynd\n",
      "kalainer\n",
      "krystana\n",
      "nya\n",
      "pacelyn\n"
     ]
    }
   ],
   "source": [
    "# set seed\n",
    "torch.manual_seed(888)\n",
    "for _ in range(20):\n",
    "    print(generate_name())"
   ]
  },
  {
   "cell_type": "code",
   "execution_count": 31,
   "metadata": {},
   "outputs": [
    {
     "data": {
      "text/plain": [
       "tensor(3.2958)"
      ]
     },
     "execution_count": 31,
     "metadata": {},
     "output_type": "execute_result"
    }
   ],
   "source": [
    "# uniform initialization\n",
    "# log likelihood of the uniform distribution\n",
    "-torch.tensor(1/27.0).log()"
   ]
  },
  {
   "cell_type": "code",
   "execution_count": 39,
   "metadata": {},
   "outputs": [
    {
     "name": "stdout",
     "output_type": "stream",
     "text": [
      "Probabilities: tensor([0.3326, 0.0022, 0.3326, 0.3326])\n",
      "Log likelihood of the uniform distribution: 6.100855827331543\n"
     ]
    }
   ],
   "source": [
    "# four dimensional example\n",
    "information = torch.tensor([5.0, 0.0, 5.0, 5.0])\n",
    "# likelihood of the uniform distribution\n",
    "probs = F.softmax(information, dim=0)\n",
    "# print the probabilities\n",
    "print('Probabilities:', probs)\n",
    "log_likelihood = -probs[1].log()\n",
    "print('Log likelihood of the uniform distribution:', log_likelihood.item())"
   ]
  },
  {
   "cell_type": "code",
   "execution_count": 49,
   "metadata": {},
   "outputs": [
    {
     "name": "stdout",
     "output_type": "stream",
     "text": [
      "Information: tensor([-70.1930, 215.4527, -95.1327, -64.7722])\n",
      "Probabilities: tensor([0., 1., 0., 0.])\n",
      "Log likelihood of the normal distribution: -0.0\n"
     ]
    }
   ],
   "source": [
    "# draw from normal distribution\n",
    "information = torch.randn(4) * 100\n",
    "print('Information:', information)\n",
    "# likelihood of the normal distribution\n",
    "probs = F.softmax(information, dim=0)\n",
    "# print the probabilities\n",
    "print('Probabilities:', probs)\n",
    "log_likelihood = -probs[1].log()\n",
    "print('Log likelihood of the normal distribution:', log_likelihood.item())"
   ]
  },
  {
   "cell_type": "code",
   "execution_count": 98,
   "metadata": {},
   "outputs": [
    {
     "name": "stdout",
     "output_type": "stream",
     "text": [
      "x mean -0.0073, std 0.9941\n",
      "y mean 0.0029, std 0.9826\n"
     ]
    },
    {
     "data": {
      "image/png": "[encoded data removed]",
      "text/plain": [
       "<Figure size 1224x432 with 2 Axes>"
      ]
     },
     "metadata": {
      "image/png": {
       "height": 357,
       "width": 989
      },
      "needs_background": "light"
     },
     "output_type": "display_data"
    }
   ],
   "source": [
    "# simulate Gaussian distribution\n",
    "x = torch.randn(1000, 10)\n",
    "w = torch.randn(10, 200) / 10**0.5\n",
    "y = x @ w\n",
    "print(f\"x mean {x.mean():.4f}, std {x.std():.4f}\")\n",
    "print(f\"y mean {y.mean():.4f}, std {y.std():.4f}\")\n",
    "# plot the histogram\n",
    "plt.figure(figsize=(17, 6))\n",
    "plt.subplot(121)\n",
    "plt.hist(x.view(-1).numpy(), bins=50)\n",
    "plt.subplot(122)\n",
    "plt.hist(y.view(-1).numpy(), bins=50);"
   ]
  },
  {
   "cell_type": "code",
   "execution_count": 116,
   "metadata": {},
   "outputs": [
    {
     "data": {
      "text/plain": [
       "371630"
      ]
     },
     "execution_count": 116,
     "metadata": {},
     "output_type": "execute_result"
    }
   ],
   "source": [
    "76820 + 5400 + 47399 + 6892 + 4553 + 7125 + 46775  + 10075 + 166591"
   ]
  },
  {
   "cell_type": "code",
   "execution_count": 12,
   "metadata": {},
   "outputs": [],
   "source": [
    "# calculate the mean and std\n",
    "with torch.no_grad():\n",
    "    X_emb = C_emb[X_train]\n",
    "    # flatten the embeddings\n",
    "    X_emb = X_emb.view(-1, block_size*num_embeddings)\n",
    "    # first layer h.shape = (batch_size*num_embeddings, num_hidden)\n",
    "    hpreact = X_emb @ W1 + b1\n",
    "    # batch normalization\n",
    "    bn_mean_i = hpreact.mean(0, keepdim=True)\n",
    "    bn_std_i = hpreact.std(0, keepdim=True)"
   ]
  },
  {
   "cell_type": "code",
   "execution_count": 13,
   "metadata": {},
   "outputs": [
    {
     "data": {
      "text/plain": [
       "tensor([[-0.5999, -0.2863,  0.1880,  1.9770, -0.5020, -1.0678, -0.0434, -1.5514,\n",
       "          1.4366, -1.3749,  2.4260, -0.2946, -0.9371, -0.7886,  0.5846,  0.1962,\n",
       "         -1.3571, -1.3490,  3.1128, -0.8529, -1.4431,  3.8503,  1.4003, -1.5956,\n",
       "         -2.4818, -1.8219, -0.0952,  1.7404,  0.5937,  0.9697, -1.6839,  0.0691,\n",
       "         -1.1328,  2.0735, -0.3181,  2.9986, -0.1274,  0.1566,  0.5864, -3.1051,\n",
       "         -1.3661,  0.9826, -3.1271, -0.0450,  0.5239,  0.2491,  0.3319, -0.5167,\n",
       "          0.1902, -0.8196,  2.9066, -1.2578,  1.6184,  0.2329,  2.1859, -0.0292,\n",
       "          0.5137, -0.0936, -0.7699,  0.5104,  0.8954, -2.6097,  1.3693,  0.7095,\n",
       "         -1.2204,  2.3719, -0.1661,  0.7728, -0.6097,  1.9597, -1.0160,  0.8276,\n",
       "         -3.1536,  0.0446, -0.2335, -2.1531,  1.0503, -1.3153,  1.3497,  2.0388,\n",
       "         -0.1451, -0.7238,  1.5014,  0.1448,  0.3379, -0.9544,  1.4032,  0.5497,\n",
       "         -2.0316, -1.8750, -0.0435, -0.1798,  1.1996, -1.2937, -0.7883, -0.3486,\n",
       "          1.0312,  0.9583,  1.3500, -1.4898, -0.1394, -1.0797,  0.5411,  0.2603,\n",
       "         -0.0113, -1.7161, -2.3294,  1.4538,  2.1196,  1.0974, -0.1675, -1.7356,\n",
       "          3.1721,  0.8946,  2.7492, -0.1469, -2.4623, -1.1364,  3.0682,  1.2397,\n",
       "          1.4986, -2.4231, -1.3587,  1.7671, -0.0831, -0.0787,  0.1871,  0.9189,\n",
       "          2.6763, -0.3465,  2.0482,  1.5145,  2.4307, -1.1047,  1.0201, -0.6598,\n",
       "         -0.4779,  2.4728, -2.5541,  0.1642, -1.9867,  1.7214,  0.5766,  0.9435,\n",
       "          1.0860, -2.4302,  1.6490,  1.4366,  0.9756,  0.4696, -0.2517, -2.3375,\n",
       "         -2.8069,  0.5354, -2.1660, -0.9734,  0.8692,  3.8539, -0.7720,  0.4454,\n",
       "         -0.8336,  0.5987,  0.5348, -0.1442,  0.9086, -0.8275, -0.0887,  0.5796,\n",
       "          2.6995, -1.8660, -1.0014, -1.0737, -0.9657, -0.8533,  0.3919,  1.3223,\n",
       "          3.0897, -0.9812,  0.3913, -0.2023, -1.9361,  0.0391,  2.5098,  0.3490,\n",
       "         -0.9070,  0.9302, -0.4816, -0.6827, -1.0187,  1.5569, -1.5602, -0.6450,\n",
       "          0.5350, -1.6382, -0.7316,  2.1701,  1.4152, -0.4093, -0.7300, -0.8723]])"
      ]
     },
     "execution_count": 13,
     "metadata": {},
     "output_type": "execute_result"
    }
   ],
   "source": [
    "bn_mean_i"
   ]
  },
  {
   "cell_type": "code",
   "execution_count": 14,
   "metadata": {},
   "outputs": [
    {
     "data": {
      "text/plain": [
       "tensor([[0., 0., 0., 0., 0., 0., 0., 0., 0., 0., 0., 0., 0., 0., 0., 0., 0., 0., 0., 0., 0., 0., 0., 0.,\n",
       "         0., 0., 0., 0., 0., 0., 0., 0., 0., 0., 0., 0., 0., 0., 0., 0., 0., 0., 0., 0., 0., 0., 0., 0.,\n",
       "         0., 0., 0., 0., 0., 0., 0., 0., 0., 0., 0., 0., 0., 0., 0., 0., 0., 0., 0., 0., 0., 0., 0., 0.,\n",
       "         0., 0., 0., 0., 0., 0., 0., 0., 0., 0., 0., 0., 0., 0., 0., 0., 0., 0., 0., 0., 0., 0., 0., 0.,\n",
       "         0., 0., 0., 0., 0., 0., 0., 0., 0., 0., 0., 0., 0., 0., 0., 0., 0., 0., 0., 0., 0., 0., 0., 0.,\n",
       "         0., 0., 0., 0., 0., 0., 0., 0., 0., 0., 0., 0., 0., 0., 0., 0., 0., 0., 0., 0., 0., 0., 0., 0.,\n",
       "         0., 0., 0., 0., 0., 0., 0., 0., 0., 0., 0., 0., 0., 0., 0., 0., 0., 0., 0., 0., 0., 0., 0., 0.,\n",
       "         0., 0., 0., 0., 0., 0., 0., 0., 0., 0., 0., 0., 0., 0., 0., 0., 0., 0., 0., 0., 0., 0., 0., 0.,\n",
       "         0., 0., 0., 0., 0., 0., 0., 0.]])"
      ]
     },
     "execution_count": 14,
     "metadata": {},
     "output_type": "execute_result"
    }
   ],
   "source": [
    "bn_mean"
   ]
  },
  {
   "cell_type": "code",
   "execution_count": null,
   "metadata": {},
   "outputs": [],
   "source": []
  }
 ],
 "metadata": {
  "kernelspec": {
   "display_name": "nlpvenv",
   "language": "python",
   "name": "python3"
  },
  "language_info": {
   "codemirror_mode": {
    "name": "ipython",
    "version": 3
   },
   "file_extension": ".py",
   "mimetype": "text/x-python",
   "name": "python",
   "nbconvert_exporter": "python",
   "pygments_lexer": "ipython3",
   "version": "3.9.5"
  },
  "orig_nbformat": 4
 },
 "nbformat": 4,
 "nbformat_minor": 2
}
