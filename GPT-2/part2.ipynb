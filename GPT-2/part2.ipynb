{
 "cells": [
  {
   "attachments": {},
   "cell_type": "markdown",
   "metadata": {},
   "source": [
    "# A Neural Probabilistic Language Model"
   ]
  },
  {
   "cell_type": "code",
   "execution_count": 1,
   "metadata": {},
   "outputs": [],
   "source": [
    "# import key packages\n",
    "import torch\n",
    "import torch.nn.functional as F\n",
    "import matplotlib.pyplot as plt\n",
    "%matplotlib inline\n",
    "# retina display\n",
    "%config InlineBackend.figure_format = 'retina'"
   ]
  },
  {
   "cell_type": "code",
   "execution_count": 3,
   "metadata": {},
   "outputs": [
    {
     "name": "stdout",
     "output_type": "stream",
     "text": [
      "Number of words: 32033\n"
     ]
    }
   ],
   "source": [
    "# read the dataset\n",
    "words = open('./data/names.txt', 'r').read().splitlines()\n",
    "print('Number of words:', len(words))"
   ]
  },
  {
   "cell_type": "code",
   "execution_count": 5,
   "metadata": {},
   "outputs": [
    {
     "data": {
      "text/plain": [
       "['emma', 'olivia', 'ava', 'isabella', 'sophia', 'charlotte', 'mia', 'amelia']"
      ]
     },
     "execution_count": 5,
     "metadata": {},
     "output_type": "execute_result"
    }
   ],
   "source": [
    "words[:8]"
   ]
  },
  {
   "cell_type": "code",
   "execution_count": 7,
   "metadata": {},
   "outputs": [
    {
     "name": "stdout",
     "output_type": "stream",
     "text": [
      "Number of characters: 26\n"
     ]
    }
   ],
   "source": [
    "# build up the dictionary for mapping characters to integers\n",
    "chars = sorted(list(set(''.join(words))))\n",
    "print('Number of characters:', len(chars))\n",
    "# chars to integers\n",
    "char2int = {c: i+1 for i, c in enumerate(chars)}\n",
    "# add . as the padding character\n",
    "char2int['.'] = 0\n",
    "# integers to chars\n",
    "int2char = {i: c for c, i in char2int.items()}"
   ]
  },
  {
   "cell_type": "code",
   "execution_count": 10,
   "metadata": {},
   "outputs": [
    {
     "name": "stdout",
     "output_type": "stream",
     "text": [
      "char2int: {'a': 1, 'b': 2, 'c': 3, 'd': 4, 'e': 5, 'f': 6, 'g': 7, 'h': 8, 'i': 9, 'j': 10, 'k': 11, 'l': 12, 'm': 13, 'n': 14, 'o': 15, 'p': 16, 'q': 17, 'r': 18, 's': 19, 't': 20, 'u': 21, 'v': 22, 'w': 23, 'x': 24, 'y': 25, 'z': 26, '.': 0}\n"
     ]
    }
   ],
   "source": [
    "print('char2int:', char2int)"
   ]
  },
  {
   "cell_type": "code",
   "execution_count": 12,
   "metadata": {},
   "outputs": [
    {
     "name": "stdout",
     "output_type": "stream",
     "text": [
      "int2char: {1: 'a', 2: 'b', 3: 'c', 4: 'd', 5: 'e', 6: 'f', 7: 'g', 8: 'h', 9: 'i', 10: 'j', 11: 'k', 12: 'l', 13: 'm', 14: 'n', 15: 'o', 16: 'p', 17: 'q', 18: 'r', 19: 's', 20: 't', 21: 'u', 22: 'v', 23: 'w', 24: 'x', 25: 'y', 26: 'z', 0: '.'}\n"
     ]
    }
   ],
   "source": [
    "print('int2char:', int2char)"
   ]
  },
  {
   "cell_type": "code",
   "execution_count": 13,
   "metadata": {},
   "outputs": [
    {
     "name": "stdout",
     "output_type": "stream",
     "text": [
      "emma\n",
      "   emm --> a\n",
      "olivia\n",
      "   oli --> v\n",
      "   liv --> i\n",
      "   ivi --> a\n",
      "ava\n",
      "isabella\n",
      "   isa --> b\n",
      "   sab --> e\n",
      "   abe --> l\n",
      "   bel --> l\n",
      "   ell --> a\n",
      "sophia\n",
      "   sop --> h\n",
      "   oph --> i\n",
      "   phi --> a\n"
     ]
    }
   ],
   "source": [
    "# build up the dataset\n",
    "block_size = 3 # the length of sequences of input data\n",
    "X, Y = [], []\n",
    "\n",
    "for word in words[:5]:\n",
    "    print(word)\n",
    "    for i in range(0, len(word) - block_size):\n",
    "        # rolling window of block_size\n",
    "        X.append([char2int[c] for c in word[i:i+block_size]])\n",
    "        Y.append(char2int[word[i+block_size]])\n",
    "        print('  ', word[i:i+block_size], '-->', word[i+block_size])"
   ]
  },
  {
   "cell_type": "code",
   "execution_count": 16,
   "metadata": {},
   "outputs": [
    {
     "name": "stdout",
     "output_type": "stream",
     "text": [
      "emma\n",
      "... --> e\n",
      "..e --> m\n",
      ".em --> m\n",
      "emm --> a\n",
      "mma --> .\n",
      "olivia\n",
      "... --> o\n",
      "..o --> l\n",
      ".ol --> i\n",
      "oli --> v\n",
      "liv --> i\n",
      "ivi --> a\n",
      "via --> .\n",
      "ava\n",
      "... --> a\n",
      "..a --> v\n",
      ".av --> a\n",
      "ava --> .\n",
      "isabella\n",
      "... --> i\n",
      "..i --> s\n",
      ".is --> a\n",
      "isa --> b\n",
      "sab --> e\n",
      "abe --> l\n",
      "bel --> l\n",
      "ell --> a\n",
      "lla --> .\n",
      "sophia\n",
      "... --> s\n",
      "..s --> o\n",
      ".so --> p\n",
      "sop --> h\n",
      "oph --> i\n",
      "phi --> a\n",
      "hia --> .\n"
     ]
    }
   ],
   "source": [
    "# the above method does not add '.'\n",
    "block_size = 3 # the length of sequences of input data\n",
    "X, Y = [], []\n",
    "\n",
    "for word in words[:5]:\n",
    "    print(word)\n",
    "    # initial context by building up the padding characters\n",
    "    context = [0] * block_size\n",
    "    for ch in word+ '.':\n",
    "        idx = char2int[ch]\n",
    "        X.append(context)\n",
    "        Y.append(idx)\n",
    "        # print the context and the next character\n",
    "        print(''.join([int2char[i] for i in context]), '-->', ch)\n",
    "        # update the context by rolling\n",
    "        context = context[1:] + [idx]"
   ]
  },
  {
   "cell_type": "code",
   "execution_count": 18,
   "metadata": {},
   "outputs": [],
   "source": [
    "# convert to tensors\n",
    "X = torch.tensor(X)\n",
    "Y = torch.tensor(Y)"
   ]
  },
  {
   "cell_type": "code",
   "execution_count": 20,
   "metadata": {},
   "outputs": [
    {
     "name": "stdout",
     "output_type": "stream",
     "text": [
      "torch.Size([32, 3]) torch.Size([32]) torch.int64 torch.int64\n"
     ]
    }
   ],
   "source": [
    "# right now 32 = document size, 3 = block size\n",
    "print(X.shape, Y.shape, X.dtype, Y.dtype)"
   ]
  },
  {
   "cell_type": "code",
   "execution_count": 22,
   "metadata": {},
   "outputs": [
    {
     "name": "stdout",
     "output_type": "stream",
     "text": [
      "tensor([[ 0,  0,  0],\n",
      "        [ 0,  0,  5],\n",
      "        [ 0,  5, 13],\n",
      "        [ 5, 13, 13],\n",
      "        [13, 13,  1]]) tensor([ 5, 13, 13,  1,  0])\n"
     ]
    }
   ],
   "source": [
    "print(X[:5], Y[:5])"
   ]
  },
  {
   "cell_type": "code",
   "execution_count": 24,
   "metadata": {},
   "outputs": [
    {
     "name": "stdout",
     "output_type": "stream",
     "text": [
      "torch.Size([27, 2])\n"
     ]
    }
   ],
   "source": [
    "# initialize the lookup table\n",
    "C_lookup = torch.randn(len(char2int), 2, requires_grad=True)\n",
    "print(C_lookup.shape)"
   ]
  },
  {
   "cell_type": "code",
   "execution_count": 25,
   "metadata": {},
   "outputs": [
    {
     "data": {
      "text/plain": [
       "tensor([[ 0.4977,  0.8756],\n",
       "        [-0.4006,  0.6435],\n",
       "        [ 1.7300, -0.0446],\n",
       "        [ 0.0446, -2.9870],\n",
       "        [ 1.9398, -0.2666],\n",
       "        [ 0.0790, -0.2298],\n",
       "        [ 2.2499, -2.9052],\n",
       "        [ 1.3151,  0.2223],\n",
       "        [-0.1359,  1.1480],\n",
       "        [ 1.0357, -0.6063],\n",
       "        [ 0.1686, -1.5691],\n",
       "        [ 0.4391, -1.6887],\n",
       "        [ 0.2008, -1.5794],\n",
       "        [ 0.7514, -0.3242],\n",
       "        [-0.2992,  0.0307],\n",
       "        [-0.3125, -0.0838],\n",
       "        [ 0.5809,  1.7678],\n",
       "        [ 1.1271,  0.8043],\n",
       "        [ 0.3943, -1.1657],\n",
       "        [-0.4073,  2.0113],\n",
       "        [-0.6337, -0.0362],\n",
       "        [ 0.7606,  0.8676],\n",
       "        [-0.5598,  1.4374],\n",
       "        [-0.9409,  0.4591],\n",
       "        [ 0.0696,  0.4772],\n",
       "        [-0.2564,  0.0926],\n",
       "        [-0.1636, -1.1153]], requires_grad=True)"
      ]
     },
     "execution_count": 25,
     "metadata": {},
     "output_type": "execute_result"
    }
   ],
   "source": [
    "C_lookup"
   ]
  },
  {
   "attachments": {},
   "cell_type": "markdown",
   "metadata": {},
   "source": [
    "Now, it's time to have some reflections. Since we are doing a sequence to sequence model. We first need to construct our sequences:\n",
    "\n",
    "- choosing input block size as 3 (rolling window)\n",
    "- choosing output size as 1 (next word)\n",
    "\n",
    "After that, we constructed our look-up table, which is an embedding layer. The embedding layer is a matrix of size (vocab_size, embedding_size). The embedding_size is a hyperparameter. In our case we have \n",
    "\n",
    "- vocab_size = 27\n",
    "- embedding_size = 2 (to keep it simple)\n",
    "\n",
    "Since each input sequence has 3 words, we have 3 embedding vectors."
   ]
  },
  {
   "cell_type": "code",
   "execution_count": 27,
   "metadata": {},
   "outputs": [
    {
     "name": "stdout",
     "output_type": "stream",
     "text": [
      "tensor([0.4977, 0.8756], grad_fn=<SelectBackward0>)\n",
      "tensor([[ 0.0446, -2.9870],\n",
      "        [ 0.0790, -0.2298],\n",
      "        [ 1.0357, -0.6063]], grad_fn=<IndexBackward0>)\n"
     ]
    }
   ],
   "source": [
    "# example of getting embedding vectors\n",
    "print(C_lookup[0])\n",
    "print(C_lookup[[3, 5, 9]])"
   ]
  },
  {
   "cell_type": "code",
   "execution_count": 30,
   "metadata": {},
   "outputs": [
    {
     "name": "stdout",
     "output_type": "stream",
     "text": [
      "torch.Size([32, 3, 2])\n"
     ]
    }
   ],
   "source": [
    "# embedding all the characters in the input sequences\n",
    "X_embed = C_lookup[X]\n",
    "print(X_embed.shape)"
   ]
  },
  {
   "cell_type": "code",
   "execution_count": 35,
   "metadata": {},
   "outputs": [
    {
     "name": "stdout",
     "output_type": "stream",
     "text": [
      "torch.Size([6, 100]) torch.Size([100])\n"
     ]
    }
   ],
   "source": [
    "# create the hidden layer\n",
    "# input dimension = 2x3 = 6, output dimension = 100\n",
    "# set seed for reproducibility\n",
    "torch.manual_seed(42)\n",
    "W1 = torch.randn(6, 100, requires_grad=True)\n",
    "b1 = torch.randn(100, requires_grad=True)\n",
    "print(W1.shape, b1.shape)"
   ]
  },
  {
   "cell_type": "code",
   "execution_count": 36,
   "metadata": {},
   "outputs": [
    {
     "name": "stdout",
     "output_type": "stream",
     "text": [
      "torch.Size([32, 6])\n"
     ]
    }
   ],
   "source": [
    "# reshape the input sequences\n",
    "X_embed = X_embed.view(-1, 6)\n",
    "print(X_embed.shape)"
   ]
  },
  {
   "cell_type": "code",
   "execution_count": 37,
   "metadata": {},
   "outputs": [
    {
     "name": "stdout",
     "output_type": "stream",
     "text": [
      "torch.Size([32, 100])\n"
     ]
    }
   ],
   "source": [
    "# calculate the hidden layer\n",
    "H = torch.tanh(X_embed @ W1 + b1)\n",
    "print(H.shape)"
   ]
  },
  {
   "cell_type": "code",
   "execution_count": 38,
   "metadata": {},
   "outputs": [
    {
     "name": "stdout",
     "output_type": "stream",
     "text": [
      "torch.Size([100, 27]) torch.Size([27])\n"
     ]
    }
   ],
   "source": [
    "# output layer\n",
    "# input dimension = 100, output dimension = 27\n",
    "W2 = torch.randn(100, len(char2int), requires_grad=True)\n",
    "b2 = torch.randn(len(char2int), requires_grad=True)\n",
    "print(W2.shape, b2.shape)"
   ]
  },
  {
   "cell_type": "code",
   "execution_count": 41,
   "metadata": {},
   "outputs": [
    {
     "name": "stdout",
     "output_type": "stream",
     "text": [
      "torch.Size([32, 27])\n",
      "torch.Size([32, 27])\n"
     ]
    }
   ],
   "source": [
    "# calculate the output layer step by step\n",
    "# logistic function\n",
    "logits = H @ W2 + b2\n",
    "print(logits.shape)\n",
    "# exponentiation\n",
    "counts = logits.exp()\n",
    "# normalization\n",
    "probs = counts / counts.sum(dim=1, keepdim=True)\n",
    "print(probs.shape)"
   ]
  },
  {
   "cell_type": "code",
   "execution_count": 43,
   "metadata": {},
   "outputs": [
    {
     "name": "stdout",
     "output_type": "stream",
     "text": [
      "torch.Size([32])\n"
     ]
    }
   ],
   "source": [
    "print(Y.shape)"
   ]
  },
  {
   "cell_type": "code",
   "execution_count": 44,
   "metadata": {},
   "outputs": [
    {
     "name": "stdout",
     "output_type": "stream",
     "text": [
      "tensor([ 5, 13, 13,  1,  0, 15, 12,  9, 22,  9,  1,  0,  1, 22,  1,  0,  9, 19,\n",
      "         1,  2,  5, 12, 12,  1,  0, 19, 15, 16,  8,  9,  1,  0])\n"
     ]
    }
   ],
   "source": [
    "print(Y)"
   ]
  },
  {
   "cell_type": "code",
   "execution_count": 45,
   "metadata": {},
   "outputs": [
    {
     "data": {
      "text/plain": [
       "tensor([1.1295e-11, 3.9312e-02, 3.2966e-02, 6.9774e-08, 1.1928e-11, 3.2660e-10,\n",
       "        5.5922e-07, 9.6566e-01, 1.6914e-14, 6.2913e-08, 9.9986e-01, 1.3768e-06,\n",
       "        1.9034e-08, 3.9118e-08, 2.6768e-02, 5.8802e-01, 1.2138e-08, 4.2902e-09,\n",
       "        2.4035e-10, 1.0108e-11, 1.7069e-06, 7.2179e-06, 6.6518e-14, 5.0524e-10,\n",
       "        3.4076e-12, 1.1541e-17, 1.9069e-05, 9.9405e-07, 7.9744e-08, 6.2392e-04,\n",
       "        1.7824e-07, 1.8046e-08], grad_fn=<IndexBackward0>)"
      ]
     },
     "execution_count": 45,
     "metadata": {},
     "output_type": "execute_result"
    }
   ],
   "source": [
    "# retrieve the probabilities of the next characters\n",
    "probs[torch.arange(len(Y)), Y]"
   ]
  },
  {
   "cell_type": "code",
   "execution_count": 46,
   "metadata": {},
   "outputs": [
    {
     "name": "stdout",
     "output_type": "stream",
     "text": [
      "tensor(16.2359, grad_fn=<NegBackward0>)\n"
     ]
    }
   ],
   "source": [
    "# calculate the loss\n",
    "loss = -probs[torch.arange(len(Y)), Y].log().mean()\n",
    "print(loss)"
   ]
  },
  {
   "cell_type": "code",
   "execution_count": 47,
   "metadata": {},
   "outputs": [],
   "source": [
    "# organize the above steps into a function\n",
    "def forward(X, C_lookup, W1, b1, W2, b2):\n",
    "    # embedding all the characters in the input sequences\n",
    "    X_embed = C_lookup[X]\n",
    "    # reshape the input sequences\n",
    "    X_embed = X_embed.view(-1, 6)\n",
    "    # calculate the hidden layer\n",
    "    H = torch.tanh(X_embed @ W1 + b1)\n",
    "    # calculate the output layer\n",
    "    logits = H @ W2 + b2\n",
    "    # use coross-entropy loss\n",
    "    loss = F.cross_entropy(logits, Y)\n",
    "\n",
    "    return loss"
   ]
  },
  {
   "cell_type": "code",
   "execution_count": 60,
   "metadata": {},
   "outputs": [],
   "source": [
    "# initialize the parameters\n",
    "g_seed = torch.Generator().manual_seed(666)\n",
    "C_lookup = torch.randn(len(char2int), 2, requires_grad=True, generator=g_seed)\n",
    "W1 = torch.randn(6, 100, requires_grad=True, generator=g_seed)\n",
    "b1 = torch.randn(100, requires_grad=True, generator=g_seed)\n",
    "W2 = torch.randn(100, len(char2int), requires_grad=True, generator=g_seed)\n",
    "b2 = torch.randn(len(char2int), requires_grad=True, generator=g_seed)\n",
    "parameters = [C_lookup, W1, b1, W2, b2]"
   ]
  },
  {
   "cell_type": "code",
   "execution_count": 56,
   "metadata": {},
   "outputs": [
    {
     "name": "stdout",
     "output_type": "stream",
     "text": [
      "total parameters: 3481\n"
     ]
    }
   ],
   "source": [
    "# calculate the total number of parameters\n",
    "total_params = sum(p.numel() for p in parameters)\n",
    "print('total parameters:', total_params)"
   ]
  },
  {
   "cell_type": "code",
   "execution_count": 50,
   "metadata": {},
   "outputs": [
    {
     "data": {
      "text/plain": [
       "tensor(13.9521, grad_fn=<NllLossBackward0>)"
      ]
     },
     "execution_count": 50,
     "metadata": {},
     "output_type": "execute_result"
    }
   ],
   "source": [
    "# unpack the parameters with * operator\n",
    "# python is beautiful :)\n",
    "forward(X, *parameters)"
   ]
  },
  {
   "cell_type": "code",
   "execution_count": 63,
   "metadata": {},
   "outputs": [
    {
     "name": "stdout",
     "output_type": "stream",
     "text": [
      "tensor(0.2746, grad_fn=<NllLossBackward0>)\n"
     ]
    }
   ],
   "source": [
    "# let's train the model\n",
    "for _ in range(100):\n",
    "    loss = forward(X, *parameters)\n",
    "    # initialize the gradients\n",
    "    for p in parameters:\n",
    "        p.grad = None\n",
    "    # backpropagation\n",
    "    loss.backward()\n",
    "    # update the parameters\n",
    "    for p in parameters:\n",
    "        p.data -= 0.1 * p.grad\n",
    "\n",
    "print(loss)"
   ]
  },
  {
   "attachments": {},
   "cell_type": "markdown",
   "metadata": {},
   "source": [
    "## All in One"
   ]
  },
  {
   "cell_type": "code",
   "execution_count": 5,
   "metadata": {},
   "outputs": [
    {
     "name": "stdout",
     "output_type": "stream",
     "text": [
      "Number of words: 32033\n"
     ]
    }
   ],
   "source": [
    "# read the dataset\n",
    "words = open('./data/names.txt', 'r').read().splitlines()\n",
    "print('Number of words:', len(words))"
   ]
  },
  {
   "cell_type": "code",
   "execution_count": 6,
   "metadata": {},
   "outputs": [
    {
     "name": "stdout",
     "output_type": "stream",
     "text": [
      "Number of characters: 26\n"
     ]
    }
   ],
   "source": [
    "# build up the dictionary for mapping characters to integers\n",
    "chars = sorted(list(set(''.join(words))))\n",
    "print('Number of characters:', len(chars))\n",
    "# chars to integers\n",
    "char2int = {c: i+1 for i, c in enumerate(chars)}\n",
    "# add . as the padding character\n",
    "char2int['.'] = 0\n",
    "# integers to chars\n",
    "int2char = {i: c for c, i in char2int.items()}"
   ]
  },
  {
   "cell_type": "code",
   "execution_count": 8,
   "metadata": {},
   "outputs": [
    {
     "name": "stdout",
     "output_type": "stream",
     "text": [
      "torch.Size([228146, 3]) torch.Size([228146])\n"
     ]
    }
   ],
   "source": [
    "# build up the dataset \n",
    "# the above method does not add '.'\n",
    "block_size = 3 # the length of sequences of input data\n",
    "X, Y = [], []\n",
    "\n",
    "for word in words:\n",
    "    # initial context by building up the padding characters\n",
    "    context = [0] * block_size\n",
    "    for ch in word+ '.':\n",
    "        idx = char2int[ch]\n",
    "        X.append(context)\n",
    "        Y.append(idx)\n",
    "        # update the context by rolling\n",
    "        context = context[1:] + [idx]\n",
    "\n",
    "# convert to tensors\n",
    "X = torch.tensor(X)\n",
    "Y = torch.tensor(Y)\n",
    "# print out shapes\n",
    "print(X.shape, Y.shape)"
   ]
  },
  {
   "cell_type": "code",
   "execution_count": 12,
   "metadata": {},
   "outputs": [],
   "source": [
    "# initialize the parameters\n",
    "g_seed = torch.Generator().manual_seed(666)\n",
    "C_lookup = torch.randn(len(char2int), 2, requires_grad=True, generator=g_seed)\n",
    "W1 = torch.randn(3*2, 100, requires_grad=True, generator=g_seed)\n",
    "b1 = torch.randn(100, requires_grad=True, generator=g_seed)\n",
    "W2 = torch.randn(100, len(char2int), requires_grad=True, generator=g_seed)\n",
    "b2 = torch.randn(len(char2int), requires_grad=True, generator=g_seed)\n",
    "parameters = [C_lookup, W1, b1, W2, b2]\n"
   ]
  },
  {
   "cell_type": "code",
   "execution_count": 17,
   "metadata": {},
   "outputs": [],
   "source": [
    "# forward function\n",
    "def forward(X, Y, C_lookup, W1, b1, W2, b2):\n",
    "    # embedding all the characters in the input sequences\n",
    "    X_embed = C_lookup[X]\n",
    "    # reshape the input sequences\n",
    "    X_embed = X_embed.view(-1, 3*2)\n",
    "    # calculate the hidden layer\n",
    "    H = torch.tanh(X_embed @ W1 + b1)\n",
    "    # calculate the output layer\n",
    "    logits = H @ W2 + b2\n",
    "    # use coross-entropy loss\n",
    "    loss = F.cross_entropy(logits, Y)\n",
    "\n",
    "    return loss"
   ]
  },
  {
   "cell_type": "code",
   "execution_count": 15,
   "metadata": {},
   "outputs": [
    {
     "name": "stdout",
     "output_type": "stream",
     "text": [
      "9.686071395874023\n",
      "9.390002250671387\n",
      "9.122454643249512\n",
      "8.878519058227539\n",
      "8.653387069702148\n",
      "8.44306468963623\n",
      "8.244659423828125\n",
      "8.056276321411133\n",
      "7.876688480377197\n",
      "7.705013275146484\n"
     ]
    }
   ],
   "source": [
    "# let's train the model\n",
    "for _ in range(10):\n",
    "    loss = forward(X, Y, *parameters)\n",
    "    print(loss.item())\n",
    "    # initialize the gradients\n",
    "    for p in parameters:\n",
    "        p.grad = None\n",
    "    # backpropagation\n",
    "    loss.backward()\n",
    "    # update the parameters\n",
    "    for p in parameters:\n",
    "        p.data -= 0.1 * p.grad"
   ]
  },
  {
   "cell_type": "code",
   "execution_count": 19,
   "metadata": {},
   "outputs": [
    {
     "name": "stdout",
     "output_type": "stream",
     "text": [
      "6.858792781829834\n",
      "6.117305278778076\n",
      "5.854352951049805\n",
      "5.253719806671143\n",
      "5.9595627784729\n",
      "4.156741142272949\n",
      "7.477077484130859\n",
      "5.765897750854492\n",
      "5.663918495178223\n",
      "5.589600563049316\n",
      "6.22504997253418\n",
      "7.884394645690918\n",
      "5.47610330581665\n",
      "4.721162796020508\n",
      "7.825798034667969\n",
      "4.750321865081787\n",
      "5.638583183288574\n",
      "4.828993797302246\n",
      "5.998358726501465\n",
      "5.030580520629883\n",
      "5.705745697021484\n",
      "3.86173152923584\n",
      "4.3451104164123535\n",
      "5.345879077911377\n",
      "4.925345420837402\n",
      "3.935610771179199\n",
      "4.996243000030518\n",
      "4.439213275909424\n",
      "3.8855483531951904\n",
      "4.610511779785156\n",
      "4.562004089355469\n",
      "3.7052838802337646\n",
      "4.102949142456055\n",
      "4.810152053833008\n",
      "4.035556793212891\n",
      "3.5104806423187256\n",
      "3.512312889099121\n",
      "3.422577381134033\n",
      "3.5958657264709473\n",
      "4.772052764892578\n",
      "4.130013942718506\n",
      "4.189109802246094\n",
      "4.661190986633301\n",
      "3.7961196899414062\n",
      "4.055449485778809\n",
      "3.8479504585266113\n",
      "4.953437805175781\n",
      "3.7354495525360107\n",
      "3.8950695991516113\n",
      "3.8396353721618652\n"
     ]
    }
   ],
   "source": [
    "# train with minibatches\n",
    "for _ in range(50):\n",
    "\n",
    "    # sample a minibatch of 32 examples\n",
    "    idx = torch.randint(len(X), (32,))\n",
    "    # forward pass\n",
    "    loss = forward(X[idx], Y[idx], *parameters)\n",
    "    print(loss.item())\n",
    "    # initialize the gradients\n",
    "    for p in parameters:\n",
    "        p.grad = None\n",
    "    # backpropagation\n",
    "    loss.backward()\n",
    "    # update the parameters\n",
    "    for p in parameters:\n",
    "        p.data -= 0.1 * p.grad"
   ]
  },
  {
   "cell_type": "code",
   "execution_count": 31,
   "metadata": {},
   "outputs": [],
   "source": [
    "# train with different learning rates\n",
    "alpha_log = torch.linspace(-3, 0, 1000)\n",
    "alpha = 10**alpha_log\n",
    "\n",
    "# initialize the parameters\n",
    "# initialize the parameters\n",
    "g_seed = torch.Generator().manual_seed(666)\n",
    "C_lookup = torch.randn(len(char2int), 2, requires_grad=True, generator=g_seed)\n",
    "W1 = torch.randn(3*2, 100, requires_grad=True, generator=g_seed)\n",
    "b1 = torch.randn(100, requires_grad=True, generator=g_seed)\n",
    "W2 = torch.randn(100, len(char2int), requires_grad=True, generator=g_seed)\n",
    "b2 = torch.randn(len(char2int), requires_grad=True, generator=g_seed)\n",
    "parameters = [C_lookup, W1, b1, W2, b2]\n",
    "\n",
    "# train with different learning rates\n",
    "alpha_log_list = []\n",
    "alpha_list = []\n",
    "loss_list = []\n",
    "for i in range(1000):\n",
    "    # construct the minibatch\n",
    "    idx = torch.randint(len(X), (32,))\n",
    "    # forward pass\n",
    "    loss = forward(X[idx], Y[idx], *parameters)\n",
    "    # initialize the gradients\n",
    "    for p in parameters:\n",
    "        p.grad = None\n",
    "    # backpropagation\n",
    "    loss.backward()\n",
    "\n",
    "    # update the parameters\n",
    "    # get the learning rate\n",
    "    alpha_temp = alpha[i]\n",
    "    for p in parameters:\n",
    "        p.data -= alpha_temp * p.grad\n",
    "\n",
    "    # record the loss and learning rate\n",
    "    alpha_log_list.append(alpha_log[i])\n",
    "    alpha_list.append(alpha_temp)\n",
    "    loss_list.append(loss.item())"
   ]
  },
  {
   "cell_type": "code",
   "execution_count": 32,
   "metadata": {},
   "outputs": [
    {
     "data": {
      "text/plain": [
       "Text(0, 0.5, 'loss')"
      ]
     },
     "execution_count": 32,
     "metadata": {},
     "output_type": "execute_result"
    },
    {
     "data": {
      "image/png": "[encoded data removed]",
      "text/plain": [
       "<Figure size 648x360 with 2 Axes>"
      ]
     },
     "metadata": {
      "image/png": {
       "height": 316,
       "width": 549
      },
      "needs_background": "light"
     },
     "output_type": "display_data"
    }
   ],
   "source": [
    "# plot the loss against the learning rate\n",
    "fig, ax = plt.subplots(1, 2, figsize=(9, 5))\n",
    "ax[0].plot(alpha_log_list, loss_list)\n",
    "ax[0].set_xlabel('log10(learning rate)')\n",
    "ax[0].set_ylabel('loss')\n",
    "ax[1].plot(alpha_list, loss_list)\n",
    "ax[1].set_xlabel('learning rate')\n",
    "ax[1].set_ylabel('loss')"
   ]
  },
  {
   "attachments": {},
   "cell_type": "markdown",
   "metadata": {},
   "source": [
    "## Split the dataset into train and test"
   ]
  },
  {
   "cell_type": "code",
   "execution_count": 33,
   "metadata": {},
   "outputs": [],
   "source": [
    "# split the dataset into training and validation sets and test set\n",
    "# 80% training, 10% validation, 10% test\n",
    "n_train = int(len(X) * 0.8)\n",
    "n_valid = int(len(X) * 0.1)\n",
    "n_test = len(X) - n_train - n_valid\n",
    "\n",
    "# shuffle the dataset\n",
    "idx = torch.randperm(len(X))\n",
    "X = X[idx]\n",
    "Y = Y[idx]\n",
    "\n",
    "# split the dataset\n",
    "\n",
    "X_train = X[:n_train]\n",
    "Y_train = Y[:n_train]\n",
    "X_valid = X[n_train:n_train+n_valid]\n",
    "Y_valid = Y[n_train:n_train+n_valid]\n",
    "X_test = X[n_train+n_valid:]\n",
    "Y_test = Y[n_train+n_valid:]"
   ]
  },
  {
   "cell_type": "code",
   "execution_count": 35,
   "metadata": {},
   "outputs": [
    {
     "name": "stdout",
     "output_type": "stream",
     "text": [
      "torch.Size([182516, 3]) torch.Size([182516])\n",
      "torch.Size([22814, 3]) torch.Size([22814])\n",
      "torch.Size([22816, 3]) torch.Size([22816])\n"
     ]
    }
   ],
   "source": [
    "print(X_train.shape, Y_train.shape)\n",
    "print(X_valid.shape, Y_valid.shape)\n",
    "print(X_test.shape, Y_test.shape)"
   ]
  },
  {
   "cell_type": "code",
   "execution_count": 76,
   "metadata": {},
   "outputs": [],
   "source": [
    "# train the model\n",
    "\n",
    "# initialize the parameters\n",
    "g_seed = torch.Generator().manual_seed(666)\n",
    "C_lookup = torch.randn(len(char2int), 2, requires_grad=True, generator=g_seed)\n",
    "W1 = torch.randn(3*2, 100, requires_grad=True, generator=g_seed)\n",
    "b1 = torch.randn(100, requires_grad=True, generator=g_seed)\n",
    "W2 = torch.randn(100, len(char2int), requires_grad=True, generator=g_seed)\n",
    "b2 = torch.randn(len(char2int), requires_grad=True, generator=g_seed)\n",
    "parameters = [C_lookup, W1, b1, W2, b2]\n",
    "\n",
    "for _ in range(30000):\n",
    "    # minibatch\n",
    "    idx = torch.randint(len(X_train), (32,))\n",
    "    # forward pass\n",
    "    loss = forward(X_train[idx], Y_train[idx], *parameters)\n",
    "    # initialize the gradients\n",
    "    for p in parameters:\n",
    "        p.grad = None\n",
    "    # backpropagation\n",
    "    loss.backward()\n",
    "    # update the parameters\n",
    "    for p in parameters:\n",
    "        p.data -= 0.1 * p.grad"
   ]
  },
  {
   "cell_type": "code",
   "execution_count": 72,
   "metadata": {},
   "outputs": [
    {
     "name": "stdout",
     "output_type": "stream",
     "text": [
      "2.340245485305786\n"
     ]
    }
   ],
   "source": [
    "# print the training loss\n",
    "# it takes more than 9 seconds to train the model\n",
    "print(loss.item())"
   ]
  },
  {
   "cell_type": "code",
   "execution_count": 74,
   "metadata": {},
   "outputs": [
    {
     "name": "stdout",
     "output_type": "stream",
     "text": [
      "Training on GPU\n"
     ]
    }
   ],
   "source": [
    "# check if a GPU is available\n",
    "if torch.cuda.is_available():\n",
    "    device = torch.device(\"cuda\")\n",
    "    print(\"Training on GPU\")\n",
    "else:\n",
    "    device = torch.device(\"cpu\")\n",
    "    print(\"Training on CPU\")\n",
    "\n",
    "# initialize the parameters\n",
    "g_seed = torch.Generator().manual_seed(666)\n",
    "C_lookup = torch.randn(len(char2int), 2, requires_grad=True, generator=g_seed)\n",
    "W1 = torch.randn(3*2, 100, requires_grad=True, generator=g_seed)\n",
    "b1 = torch.randn(100, requires_grad=True, generator=g_seed)\n",
    "W2 = torch.randn(100, len(char2int), requires_grad=True, generator=g_seed)\n",
    "b2 = torch.randn(len(char2int), requires_grad=True, generator=g_seed)\n",
    "\n",
    "# move the model parameters and data to the device\n",
    "C_lookup = C_lookup.to(device)\n",
    "W1 = W1.to(device)\n",
    "b1 = b1.to(device)\n",
    "W2 = W2.to(device)\n",
    "b2 = b2.to(device)\n",
    "\n",
    "parameters = [C_lookup, W1, b1, W2, b2]\n"
   ]
  },
  {
   "cell_type": "code",
   "execution_count": 75,
   "metadata": {},
   "outputs": [],
   "source": [
    "for _ in range(30000):\n",
    "    # minibatch\n",
    "    idx = torch.randint(len(X_train), (32,))\n",
    "    # forward pass\n",
    "    loss = forward(X_train[idx].to(device), Y_train[idx].to(device), C_lookup, W1, b1, W2, b2)\n",
    "    # initialize the gradients\n",
    "    for p in parameters:\n",
    "        p.grad = None\n",
    "\n",
    "    # backpropagation\n",
    "    loss.backward()\n",
    "    # update the parameters\n",
    "    for p in parameters:\n",
    "        # retain gradient \n",
    "        p.retain_grad()\n",
    "        if p.grad is not None:\n",
    "            p.data -= 0.1 * p.grad"
   ]
  },
  {
   "cell_type": "code",
   "execution_count": 64,
   "metadata": {},
   "outputs": [
    {
     "name": "stdout",
     "output_type": "stream",
     "text": [
      "2.260181188583374\n"
     ]
    }
   ],
   "source": [
    "# print the training loss\n",
    "# it takes 14.8 seconds to train the model\n",
    "print(loss.item())"
   ]
  },
  {
   "cell_type": "code",
   "execution_count": 70,
   "metadata": {},
   "outputs": [],
   "source": [
    "# iteraration = 30000\n",
    "# batch size = 3200\n",
    "# GPU: 47.4 seconds\n",
    "# CPU: 50.6 seconds\n",
    "# batch size = 32\n",
    "# GPU: 14.8 seconds\n",
    "# CPU: 9 seconds"
   ]
  },
  {
   "cell_type": "code",
   "execution_count": 77,
   "metadata": {},
   "outputs": [
    {
     "name": "stdout",
     "output_type": "stream",
     "text": [
      "2.3921053409576416\n"
     ]
    }
   ],
   "source": [
    "# validation\n",
    "forward_val = forward(X_valid, Y_valid, *parameters)\n",
    "print(forward_val.item())"
   ]
  },
  {
   "attachments": {},
   "cell_type": "markdown",
   "metadata": {},
   "source": [
    "Becasue the trainning loss is smaller than the validation loss, we can say that the model is underfitting. We can try to increase the model complexity by adding more layers or increase the number of hidden units."
   ]
  },
  {
   "cell_type": "code",
   "execution_count": 103,
   "metadata": {},
   "outputs": [
    {
     "name": "stdout",
     "output_type": "stream",
     "text": [
      "3481\n"
     ]
    }
   ],
   "source": [
    "# increase the size of the hidden layer\n",
    "# train the model\n",
    "\n",
    "# initialize the parameters\n",
    "g_seed = torch.Generator().manual_seed(666)\n",
    "C_lookup = torch.randn(len(char2int), 2, requires_grad=True, generator=g_seed)\n",
    "W1 = torch.randn(3*2, 100, requires_grad=True, generator=g_seed)\n",
    "b1 = torch.randn(100, requires_grad=True, generator=g_seed)\n",
    "W2 = torch.randn(100, len(char2int), requires_grad=True, generator=g_seed)\n",
    "b2 = torch.randn(len(char2int), requires_grad=True, generator=g_seed)\n",
    "parameters = [C_lookup, W1, b1, W2, b2]\n",
    "\n",
    "# print out the number of parameters\n",
    "print(sum([p.numel() for p in parameters]))\n",
    "\n",
    "# track loss and steps\n",
    "losses = []\n",
    "steps = []\n",
    "\n",
    "for i in range(30000):\n",
    "    # minibatch\n",
    "    idx = torch.randint(len(X_train), (32,))\n",
    "    # forward pass\n",
    "    loss = forward(X_train[idx], Y_train[idx], *parameters)\n",
    "    # initialize the gradients\n",
    "    for p in parameters:\n",
    "        p.grad = None\n",
    "    # backpropagation\n",
    "    loss.backward()\n",
    "    # update the parameters\n",
    "    for p in parameters:\n",
    "        p.data -= 0.01 * p.grad\n",
    "\n",
    "    # track loss and steps\n",
    "    steps.append(i)\n",
    "    losses.append(loss.item())"
   ]
  },
  {
   "cell_type": "code",
   "execution_count": 104,
   "metadata": {},
   "outputs": [
    {
     "data": {
      "text/plain": [
       "[<matplotlib.lines.Line2D at 0x7fa609a43dc0>]"
      ]
     },
     "execution_count": 104,
     "metadata": {},
     "output_type": "execute_result"
    },
    {
     "data": {
      "image/png": "[encoded data removed]",
      "text/plain": [
       "<Figure size 432x288 with 1 Axes>"
      ]
     },
     "metadata": {
      "image/png": {
       "height": 248,
       "width": 369
      },
      "needs_background": "light"
     },
     "output_type": "display_data"
    }
   ],
   "source": [
    "# plot the loss\n",
    "plt.plot(steps, losses)"
   ]
  },
  {
   "cell_type": "code",
   "execution_count": 105,
   "metadata": {},
   "outputs": [
    {
     "name": "stdout",
     "output_type": "stream",
     "text": [
      "2.4546666145324707\n"
     ]
    }
   ],
   "source": [
    "# validation\n",
    "forward_val = forward(X_valid, Y_valid, *parameters)\n",
    "print(forward_val.item())"
   ]
  },
  {
   "cell_type": "code",
   "execution_count": 106,
   "metadata": {},
   "outputs": [
    {
     "data": {
      "image/png": "[encoded data removed]",
      "text/plain": [
       "<Figure size 576x576 with 1 Axes>"
      ]
     },
     "metadata": {
      "image/png": {
       "height": 465,
       "width": 483
      },
      "needs_background": "light"
     },
     "output_type": "display_data"
    }
   ],
   "source": [
    "# visualize the embeddings\n",
    "plt.figure(figsize=(8, 8))\n",
    "plt.scatter(C_lookup[:, 0].data, C_lookup[:, 1].data, s=200)\n",
    "for i, char in enumerate(char2int):\n",
    "    plt.text(C_lookup[i, 0], C_lookup[i, 1], char, va='center', ha='center', color='white')\n",
    "plt.grid('minor')"
   ]
  },
  {
   "cell_type": "code",
   "execution_count": 114,
   "metadata": {},
   "outputs": [
    {
     "name": "stdout",
     "output_type": "stream",
     "text": [
      "11897\n"
     ]
    }
   ],
   "source": [
    "# scale up \n",
    "# increase the size of the hidden layer\n",
    "# train the model\n",
    "\n",
    "# initialize the parameters\n",
    "g_seed = torch.Generator().manual_seed(666)\n",
    "C_lookup = torch.randn(len(char2int), 10, requires_grad=True, generator=g_seed)\n",
    "W1 = torch.randn(3*10, 200, requires_grad=True, generator=g_seed)\n",
    "b1 = torch.randn(200, requires_grad=True, generator=g_seed)\n",
    "W2 = torch.randn(200, len(char2int), requires_grad=True, generator=g_seed)\n",
    "b2 = torch.randn(len(char2int), requires_grad=True, generator=g_seed)\n",
    "parameters = [C_lookup, W1, b1, W2, b2]\n",
    "\n",
    "# print out the number of parameters\n",
    "print(sum([p.numel() for p in parameters]))\n",
    "\n",
    "\n",
    "# forward function\n",
    "def forward(X, Y, C_lookup, W1, b1, W2, b2):\n",
    "    # embedding all the characters in the input sequences\n",
    "    X_embed = C_lookup[X]\n",
    "    # reshape the input sequences\n",
    "    X_embed = X_embed.view(-1, 3*10)\n",
    "    # calculate the hidden layer\n",
    "    H = torch.tanh(X_embed @ W1 + b1)\n",
    "    # calculate the output layer\n",
    "    logits = H @ W2 + b2\n",
    "    # use coross-entropy loss\n",
    "    loss = F.cross_entropy(logits, Y)\n",
    "\n",
    "    return loss\n",
    "\n",
    "# track loss and steps\n",
    "losses = []\n",
    "steps = []\n",
    "\n",
    "for i in range(80000):\n",
    "    # minibatch\n",
    "    idx = torch.randint(len(X_train), (32,))\n",
    "    # forward pass\n",
    "    loss = forward(X_train[idx], Y_train[idx], *parameters)\n",
    "    # initialize the gradients\n",
    "    for p in parameters:\n",
    "        p.grad = None\n",
    "    # backpropagation\n",
    "    loss.backward()\n",
    "    # update the parameters\n",
    "    for p in parameters:\n",
    "        p.data -= 0.01 * p.grad\n",
    "\n",
    "    # track loss and steps\n",
    "    steps.append(i)\n",
    "    # track the log of the loss\n",
    "    losses.append(loss.log10().item())"
   ]
  },
  {
   "cell_type": "code",
   "execution_count": 115,
   "metadata": {},
   "outputs": [
    {
     "data": {
      "text/plain": [
       "[<matplotlib.lines.Line2D at 0x7fa6090e4be0>]"
      ]
     },
     "execution_count": 115,
     "metadata": {},
     "output_type": "execute_result"
    },
    {
     "data": {
      "image/png": "[encoded data removed]",
      "text/plain": [
       "<Figure size 432x288 with 1 Axes>"
      ]
     },
     "metadata": {
      "image/png": {
       "height": 248,
       "width": 372
      },
      "needs_background": "light"
     },
     "output_type": "display_data"
    }
   ],
   "source": [
    "# plot the loss\n",
    "plt.plot(steps, losses)"
   ]
  },
  {
   "cell_type": "code",
   "execution_count": 116,
   "metadata": {},
   "outputs": [
    {
     "name": "stdout",
     "output_type": "stream",
     "text": [
      "2.28985857963562\n"
     ]
    }
   ],
   "source": [
    "# print the last loss\n",
    "print(loss.item())"
   ]
  },
  {
   "cell_type": "code",
   "execution_count": 117,
   "metadata": {},
   "outputs": [
    {
     "name": "stdout",
     "output_type": "stream",
     "text": [
      "2.3753321170806885\n"
     ]
    }
   ],
   "source": [
    "# validation\n",
    "forward_val = forward(X_valid, Y_valid, *parameters)\n",
    "print(forward_val.item())"
   ]
  },
  {
   "cell_type": "code",
   "execution_count": 119,
   "metadata": {},
   "outputs": [
    {
     "name": "stdout",
     "output_type": "stream",
     "text": [
      "torch.Size([30, 200])\n"
     ]
    }
   ],
   "source": [
    "print(W1.shape)"
   ]
  },
  {
   "cell_type": "code",
   "execution_count": 126,
   "metadata": {},
   "outputs": [
    {
     "name": "stdout",
     "output_type": "stream",
     "text": [
      "asyah\n",
      "yran\n",
      "nevero\n",
      "lin\n",
      "yiv\n",
      "ada\n",
      "tzanio\n",
      "maylon\n",
      "tolemine\n",
      "fartreva\n",
      "blaikalijinie\n",
      "zowibylla\n",
      "wylynnyeh\n",
      "war\n",
      "mamyene\n",
      "his\n",
      "mawsa\n",
      "jariah\n",
      "fiye\n",
      "jamesh\n"
     ]
    }
   ],
   "source": [
    "# sample from the model\n",
    "g_seed = torch.Generator().manual_seed(777)\n",
    "for _ in range(20):\n",
    "    predicts = []\n",
    "    context = [0] * block_size\n",
    "    while True:\n",
    "        # get the embedding of the context\n",
    "        context_embed = C_lookup[torch.tensor(context)]\n",
    "        # reshape the context\n",
    "        context_embed = context_embed.view(-1, 3*10)\n",
    "        # calculate the hidden layer\n",
    "        H = torch.tanh(context_embed @ W1 + b1)\n",
    "        # calculate probabilities of the next character\n",
    "        probs = F.softmax(H @ W2 + b2, dim=1)\n",
    "        # sample from the distribution\n",
    "        next_char = torch.multinomial(probs, num_samples=1, generator=g_seed).item()\n",
    "        # append the sampled character to the predicts\n",
    "        predicts.append(next_char)\n",
    "        # update the context\n",
    "        context = context[1:] + [next_char]\n",
    "        if next_char == 0:\n",
    "            break\n",
    "    # print the sampled sequence\n",
    "    print(''.join([int2char[i] for i in predicts[:-1]]))"
   ]
  },
  {
   "cell_type": "code",
   "execution_count": 130,
   "metadata": {},
   "outputs": [
    {
     "data": {
      "text/plain": [
       "157640"
      ]
     },
     "execution_count": 130,
     "metadata": {},
     "output_type": "execute_result"
    }
   ],
   "source": [
    "10075 + 46775  + 7125 + 6892 + 5400 + 76820 + 4553"
   ]
  },
  {
   "cell_type": "code",
   "execution_count": null,
   "metadata": {},
   "outputs": [],
   "source": []
  }
 ],
 "metadata": {
  "kernelspec": {
   "display_name": "nlpvenv",
   "language": "python",
   "name": "python3"
  },
  "language_info": {
   "codemirror_mode": {
    "name": "ipython",
    "version": 3
   },
   "file_extension": ".py",
   "mimetype": "text/x-python",
   "name": "python",
   "nbconvert_exporter": "python",
   "pygments_lexer": "ipython3",
   "version": "3.9.5"
  },
  "orig_nbformat": 4
 },
 "nbformat": 4,
 "nbformat_minor": 2
}
