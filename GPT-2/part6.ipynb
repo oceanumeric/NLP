{
 "cells": [
  {
   "attachments": {},
   "cell_type": "markdown",
   "metadata": {},
   "source": [
    "# WaveNet"
   ]
  },
  {
   "cell_type": "code",
   "execution_count": 1,
   "metadata": {},
   "outputs": [],
   "source": [
    "import random\n",
    "import torch\n",
    "import torch.nn.functional as F\n",
    "import numpy as np\n",
    "import matplotlib.pyplot as plt\n",
    "# retina display\n",
    "%config InlineBackend.figure_format = 'retina'"
   ]
  },
  {
   "cell_type": "code",
   "execution_count": 8,
   "metadata": {},
   "outputs": [],
   "source": [
    "# write up your own neural network\n",
    "class Linear: \n",
    "\n",
    "    def __init__(self, fan_in, fan_out, bias=True):\n",
    "        self.weight = torch.randn(fan_in, fan_out) / fan_in ** 0.5\n",
    "        self.bias = torch.zeros(fan_out) if bias else None\n",
    "\n",
    "    def __call__(self, x):\n",
    "        self.out = x @ self.weight\n",
    "        if self.bias is not None:\n",
    "            self.out += self.bias\n",
    "        return self.out\n",
    "    \n",
    "    def parameters(self):\n",
    "        return [self.weight, self.bias] if self.bias is not None else [self.weight]"
   ]
  },
  {
   "cell_type": "code",
   "execution_count": 87,
   "metadata": {},
   "outputs": [],
   "source": [
    "# batchnorm1d\n",
    "class BatchNorm1d:\n",
    "\n",
    "    def __init__(self, dim, eps=1e-5, momentum=0.1):\n",
    "        self.eps = eps\n",
    "        self.momentum = momentum\n",
    "        self.training = True\n",
    "        # gamma and beta are learnable parameters\n",
    "        self.gamma = torch.ones(dim)\n",
    "        self.beta = torch.zeros(dim)\n",
    "        # ema_mean and ema_var are not learnable\n",
    "        self.ema_mean = torch.zeros(dim)\n",
    "        self.ema_var = torch.ones(dim)\n",
    "\n",
    "    def __call__(self, x):\n",
    "        # forward pass\n",
    "        if self.training:\n",
    "            if x.ndim == 2:\n",
    "                dim=0\n",
    "            elif x.ndim == 3:\n",
    "                dim=(0, 1)\n",
    "            # calculate mean and var\n",
    "            x_mean = x.mean(dim, keepdim=True)\n",
    "            x_var = x.var(dim, keepdim=True)\n",
    "        else:\n",
    "            # use ema_mean and ema_var during inference\n",
    "            x_mean = self.ema_mean\n",
    "            x_var = self.ema_var\n",
    "        # normalize the input\n",
    "        x_hat = (x - x_mean) / (x_var + self.eps) ** 0.5\n",
    "        self.out = self.gamma * x_hat + self.beta\n",
    "\n",
    "        # update ema_mean and ema_var\n",
    "        if self.training:\n",
    "            with torch.no_grad():\n",
    "                # weighted average between data mean/var and ema_mean/var\n",
    "                # where ema_mean/var is the weighted average of previous\n",
    "                # ema_mean/var and current data mean/var\n",
    "                # you can think of it as a low pass filter\n",
    "                self.ema_mean = self.momentum * self.ema_mean + (1 - self.momentum) * x_mean\n",
    "                self.ema_var = self.momentum * self.ema_var + (1 - self.momentum) * x_var\n",
    "        return self.out\n",
    "    \n",
    "    def parameters(self):\n",
    "        return [self.gamma, self.beta]"
   ]
  },
  {
   "cell_type": "code",
   "execution_count": 10,
   "metadata": {},
   "outputs": [],
   "source": [
    "# tahn activation\n",
    "class Tanh:\n",
    "    \n",
    "        def __call__(self, x):\n",
    "            self.out = torch.tanh(x)\n",
    "            return self.out\n",
    "        \n",
    "        def parameters(self):\n",
    "            return []"
   ]
  },
  {
   "cell_type": "code",
   "execution_count": 26,
   "metadata": {},
   "outputs": [],
   "source": [
    "# -----------------------------------------------------------------------------------------------\n",
    "class Embedding:\n",
    "  \n",
    "  def __init__(self, num_embeddings, embedding_dim):\n",
    "    self.weight = torch.randn((num_embeddings, embedding_dim))\n",
    "    \n",
    "  def __call__(self, IX):\n",
    "    self.out = self.weight[IX]\n",
    "    return self.out\n",
    "  \n",
    "  def parameters(self):\n",
    "    return [self.weight]\n",
    "\n",
    "# -----------------------------------------------------------------------------------------------\n",
    "class Flatten:\n",
    "\n",
    "  def __call__(self, x):\n",
    "    self.out = x.view(x.shape[0], -1)\n",
    "    return self.out\n",
    "  \n",
    "  def parameters(self):\n",
    "    return []"
   ]
  },
  {
   "cell_type": "code",
   "execution_count": 36,
   "metadata": {},
   "outputs": [],
   "source": [
    "class Sequential: \n",
    "\n",
    "    def __init__(self, layers):\n",
    "        # layers is a list of layers\n",
    "        self.layers = layers\n",
    "\n",
    "    def __call__(self, x):\n",
    "        for layer in self.layers:\n",
    "            x = layer(x)\n",
    "        self.out = x\n",
    "        return self.out\n",
    "    \n",
    "    def parameters(self):\n",
    "        return [p for layer in self.layers for p in layer.parameters()]"
   ]
  },
  {
   "cell_type": "code",
   "execution_count": 5,
   "metadata": {},
   "outputs": [
    {
     "name": "stdout",
     "output_type": "stream",
     "text": [
      "Number of words: 32033\n"
     ]
    }
   ],
   "source": [
    "# read the dataset\n",
    "# read the dataset\n",
    "words = open('./data/names.txt', 'r').read().splitlines()\n",
    "print('Number of words:', len(words))"
   ]
  },
  {
   "cell_type": "code",
   "execution_count": 6,
   "metadata": {},
   "outputs": [
    {
     "name": "stdout",
     "output_type": "stream",
     "text": [
      "Number of characters: 26\n"
     ]
    }
   ],
   "source": [
    "# build up the dictionary for mapping characters to integers\n",
    "chars = sorted(list(set(''.join(words))))\n",
    "print('Number of characters:', len(chars))\n",
    "# chars to integers\n",
    "char2int = {c: i+1 for i, c in enumerate(chars)}\n",
    "# add . as the padding character\n",
    "char2int['.'] = 0\n",
    "# integers to chars\n",
    "int2char = {i: c for c, i in char2int.items()}\n",
    "# vocabulary size\n",
    "vocab_size = len(char2int)"
   ]
  },
  {
   "cell_type": "code",
   "execution_count": 7,
   "metadata": {},
   "outputs": [],
   "source": [
    "# build the dataset\n",
    "block_size = 3 \n",
    "\n",
    "def build_dataset(words):\n",
    "    X, Y = [], []\n",
    "    for word in words:\n",
    "        # add . as the padding character to the beginning of the word\n",
    "        context = [0] * block_size\n",
    "        for char in word + '.':\n",
    "            X.append(context)\n",
    "            Y.append(char2int[char])\n",
    "            # update the context\n",
    "            context = context[1:] + [char2int[char]]\n",
    "    # convert to tensors\n",
    "    X = torch.tensor(X)\n",
    "    Y = torch.tensor(Y)\n",
    "    print('X:', X.shape, 'Y:', Y.shape)\n",
    "    return X, Y"
   ]
  },
  {
   "cell_type": "code",
   "execution_count": 16,
   "metadata": {},
   "outputs": [
    {
     "name": "stdout",
     "output_type": "stream",
     "text": [
      "X: torch.Size([182426, 3]) Y: torch.Size([182426])\n",
      "X: torch.Size([22807, 3]) Y: torch.Size([22807])\n",
      "X: torch.Size([22913, 3]) Y: torch.Size([22913])\n"
     ]
    }
   ],
   "source": [
    "# split the dataset into training and validation sets\n",
    "# 80%, 10%, 10%\n",
    "# set the random seed\n",
    "random.seed(666)\n",
    "# shuffle the words\n",
    "random.shuffle(words)\n",
    "# split the words\n",
    "train_words = words[:int(0.8*len(words))]\n",
    "val_words = words[int(0.8*len(words)):int(0.9*len(words))]\n",
    "test_words = words[int(0.9*len(words)):]\n",
    "\n",
    "# build the datasets\n",
    "X_train, Y_train = build_dataset(train_words)\n",
    "X_val, Y_val = build_dataset(val_words)\n",
    "X_test, Y_test = build_dataset(test_words)"
   ]
  },
  {
   "cell_type": "code",
   "execution_count": 11,
   "metadata": {},
   "outputs": [
    {
     "data": {
      "text/plain": [
       "<torch._C.Generator at 0x7f7960b57090>"
      ]
     },
     "execution_count": 11,
     "metadata": {},
     "output_type": "execute_result"
    }
   ],
   "source": [
    "# set seed\n",
    "torch.manual_seed(42)"
   ]
  },
  {
   "cell_type": "code",
   "execution_count": 43,
   "metadata": {},
   "outputs": [
    {
     "name": "stdout",
     "output_type": "stream",
     "text": [
      "Number of parameters: 12097\n"
     ]
    }
   ],
   "source": [
    "# train the model\n",
    "n_embed = 10\n",
    "n_hidden = 200 \n",
    "# layers = [\n",
    "#     Embedding(vocab_size, n_embed),\n",
    "#     Flatten(),\n",
    "#     Linear(n_embed*block_size, n_hidden, bias=False), BatchNorm1d(n_hidden), Tanh(),\n",
    "#     Linear(n_hidden,vocab_size)\n",
    "# ]\n",
    "\n",
    "model = Sequential([\n",
    "    Embedding(vocab_size, n_embed),\n",
    "    Flatten(),\n",
    "    Linear(n_embed*block_size, n_hidden, bias=False), BatchNorm1d(n_hidden), Tanh(),\n",
    "    Linear(n_hidden,vocab_size)\n",
    "])\n",
    "\n",
    "with torch.no_grad():\n",
    "    # last layer is less confident, which means the weight is smaller\n",
    "    model.layers[-1].weight *= 0.1\n",
    "\n",
    "\n",
    "# collect all the parameters\n",
    "params = model.parameters()\n",
    "# print the number of parameters\n",
    "print('Number of parameters:', sum(p.numel() for p in params))\n",
    "# set gradient \n",
    "for p in params:\n",
    "    p.requires_grad = True"
   ]
  },
  {
   "cell_type": "code",
   "execution_count": 44,
   "metadata": {},
   "outputs": [
    {
     "name": "stdout",
     "output_type": "stream",
     "text": [
      "Step       0/ 200000, loss 3.3005\n",
      "Step   10000/ 200000, loss 2.4692\n",
      "Step   20000/ 200000, loss 2.2619\n",
      "Step   30000/ 200000, loss 2.2012\n",
      "Step   40000/ 200000, loss 1.7796\n",
      "Step   50000/ 200000, loss 2.1265\n",
      "Step   60000/ 200000, loss 2.2633\n",
      "Step   70000/ 200000, loss 2.2520\n",
      "Step   80000/ 200000, loss 2.0961\n",
      "Step   90000/ 200000, loss 2.2461\n",
      "Step  100000/ 200000, loss 1.6595\n",
      "Step  110000/ 200000, loss 1.8662\n",
      "Step  120000/ 200000, loss 2.0491\n",
      "Step  130000/ 200000, loss 2.2018\n",
      "Step  140000/ 200000, loss 2.2331\n",
      "Step  150000/ 200000, loss 2.1759\n",
      "Step  160000/ 200000, loss 2.2159\n",
      "Step  170000/ 200000, loss 2.3341\n",
      "Step  180000/ 200000, loss 1.9143\n",
      "Step  190000/ 200000, loss 1.9563\n"
     ]
    }
   ],
   "source": [
    "# train the model\n",
    "max_steps = 200000 \n",
    "batch_size = 32\n",
    "loss_history = []\n",
    "\n",
    "for i in range(max_steps):\n",
    "    # get the batch\n",
    "    batch_idx = torch.randint(0, len(X_train), (batch_size,))\n",
    "    batch_X, batch_Y = X_train[batch_idx], Y_train[batch_idx]\n",
    "\n",
    "    # forward pass\n",
    "    logits = model(batch_X)\n",
    "    # calculate the loss\n",
    "    loss = F.cross_entropy(logits, batch_Y)\n",
    "\n",
    "    # clear the previous gradients\n",
    "    for p in params:\n",
    "        p.grad = None\n",
    "    loss.backward()\n",
    "\n",
    "    # update the parameters\n",
    "    alpha = 0.1 if i < 100000 else 0.01\n",
    "    for p in params:\n",
    "        p.data -= alpha * p.grad\n",
    "\n",
    "    # print the loss\n",
    "    loss_history.append(loss.log10().item())\n",
    "    \n",
    "    if i % 10000 == 0:\n",
    "        print(f'Step {i:7d}/{max_steps:7d}, loss {loss.item():.4f}')"
   ]
  },
  {
   "cell_type": "code",
   "execution_count": 45,
   "metadata": {},
   "outputs": [
    {
     "data": {
      "image/png": "[encoded data removed]",
      "text/plain": [
       "<Figure size 432x288 with 1 Axes>"
      ]
     },
     "metadata": {
      "image/png": {
       "height": 248,
       "width": 378
      },
      "needs_background": "light"
     },
     "output_type": "display_data"
    }
   ],
   "source": [
    "plt.plot(torch.tensor(loss_history).view(-1, 1000).mean(1));"
   ]
  },
  {
   "cell_type": "code",
   "execution_count": 47,
   "metadata": {},
   "outputs": [],
   "source": [
    "# put layers into eval mode (needed for batchnorm especially)\n",
    "for layer in model.layers:\n",
    "  layer.training = False"
   ]
  },
  {
   "cell_type": "code",
   "execution_count": 48,
   "metadata": {},
   "outputs": [
    {
     "name": "stdout",
     "output_type": "stream",
     "text": [
      "Train loss: 2.061648368835449\n"
     ]
    }
   ],
   "source": [
    "@torch.no_grad()\n",
    "def split_loss(split):\n",
    "    x, y = {\n",
    "        'train': (X_train, Y_train),\n",
    "        'val': (X_val, Y_val),\n",
    "        'test': (X_test, Y_test)\n",
    "    }[split]\n",
    "    # forward pass\n",
    "    logits = model(x)\n",
    "    # calculate the loss\n",
    "    loss = F.cross_entropy(logits, y)\n",
    "    return loss.item()\n",
    "\n",
    "print('Train loss:', split_loss('train'))"
   ]
  },
  {
   "cell_type": "code",
   "execution_count": 41,
   "metadata": {},
   "outputs": [],
   "source": [
    "# generate a name\n",
    "def generate_name():\n",
    "    # sample a context\n",
    "    context = [0] * block_size\n",
    "    # generate a name\n",
    "    name = []\n",
    "    while True:\n",
    "        # convert to a tensor\n",
    "        logits = model(torch.tensor(context).unsqueeze(0))\n",
    "        # sample a character\n",
    "        p = F.softmax(logits, dim=-1)\n",
    "        char_idx = torch.multinomial(p, 1).item()\n",
    "        # stop if we sampled the padding character\n",
    "        if char_idx == 0:\n",
    "            break\n",
    "        # update the context\n",
    "        context = context[1:] + [char_idx]\n",
    "        # add the character to the name\n",
    "        name.append(int2char[char_idx])\n",
    "    return ''.join(name)"
   ]
  },
  {
   "cell_type": "code",
   "execution_count": 51,
   "metadata": {},
   "outputs": [
    {
     "name": "stdout",
     "output_type": "stream",
     "text": [
      "demunt\n",
      "madivyani\n",
      "dais\n",
      "mondalis\n",
      "fredriana\n",
      "hayanai\n",
      "millynn\n",
      "geor\n",
      "sil\n",
      "micultonie\n"
     ]
    }
   ],
   "source": [
    "# set seed\n",
    "for _ in range(10):\n",
    "    print(generate_name())"
   ]
  },
  {
   "attachments": {},
   "cell_type": "markdown",
   "metadata": {},
   "source": [
    "## WaveNet: A Generative Model for Raw Audio"
   ]
  },
  {
   "cell_type": "code",
   "execution_count": 52,
   "metadata": {},
   "outputs": [],
   "source": [
    "# change block size to 8\n",
    "block_size = 8\n",
    "\n",
    "def build_dataset(words):\n",
    "    X, Y = [], []\n",
    "    for word in words:\n",
    "        # add . as the padding character to the beginning of the word\n",
    "        context = [0] * block_size\n",
    "        for char in word + '.':\n",
    "            X.append(context)\n",
    "            Y.append(char2int[char])\n",
    "            # update the context\n",
    "            context = context[1:] + [char2int[char]]\n",
    "    # convert to tensors\n",
    "    X = torch.tensor(X)\n",
    "    Y = torch.tensor(Y)\n",
    "    print('X:', X.shape, 'Y:', Y.shape)\n",
    "    return X, Y"
   ]
  },
  {
   "cell_type": "code",
   "execution_count": 53,
   "metadata": {},
   "outputs": [
    {
     "name": "stdout",
     "output_type": "stream",
     "text": [
      "X: torch.Size([182482, 8]) Y: torch.Size([182482])\n",
      "X: torch.Size([22831, 8]) Y: torch.Size([22831])\n",
      "X: torch.Size([22833, 8]) Y: torch.Size([22833])\n"
     ]
    }
   ],
   "source": [
    "# build the datasets\n",
    "# split the dataset into training and validation sets\n",
    "# 80%, 10%, 10%\n",
    "# set the random seed\n",
    "random.seed(666)\n",
    "# shuffle the words\n",
    "random.shuffle(words)\n",
    "# split the words\n",
    "train_words = words[:int(0.8*len(words))]\n",
    "val_words = words[int(0.8*len(words)):int(0.9*len(words))]\n",
    "test_words = words[int(0.9*len(words)):]\n",
    "\n",
    "# build the datasets\n",
    "X_train, Y_train = build_dataset(train_words)\n",
    "X_val, Y_val = build_dataset(val_words)\n",
    "X_test, Y_test = build_dataset(test_words)"
   ]
  },
  {
   "cell_type": "code",
   "execution_count": 58,
   "metadata": {},
   "outputs": [
    {
     "name": "stdout",
     "output_type": "stream",
     "text": [
      "........ ---> k\n",
      ".......k ---> y\n",
      "......ky ---> m\n",
      ".....kym ---> b\n",
      "....kymb ---> e\n",
      "...kymbe ---> r\n",
      "..kymber ---> l\n",
      ".kymberl ---> y\n",
      "kymberly ---> n\n",
      "ymberlyn ---> n\n",
      "mberlynn ---> .\n",
      "........ ---> j\n",
      ".......j ---> o\n",
      "......jo ---> b\n",
      ".....job ---> y\n",
      "....joby ---> .\n",
      "........ ---> a\n",
      ".......a ---> l\n",
      "......al ---> e\n",
      ".....ale ---> y\n"
     ]
    }
   ],
   "source": [
    "# take a look at the data\n",
    "for x, y in zip(X_train[:20], Y_train[:20]):\n",
    "    print(''.join(int2char[i.item()] for i in x), \"--->\", int2char[y.item()])"
   ]
  },
  {
   "cell_type": "code",
   "execution_count": 88,
   "metadata": {},
   "outputs": [
    {
     "name": "stdout",
     "output_type": "stream",
     "text": [
      "Number of parameters: 22097\n"
     ]
    }
   ],
   "source": [
    "# train the model\n",
    "n_embed = 10\n",
    "n_hidden = 200 \n",
    "# layers = [\n",
    "#     Embedding(vocab_size, n_embed),\n",
    "#     Flatten(),\n",
    "#     Linear(n_embed*block_size, n_hidden, bias=False), BatchNorm1d(n_hidden), Tanh(),\n",
    "#     Linear(n_hidden,vocab_size)\n",
    "# ]\n",
    "\n",
    "model = Sequential([\n",
    "    Embedding(vocab_size, n_embed),\n",
    "    Flatten(),\n",
    "    Linear(n_embed*block_size, n_hidden, bias=False), BatchNorm1d(n_hidden), Tanh(),\n",
    "    Linear(n_hidden,vocab_size)\n",
    "])\n",
    "\n",
    "with torch.no_grad():\n",
    "    # last layer is less confident, which means the weight is smaller\n",
    "    model.layers[-1].weight *= 0.1\n",
    "\n",
    "\n",
    "# collect all the parameters\n",
    "params = model.parameters()\n",
    "# print the number of parameters\n",
    "print('Number of parameters:', sum(p.numel() for p in params))\n",
    "# set gradient \n",
    "for p in params:\n",
    "    p.requires_grad = True"
   ]
  },
  {
   "cell_type": "code",
   "execution_count": 64,
   "metadata": {},
   "outputs": [
    {
     "name": "stdout",
     "output_type": "stream",
     "text": [
      "Sample X: torch.Size([5, 8])\n"
     ]
    },
    {
     "data": {
      "text/plain": [
       "tensor([[ 0,  0,  0,  0,  0, 12, 25, 14],\n",
       "        [ 0,  0,  0,  0,  0, 13,  1,  8],\n",
       "        [ 0,  0,  0,  0,  0,  0,  3,  1],\n",
       "        [ 0,  0,  0,  0,  0,  0,  0,  5],\n",
       "        [12, 12,  9, 26,  1,  2,  5, 20]])"
      ]
     },
     "execution_count": 64,
     "metadata": {},
     "output_type": "execute_result"
    }
   ],
   "source": [
    "# go through the tensor morph\n",
    "# morph means change the shape of the tensor\n",
    "sample_idx = torch.randint(0, len(X_train), (5,))\n",
    "sample_X = X_train[sample_idx]\n",
    "print('Sample X:', sample_X.shape)\n",
    "sample_X"
   ]
  },
  {
   "cell_type": "code",
   "execution_count": 67,
   "metadata": {},
   "outputs": [
    {
     "name": "stdout",
     "output_type": "stream",
     "text": [
      "Sample X embed: torch.Size([5, 8, 10])\n",
      "Sample X flat: torch.Size([5, 80])\n",
      "Sample X lin: torch.Size([5, 200])\n"
     ]
    }
   ],
   "source": [
    "# goes through the embedding layer\n",
    "sample_X_embed = model.layers[0](sample_X)\n",
    "print('Sample X embed:', sample_X_embed.shape)\n",
    "# goes through the flatten layer\n",
    "sample_X_flat = model.layers[1](sample_X_embed)\n",
    "print('Sample X flat:', sample_X_flat.shape)\n",
    "# goes through the linear layer\n",
    "sample_X_lin = model.layers[2](sample_X_flat)\n",
    "print('Sample X lin:', sample_X_lin.shape)"
   ]
  },
  {
   "cell_type": "code",
   "execution_count": 71,
   "metadata": {},
   "outputs": [
    {
     "name": "stdout",
     "output_type": "stream",
     "text": [
      "Example: torch.Size([5, 8, 10])\n"
     ]
    },
    {
     "data": {
      "text/plain": [
       "torch.Size([5, 4, 20])"
      ]
     },
     "execution_count": 71,
     "metadata": {},
     "output_type": "execute_result"
    }
   ],
   "source": [
    "# we want to reshape the tensor\n",
    "# from [5, 80] to [5, 4, 20]\n",
    "# for instance\n",
    "ex = torch.randn(5, 8, 10)\n",
    "print('Example:', ex.shape)\n",
    "ex.view(5, -1).shape\n",
    "ex.view(5, 4, 20).shape"
   ]
  },
  {
   "cell_type": "code",
   "execution_count": 72,
   "metadata": {},
   "outputs": [],
   "source": [
    "class FlattenConsecutive:\n",
    "\n",
    "    def __init__(self, n):\n",
    "        # n is the number of consecutive dimensions to flatten\n",
    "        self.n = n\n",
    "\n",
    "    def __call__(self, x):\n",
    "        # B means batch size, T means time steps, C means channels\n",
    "        B, T, C = x.shape\n",
    "        x = x.view(B, T//self.n, C*self.n)\n",
    "        if x.shape[1] == 1:\n",
    "            # if the number of time steps is 1, squeeze the tensor\n",
    "            x = x.squeeze(1)\n",
    "        self.out = x\n",
    "        return self.out\n",
    "    \n",
    "    def parameters(self):\n",
    "        # this layer has no parameters\n",
    "        return []"
   ]
  },
  {
   "cell_type": "code",
   "execution_count": 94,
   "metadata": {},
   "outputs": [
    {
     "name": "stdout",
     "output_type": "stream",
     "text": [
      "Number of parameters: 22397\n"
     ]
    }
   ],
   "source": [
    "# block size is 8\n",
    "# now let's build up our model\n",
    "# train the model\n",
    "n_embed = 10\n",
    "n_hidden = 68\n",
    "conv_size = 2\n",
    "# layers = [\n",
    "#     Embedding(vocab_size, n_embed),\n",
    "#     Flatten(),\n",
    "#     Linear(n_embed*block_size, n_hidden, bias=False), BatchNorm1d(n_hidden), Tanh(),\n",
    "#     Linear(n_hidden,vocab_size)\n",
    "# ]\n",
    "\n",
    "model = Sequential([\n",
    "    Embedding(vocab_size, n_embed),\n",
    "    FlattenConsecutive(conv_size),\n",
    "    Linear(n_embed*conv_size, n_hidden, bias=False), BatchNorm1d(n_hidden), Tanh(),\n",
    "    FlattenConsecutive(conv_size),\n",
    "    Linear(n_hidden*conv_size, n_hidden, bias=False), BatchNorm1d(n_hidden), Tanh(),\n",
    "    FlattenConsecutive(conv_size),\n",
    "    Linear(n_hidden*conv_size, n_hidden, bias=False), BatchNorm1d(n_hidden), Tanh(),\n",
    "    Linear(n_hidden,vocab_size)\n",
    "])\n",
    "\n",
    "with torch.no_grad():\n",
    "    # last layer is less confident, which means the weight is smaller\n",
    "    model.layers[-1].weight *= 0.1\n",
    "\n",
    "\n",
    "# collect all the parameters\n",
    "params = model.parameters()\n",
    "# print the number of parameters\n",
    "print('Number of parameters:', sum(p.numel() for p in params))\n",
    "# set gradient \n",
    "for p in params:\n",
    "    p.requires_grad = True"
   ]
  },
  {
   "cell_type": "code",
   "execution_count": 75,
   "metadata": {},
   "outputs": [
    {
     "name": "stdout",
     "output_type": "stream",
     "text": [
      "sample x: torch.Size([4, 8])\n"
     ]
    }
   ],
   "source": [
    "# test with four observations\n",
    "sample_idx = torch.randint(0, len(X_train), (4,))\n",
    "sample_X, sample_Y = X_train[sample_idx], Y_train[sample_idx]\n",
    "logits = model(sample_X)\n",
    "print('sample x:', sample_X.shape)\n"
   ]
  },
  {
   "cell_type": "code",
   "execution_count": 77,
   "metadata": {},
   "outputs": [
    {
     "name": "stdout",
     "output_type": "stream",
     "text": [
      "Embedding output shape:\t (4, 8, 10)\n",
      "FlattenConsecutive output shape:\t (4, 4, 20)\n",
      "Linear output shape:\t (4, 4, 200)\n",
      "BatchNorm1d output shape:\t (4, 4, 200)\n",
      "Tanh output shape:\t (4, 4, 200)\n",
      "FlattenConsecutive output shape:\t (4, 2, 400)\n",
      "Linear output shape:\t (4, 2, 200)\n",
      "BatchNorm1d output shape:\t (4, 2, 200)\n",
      "Tanh output shape:\t (4, 2, 200)\n",
      "FlattenConsecutive output shape:\t (4, 400)\n",
      "Linear output shape:\t (4, 200)\n",
      "BatchNorm1d output shape:\t (4, 200)\n",
      "Tanh output shape:\t (4, 200)\n",
      "Linear output shape:\t (4, 27)\n"
     ]
    }
   ],
   "source": [
    "for layer in model.layers:\n",
    "    print(layer.__class__.__name__, 'output shape:\\t', tuple(layer.out.shape))"
   ]
  },
  {
   "cell_type": "code",
   "execution_count": 95,
   "metadata": {},
   "outputs": [
    {
     "name": "stdout",
     "output_type": "stream",
     "text": [
      "Step       0/ 200000, loss 3.2912\n",
      "Step   10000/ 200000, loss 2.2526\n",
      "Step   20000/ 200000, loss 2.5611\n",
      "Step   30000/ 200000, loss 2.4946\n",
      "Step   40000/ 200000, loss 2.3120\n",
      "Step   50000/ 200000, loss 1.8797\n",
      "Step   60000/ 200000, loss 2.2232\n",
      "Step   70000/ 200000, loss 2.3093\n",
      "Step   80000/ 200000, loss 1.8340\n",
      "Step   90000/ 200000, loss 1.8140\n",
      "Step  100000/ 200000, loss 1.7062\n",
      "Step  110000/ 200000, loss 1.6501\n",
      "Step  120000/ 200000, loss 1.6286\n",
      "Step  130000/ 200000, loss 2.0962\n",
      "Step  140000/ 200000, loss 1.8549\n",
      "Step  150000/ 200000, loss 1.8269\n",
      "Step  160000/ 200000, loss 2.0958\n",
      "Step  170000/ 200000, loss 1.9545\n",
      "Step  180000/ 200000, loss 1.9579\n",
      "Step  190000/ 200000, loss 1.7111\n"
     ]
    }
   ],
   "source": [
    "# train the model\n",
    "# train the model\n",
    "max_steps = 200000 \n",
    "batch_size = 32\n",
    "loss_history = []\n",
    "\n",
    "for i in range(max_steps):\n",
    "    # get the batch\n",
    "    batch_idx = torch.randint(0, len(X_train), (batch_size,))\n",
    "    batch_X, batch_Y = X_train[batch_idx], Y_train[batch_idx]\n",
    "\n",
    "    # forward pass\n",
    "    logits = model(batch_X)\n",
    "    # calculate the loss\n",
    "    loss = F.cross_entropy(logits, batch_Y)\n",
    "\n",
    "    # clear the previous gradients\n",
    "    for p in params:\n",
    "        p.grad = None\n",
    "    loss.backward()\n",
    "\n",
    "    # update the parameters\n",
    "    alpha = 0.1 if i < 100000 else 0.01\n",
    "    for p in params:\n",
    "        p.data -= alpha * p.grad\n",
    "\n",
    "    # print the loss\n",
    "    loss_history.append(loss.log10().item())\n",
    "    \n",
    "    if i % 10000 == 0:\n",
    "        print(f'Step {i:7d}/{max_steps:7d}, loss {loss.item():.4f}')"
   ]
  },
  {
   "cell_type": "code",
   "execution_count": 96,
   "metadata": {},
   "outputs": [],
   "source": [
    "# for layer in model.layers:\n",
    "#     print(layer.__class__.__name__, 'output shape:\\t', tuple(layer.out.shape))"
   ]
  },
  {
   "cell_type": "code",
   "execution_count": 92,
   "metadata": {},
   "outputs": [
    {
     "data": {
      "text/plain": [
       "torch.Size([1, 1, 68])"
      ]
     },
     "execution_count": 92,
     "metadata": {},
     "output_type": "execute_result"
    }
   ],
   "source": [
    "model.layers[3].ema_mean.shape"
   ]
  },
  {
   "cell_type": "code",
   "execution_count": 97,
   "metadata": {},
   "outputs": [
    {
     "data": {
      "text/plain": [
       "[<matplotlib.lines.Line2D at 0x7f794ffc5fa0>]"
      ]
     },
     "execution_count": 97,
     "metadata": {},
     "output_type": "execute_result"
    },
    {
     "data": {
      "image/png": "[encoded data removed]",
      "text/plain": [
       "<Figure size 432x288 with 1 Axes>"
      ]
     },
     "metadata": {
      "image/png": {
       "height": 248,
       "width": 378
      },
      "needs_background": "light"
     },
     "output_type": "display_data"
    }
   ],
   "source": [
    "# plot the loss\n",
    "plt.plot(torch.tensor(loss_history).view(-1, 1000).mean(1))"
   ]
  },
  {
   "cell_type": "code",
   "execution_count": 98,
   "metadata": {},
   "outputs": [
    {
     "name": "stdout",
     "output_type": "stream",
     "text": [
      "Train loss: 1.9228938817977905\n",
      "Val loss: 2.013866662979126\n",
      "Test loss: 2.034684896469116\n"
     ]
    }
   ],
   "source": [
    "@torch.no_grad()\n",
    "def split_loss(split):\n",
    "    x, y = {\n",
    "        'train': (X_train, Y_train),\n",
    "        'val': (X_val, Y_val),\n",
    "        'test': (X_test, Y_test)\n",
    "    }[split]\n",
    "    # forward pass\n",
    "    logits = model(x)\n",
    "    # calculate the loss\n",
    "    loss = F.cross_entropy(logits, y)\n",
    "    return loss.item()\n",
    "\n",
    "print('Train loss:', split_loss('train'))\n",
    "print('Val loss:', split_loss('val'))\n",
    "print('Test loss:', split_loss('test'))"
   ]
  },
  {
   "cell_type": "code",
   "execution_count": null,
   "metadata": {},
   "outputs": [],
   "source": []
  }
 ],
 "metadata": {
  "kernelspec": {
   "display_name": "nlpvenv",
   "language": "python",
   "name": "python3"
  },
  "language_info": {
   "codemirror_mode": {
    "name": "ipython",
    "version": 3
   },
   "file_extension": ".py",
   "mimetype": "text/x-python",
   "name": "python",
   "nbconvert_exporter": "python",
   "pygments_lexer": "ipython3",
   "version": "3.9.5"
  },
  "orig_nbformat": 4
 },
 "nbformat": 4,
 "nbformat_minor": 2
}
