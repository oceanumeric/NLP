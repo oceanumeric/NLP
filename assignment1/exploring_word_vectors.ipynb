{
  "cells": [
    {
      "cell_type": "markdown",
      "metadata": {
        "id": "view-in-github",
        "colab_type": "text"
      },
      "source": [
        "<a href=\"https://colab.research.google.com/github/oceanumeric/NLP/blob/main/assignment1/exploring_word_vectors.ipynb\" target=\"_parent\"><img src=\"https://colab.research.google.com/assets/colab-badge.svg\" alt=\"Open In Colab\"/></a>"
      ]
    },
    {
      "cell_type": "markdown",
      "metadata": {
        "id": "lZFtQCh4apzD"
      },
      "source": [
        "# CS224N Assignment 1: Exploring Word Vectors (25 Points)\n",
        "### <font color='blue'> Due 3:15pm, Tue Jan 11 </font>\n",
        "\n",
        "Welcome to CS224N! \n",
        "\n",
        "Before you start, make sure you read the README.txt in the same directory as this notebook for important setup information. A lot of code is provided in this notebook, and we highly encourage you to read and understand it as part of the learning :)\n",
        "\n",
        "If you aren't super familiar with Python, Numpy, or Matplotlib, we recommend you check out the review session on Friday. The session will be recorded and the material will be made available on our [website](http://web.stanford.edu/class/cs224n/index.html#schedule). The CS231N Python/Numpy [tutorial](https://cs231n.github.io/python-numpy-tutorial/) is also a great resource.\n",
        "\n",
        "\n",
        "**Assignment Notes:** Please make sure to save the notebook as you go along. Submission Instructions are located at the bottom of the notebook."
      ]
    },
    {
      "cell_type": "code",
      "execution_count": 2,
      "metadata": {
        "colab": {
          "base_uri": "https://localhost:8080/"
        },
        "id": "inl7qMiVapzI",
        "outputId": "b8feae6a-76d4-4824-ce3c-174486d78338"
      },
      "outputs": [
        {
          "output_type": "stream",
          "name": "stdout",
          "text": [
            "[nltk_data] Downloading package reuters to /root/nltk_data...\n",
            "[nltk_data]   Package reuters is already up-to-date!\n"
          ]
        }
      ],
      "source": [
        "# All Import Statements Defined Here\n",
        "# Note: Do not add to this list.\n",
        "# ----------------\n",
        "\n",
        "import sys\n",
        "assert sys.version_info[0]==3\n",
        "assert sys.version_info[1] >= 5\n",
        "\n",
        "from platform import python_version\n",
        "assert int(python_version().split(\".\")[1]) >= 5, \"Please upgrade your Python version following the instructions in \\\n",
        "    the README.txt file found in the same directory as this notebook. Your Python version is \" + python_version()\n",
        "from gensim.models import KeyedVectors\n",
        "from gensim.test.utils import datapath\n",
        "import pprint\n",
        "import matplotlib.pyplot as plt\n",
        "plt.rcParams['figure.figsize'] = [10, 5]\n",
        "import nltk\n",
        "nltk.download('reuters') #to specify download location, optionally add the argument: download_dir='/specify/desired/path/'\n",
        "from nltk.corpus import reuters\n",
        "import numpy as np\n",
        "import random\n",
        "import scipy as sp\n",
        "from sklearn.decomposition import TruncatedSVD\n",
        "from sklearn.decomposition import PCA\n",
        "\n",
        "START_TOKEN = '<START>'\n",
        "END_TOKEN = '<END>'\n",
        "\n",
        "np.random.seed(0)\n",
        "random.seed(0)\n",
        "# ----------------"
      ]
    },
    {
      "cell_type": "markdown",
      "metadata": {
        "id": "nbiY0xfIapzK"
      },
      "source": [
        "## Word Vectors\n",
        "\n",
        "Word Vectors are often used as a fundamental component for downstream NLP tasks, e.g. question answering, text generation, translation, etc., so it is important to build some intuitions as to their strengths and weaknesses. Here, you will explore two types of word vectors: those derived from *co-occurrence matrices*, and those derived via *GloVe*. \n",
        "\n",
        "**Note on Terminology:** The terms \"word vectors\" and \"word embeddings\" are often used interchangeably. The term \"embedding\" refers to the fact that we are encoding aspects of a word's meaning in a lower dimensional space. As [Wikipedia](https://en.wikipedia.org/wiki/Word_embedding) states, \"*conceptually it involves a mathematical embedding from a space with one dimension per word to a continuous vector space with a much lower dimension*\"."
      ]
    },
    {
      "cell_type": "markdown",
      "metadata": {
        "id": "TB_gR59VapzK"
      },
      "source": [
        "## Part 1: Count-Based Word Vectors (10 points)\n",
        "\n",
        "Most word vector models start from the following idea:\n",
        "\n",
        "*You shall know a word by the company it keeps ([Firth, J. R. 1957:11](https://en.wikipedia.org/wiki/John_Rupert_Firth))*\n",
        "\n",
        "Many word vector implementations are driven by the idea that similar words, i.e., (near) synonyms, will be used in similar contexts. As a result, similar words will often be spoken or written along with a shared subset of words, i.e., contexts. By examining these contexts, we can try to develop embeddings for our words. With this intuition in mind, many \"old school\" approaches to constructing word vectors relied on word counts. Here we elaborate upon one of those strategies, *co-occurrence matrices* (for more information, see [here](https://web.stanford.edu/~jurafsky/slp3/6.pdf) or [here](https://medium.com/data-science-group-iitr/word-embedding-2d05d270b285))."
      ]
    },
    {
      "cell_type": "markdown",
      "metadata": {
        "id": "UKQBWZdAapzL"
      },
      "source": [
        "### Co-Occurrence\n",
        "\n",
        "A co-occurrence matrix counts how often things co-occur in some environment. Given some word $w_i$ occurring in the document, we consider the *context window* surrounding $w_i$. Supposing our fixed window size is $n$, then this is the $n$ preceding and $n$ subsequent words in that document, i.e. words $w_{i-n} \\dots w_{i-1}$ and $w_{i+1} \\dots w_{i+n}$. We build a *co-occurrence matrix* $M$, which is a symmetric word-by-word matrix in which $M_{ij}$ is the number of times $w_j$ appears inside $w_i$'s window among all documents.\n",
        "\n",
        "**Example: Co-Occurrence with Fixed Window of n=1**:\n",
        "\n",
        "Document 1: \"all that glitters is not gold\"\n",
        "\n",
        "Document 2: \"all is well that ends well\"\n",
        "\n",
        "\n",
        "|     *    | `<START>` | all | that | glitters | is   | not  | gold  | well | ends | `<END>` |\n",
        "|----------|-------|-----|------|----------|------|------|-------|------|------|-----|\n",
        "| `<START>`    | 0     | 2   | 0    | 0        | 0    | 0    | 0     | 0    | 0    | 0   |\n",
        "| all      | 2     | 0   | 1    | 0        | 1    | 0    | 0     | 0    | 0    | 0   |\n",
        "| that     | 0     | 1   | 0    | 1        | 0    | 0    | 0     | 1    | 1    | 0   |\n",
        "| glitters | 0     | 0   | 1    | 0        | 1    | 0    | 0     | 0    | 0    | 0   |\n",
        "| is       | 0     | 1   | 0    | 1        | 0    | 1    | 0     | 1    | 0    | 0   |\n",
        "| not      | 0     | 0   | 0    | 0        | 1    | 0    | 1     | 0    | 0    | 0   |\n",
        "| gold     | 0     | 0   | 0    | 0        | 0    | 1    | 0     | 0    | 0    | 1   |\n",
        "| well     | 0     | 0   | 1    | 0        | 1    | 0    | 0     | 0    | 1    | 1   |\n",
        "| ends     | 0     | 0   | 1    | 0        | 0    | 0    | 0     | 1    | 0    | 0   |\n",
        "| `<END>`      | 0     | 0   | 0    | 0        | 0    | 0    | 1     | 1    | 0    | 0   |\n",
        "\n",
        "**Note:** In NLP, we often add `<START>` and `<END>` tokens to represent the beginning and end of sentences, paragraphs or documents. In this case we imagine `<START>` and `<END>` tokens encapsulating each document, e.g., \"`<START>` All that glitters is not gold `<END>`\", and include these tokens in our co-occurrence counts.\n",
        "\n",
        "The rows (or columns) of this matrix provide one type of word vectors (those based on word-word co-occurrence), but the vectors will be large in general (linear in the number of distinct words in a corpus). Thus, our next step is to run *dimensionality reduction*. In particular, we will run *SVD (Singular Value Decomposition)*, which is a kind of generalized *PCA (Principal Components Analysis)* to select the top $k$ principal components. Here's a visualization of dimensionality reduction with SVD. In this picture our co-occurrence matrix is $A$ with $n$ rows corresponding to $n$ words. We obtain a full matrix decomposition, with the singular values ordered in the diagonal $S$ matrix, and our new, shorter length-$k$ word vectors in $U_k$.\n",
        "\n",
        "<div>\n",
        "<img src=\"https://miro.medium.com/max/1400/0*arP2ZshqOKgXss-h.png\" width=\"400\">\n",
        "</div>\n",
        "\n",
        "This reduced-dimensionality co-occurrence representation preserves semantic relationships between words, e.g. *doctor* and *hospital* will be closer than *doctor* and *dog*. \n",
        "\n",
        "**Notes:** If you can barely remember what an eigenvalue is, here's [a slow, friendly introduction to SVD](https://davetang.org/file/Singular_Value_Decomposition_Tutorial.pdf). If you want to learn more thoroughly about PCA or SVD, feel free to check out lectures [7](https://web.stanford.edu/class/cs168/l/l7.pdf), [8](http://theory.stanford.edu/~tim/s15/l/l8.pdf), and [9](https://web.stanford.edu/class/cs168/l/l9.pdf) of CS168. These course notes provide a great high-level treatment of these general purpose algorithms. Though, for the purpose of this class, you only need to know how to extract the k-dimensional embeddings by utilizing pre-programmed implementations of these algorithms from the numpy, scipy, or sklearn python packages. In practice, it is challenging to apply full SVD to large corpora because of the memory needed to perform PCA or SVD. However, if you only want the top $k$ vector components for relatively small $k$ — known as [Truncated SVD](https://en.wikipedia.org/wiki/Singular_value_decomposition#Truncated_SVD) — then there are reasonably scalable techniques to compute those iteratively."
      ]
    },
    {
      "cell_type": "markdown",
      "metadata": {
        "id": "lbG6x7buapzM"
      },
      "source": [
        "### Plotting Co-Occurrence Word Embeddings\n",
        "\n",
        "Here, we will be using the Reuters (business and financial news) corpus. If you haven't run the import cell at the top of this page, please run it now (click it and press SHIFT-RETURN). The corpus consists of 10,788 news documents totaling 1.3 million words. These documents span 90 categories and are split into train and test. For more details, please see https://www.nltk.org/book/ch02.html. We provide a `read_corpus` function below that pulls out only articles from the \"grain\" (i.e. news articles about corn, wheat, etc.) category. The function also adds `<START>` and `<END>` tokens to each of the documents, and lowercases words. You do **not** have to perform any other kind of pre-processing."
      ]
    },
    {
      "cell_type": "code",
      "execution_count": 3,
      "metadata": {
        "id": "11Bw-z4papzN"
      },
      "outputs": [],
      "source": [
        "def read_corpus(category=\"grain\"):\n",
        "    \"\"\" Read files from the specified Reuter's category.\n",
        "        Params:\n",
        "            category (string): category name\n",
        "        Return:\n",
        "            list of lists, with words from each of the processed files\n",
        "    \"\"\"\n",
        "    files = reuters.fileids(category)\n",
        "    return [[START_TOKEN] + [w.lower() for w in list(reuters.words(f))] + [END_TOKEN] for f in files]\n"
      ]
    },
    {
      "cell_type": "code",
      "source": [
        "from zipfile import ZipFile\n",
        "file_loc = '/root/nltk_data/corpora/reuters.zip'\n",
        "with ZipFile(file_loc, 'r') as z:\n",
        "  z.extractall('/root/nltk_data/corpora/')"
      ],
      "metadata": {
        "id": "1edD1OE2d1Sf"
      },
      "execution_count": 4,
      "outputs": []
    },
    {
      "cell_type": "markdown",
      "metadata": {
        "id": "RrTMqw2bapzN"
      },
      "source": [
        "Let's have a look what these documents are like…."
      ]
    },
    {
      "cell_type": "code",
      "execution_count": 5,
      "metadata": {
        "scrolled": true,
        "colab": {
          "base_uri": "https://localhost:8080/"
        },
        "id": "tx2QvN4papzO",
        "outputId": "d8cbb65f-5c5e-4350-88c0-b48411452a2a"
      },
      "outputs": [
        {
          "output_type": "stream",
          "name": "stdout",
          "text": [
            "[['<START>', 'china', 'daily', 'says', 'vermin', 'eat', '7', '-', '12', 'pct', 'grain', 'stocks',\n",
            "  'a', 'survey', 'of', '19', 'provinces', 'and', 'seven', 'cities', 'showed', 'vermin', 'consume',\n",
            "  'between', 'seven', 'and', '12', 'pct', 'of', 'china', \"'\", 's', 'grain', 'stocks', ',', 'the',\n",
            "  'china', 'daily', 'said', '.', 'it', 'also', 'said', 'that', 'each', 'year', '1', '.', '575',\n",
            "  'mln', 'tonnes', ',', 'or', '25', 'pct', ',', 'of', 'china', \"'\", 's', 'fruit', 'output', 'are',\n",
            "  'left', 'to', 'rot', ',', 'and', '2', '.', '1', 'mln', 'tonnes', ',', 'or', 'up', 'to', '30',\n",
            "  'pct', ',', 'of', 'its', 'vegetables', '.', 'the', 'paper', 'blamed', 'the', 'waste', 'on',\n",
            "  'inadequate', 'storage', 'and', 'bad', 'preservation', 'methods', '.', 'it', 'said', 'the',\n",
            "  'government', 'had', 'launched', 'a', 'national', 'programme', 'to', 'reduce', 'waste', ',',\n",
            "  'calling', 'for', 'improved', 'technology', 'in', 'storage', 'and', 'preservation', ',', 'and',\n",
            "  'greater', 'production', 'of', 'additives', '.', 'the', 'paper', 'gave', 'no', 'further',\n",
            "  'details', '.', '<END>'],\n",
            " ['<START>', 'thai', 'trade', 'deficit', 'widens', 'in', 'first', 'quarter', 'thailand', \"'\", 's',\n",
            "  'trade', 'deficit', 'widened', 'to', '4', '.', '5', 'billion', 'baht', 'in', 'the', 'first',\n",
            "  'quarter', 'of', '1987', 'from', '2', '.', '1', 'billion', 'a', 'year', 'ago', ',', 'the',\n",
            "  'business', 'economics', 'department', 'said', '.', 'it', 'said', 'janunary', '/', 'march',\n",
            "  'imports', 'rose', 'to', '65', '.', '1', 'billion', 'baht', 'from', '58', '.', '7', 'billion',\n",
            "  '.', 'thailand', \"'\", 's', 'improved', 'business', 'climate', 'this', 'year', 'resulted', 'in',\n",
            "  'a', '27', 'pct', 'increase', 'in', 'imports', 'of', 'raw', 'materials', 'and', 'semi', '-',\n",
            "  'finished', 'products', '.', 'the', 'country', \"'\", 's', 'oil', 'import', 'bill', ',', 'however',\n",
            "  ',', 'fell', '23', 'pct', 'in', 'the', 'first', 'quarter', 'due', 'to', 'lower', 'oil', 'prices',\n",
            "  '.', 'the', 'department', 'said', 'first', 'quarter', 'exports', 'expanded', 'to', '60', '.', '6',\n",
            "  'billion', 'baht', 'from', '56', '.', '6', 'billion', '.', 'export', 'growth', 'was', 'smaller',\n",
            "  'than', 'expected', 'due', 'to', 'lower', 'earnings', 'from', 'many', 'key', 'commodities',\n",
            "  'including', 'rice', 'whose', 'earnings', 'declined', '18', 'pct', ',', 'maize', '66', 'pct', ',',\n",
            "  'sugar', '45', 'pct', ',', 'tin', '26', 'pct', 'and', 'canned', 'pineapples', 'seven', 'pct', '.',\n",
            "  'products', 'registering', 'high', 'export', 'growth', 'were', 'jewellery', 'up', '64', 'pct',\n",
            "  ',', 'clothing', '57', 'pct', 'and', 'rubber', '35', 'pct', '.', '<END>'],\n",
            " ['<START>', 'sri', 'lanka', 'gets', 'usda', 'approval', 'for', 'wheat', 'price', 'food',\n",
            "  'department', 'officials', 'said', 'the', 'u', '.', 's', '.', 'department', 'of', 'agriculture',\n",
            "  'approved', 'the', 'continental', 'grain', 'co', 'sale', 'of', '52', ',', '500', 'tonnes', 'of',\n",
            "  'soft', 'wheat', 'at', '89', 'u', '.', 's', '.', 'dlrs', 'a', 'tonne', 'c', 'and', 'f', 'from',\n",
            "  'pacific', 'northwest', 'to', 'colombo', '.', 'they', 'said', 'the', 'shipment', 'was', 'for',\n",
            "  'april', '8', 'to', '20', 'delivery', '.', '<END>']]\n"
          ]
        }
      ],
      "source": [
        "reuters_corpus = read_corpus()\n",
        "pprint.pprint(reuters_corpus[:3], compact=True, width=100)"
      ]
    },
    {
      "cell_type": "markdown",
      "metadata": {
        "id": "4x6PYYixapzO"
      },
      "source": [
        "### Question 1.1: Implement `distinct_words` [code] (2 points)\n",
        "\n",
        "Write a method to work out the distinct words (word types) that occur in the corpus. You can do this with `for` loops, but it's more efficient to do it with Python list comprehensions. In particular, [this](https://coderwall.com/p/rcmaea/flatten-a-list-of-lists-in-one-line-in-python) may be useful to flatten a list of lists. If you're not familiar with Python list comprehensions in general, here's [more information](https://python-3-patterns-idioms-test.readthedocs.io/en/latest/Comprehensions.html).\n",
        "\n",
        "Your returned `corpus_words` should be sorted. You can use python's `sorted` function for this.\n",
        "\n",
        "You may find it useful to use [Python sets](https://www.w3schools.com/python/python_sets.asp) to remove duplicate words."
      ]
    },
    {
      "cell_type": "code",
      "execution_count": 6,
      "metadata": {
        "id": "TeeGzJ_wapzP"
      },
      "outputs": [],
      "source": [
        "def distinct_words(corpus):\n",
        "    \"\"\" Determine a list of distinct words for the corpus.\n",
        "        Params:\n",
        "            corpus (list of list of strings): corpus of documents\n",
        "        Return:\n",
        "            corpus_words (list of strings): sorted list of distinct words across the corpus\n",
        "            n_corpus_words (integer): number of distinct words across the corpus\n",
        "    \"\"\"\n",
        "    corpus_words = []\n",
        "    n_corpus_words = -1\n",
        "    \n",
        "    # ------------------\n",
        "    # Write your implementation here.\n",
        "    flatten_list = [w for l in corpus for w in l]\n",
        "    distinct_words = set(flatten_list)\n",
        "    corpus_words = list(distinct_words)\n",
        "    corpus_words = sorted(corpus_words)\n",
        "    n_corpus_words = len(corpus_words)\n",
        "\n",
        "    \n",
        "\n",
        "    # ------------------\n",
        "\n",
        "    return corpus_words, n_corpus_words"
      ]
    },
    {
      "cell_type": "code",
      "execution_count": 7,
      "metadata": {
        "colab": {
          "base_uri": "https://localhost:8080/"
        },
        "id": "e6EkTKs4apzP",
        "outputId": "a23c46cd-e384-4523-87f2-c50298f31a24"
      },
      "outputs": [
        {
          "output_type": "stream",
          "name": "stdout",
          "text": [
            "--------------------------------------------------------------------------------\n",
            "Passed All Tests!\n",
            "--------------------------------------------------------------------------------\n"
          ]
        }
      ],
      "source": [
        "# ---------------------\n",
        "# Run this sanity check\n",
        "# Note that this not an exhaustive check for correctness.\n",
        "# ---------------------\n",
        "\n",
        "# Define toy corpus\n",
        "test_corpus = [\"{} All that glitters isn't gold {}\".format(START_TOKEN, END_TOKEN).split(\" \"), \"{} All's well that ends well {}\".format(START_TOKEN, END_TOKEN).split(\" \")]\n",
        "test_corpus_words, num_corpus_words = distinct_words(test_corpus)\n",
        "\n",
        "# Correct answers\n",
        "ans_test_corpus_words = sorted([START_TOKEN, \"All\", \"ends\", \"that\", \"gold\", \"All's\", \"glitters\", \"isn't\", \"well\", END_TOKEN])\n",
        "ans_num_corpus_words = len(ans_test_corpus_words)\n",
        "\n",
        "# Test correct number of words\n",
        "assert(num_corpus_words == ans_num_corpus_words), \"Incorrect number of distinct words. Correct: {}. Yours: {}\".format(ans_num_corpus_words, num_corpus_words)\n",
        "\n",
        "# Test correct words\n",
        "assert (test_corpus_words == ans_test_corpus_words), \"Incorrect corpus_words.\\nCorrect: {}\\nYours:   {}\".format(str(ans_test_corpus_words), str(test_corpus_words))\n",
        "\n",
        "# Print Success\n",
        "print (\"-\" * 80)\n",
        "print(\"Passed All Tests!\")\n",
        "print (\"-\" * 80)"
      ]
    },
    {
      "cell_type": "markdown",
      "metadata": {
        "id": "3yShW5cHapzQ"
      },
      "source": [
        "### Question 1.2: Implement `compute_co_occurrence_matrix` [code] (3 points)\n",
        "\n",
        "Write a method that constructs a co-occurrence matrix for a certain window-size $n$ (with a default of 4), considering words $n$ before and $n$ after the word in the center of the window. Here, we start to use `numpy (np)` to represent vectors, matrices, and tensors. If you're not familiar with NumPy, there's a NumPy tutorial in the second half of this cs231n [Python NumPy tutorial](http://cs231n.github.io/python-numpy-tutorial/).\n"
      ]
    },
    {
      "cell_type": "code",
      "execution_count": 8,
      "metadata": {
        "id": "mv9dq33bapzQ"
      },
      "outputs": [],
      "source": [
        "def compute_co_occurrence_matrix(corpus, window_size=4):\n",
        "    \"\"\" Compute co-occurrence matrix for the given corpus and window_size (default of 4).\n",
        "    \n",
        "        Note: Each word in a document should be at the center of a window. Words near edges will have a smaller\n",
        "              number of co-occurring words.\n",
        "              \n",
        "              For example, if we take the document \"<START> All that glitters is not gold <END>\" with window size of 4,\n",
        "              \"All\" will co-occur with \"<START>\", \"that\", \"glitters\", \"is\", and \"not\".\n",
        "    \n",
        "        Params:\n",
        "            corpus (list of list of strings): corpus of documents\n",
        "            window_size (int): size of context window\n",
        "        Return:\n",
        "            M (a symmetric numpy matrix of shape (number of unique words in the corpus , number of unique words in the corpus)): \n",
        "                Co-occurence matrix of word counts. \n",
        "                The ordering of the words in the rows/columns should be the same as the ordering of the words given by the distinct_words function.\n",
        "            word2ind (dict): dictionary that maps word to index (i.e. row/column number) for matrix M.\n",
        "    \"\"\"\n",
        "    words, n_words = distinct_words(corpus)\n",
        "    M = np.zeros((n_words, n_words))\n",
        "    word2ind = {}\n",
        "    \n",
        "    # ------------------\n",
        "    # Write your implementation here.\n",
        "    for word in words:\n",
        "      word2ind[word] = words.index(word)\n",
        "\n",
        "    for sentence in corpus:\n",
        "      sentence_len = len(sentence)\n",
        "      for i in range(sentence_len):  # slice the window \n",
        "        center = sentence[i] \n",
        "        center_row_idex = word2ind[center]\n",
        "        window_left = max(i-window_size, 0)\n",
        "        window_right = min(i+window_size, sentence_len-1)\n",
        "        for j in range(window_left, window_right+1):\n",
        "          if j == i:\n",
        "            continue\n",
        "          else:\n",
        "            context_word = sentence[j]\n",
        "            context_word_col = word2ind[context_word]\n",
        "            M[center_row_idex][context_word_col] += 1 \n",
        "\n",
        "\n",
        "    # ------------------\n",
        "\n",
        "    return M, word2ind"
      ]
    },
    {
      "cell_type": "code",
      "execution_count": 9,
      "metadata": {
        "colab": {
          "base_uri": "https://localhost:8080/"
        },
        "id": "KcwrmH6PapzQ",
        "outputId": "1b7303de-51ef-48c8-d152-f595c123d71b"
      },
      "outputs": [
        {
          "output_type": "stream",
          "name": "stdout",
          "text": [
            "--------------------------------------------------------------------------------\n",
            "Passed All Tests!\n",
            "--------------------------------------------------------------------------------\n"
          ]
        }
      ],
      "source": [
        "# ---------------------\n",
        "# Run this sanity check\n",
        "# Note that this is not an exhaustive check for correctness.\n",
        "# ---------------------\n",
        "\n",
        "# Define toy corpus and get student's co-occurrence matrix\n",
        "test_corpus = [\"{} All that glitters isn't gold {}\".format(START_TOKEN, END_TOKEN).split(\" \"), \"{} All's well that ends well {}\".format(START_TOKEN, END_TOKEN).split(\" \")]\n",
        "M_test, word2ind_test = compute_co_occurrence_matrix(test_corpus, window_size=1)\n",
        "\n",
        "# Correct M and word2ind\n",
        "M_test_ans = np.array( \n",
        "    [[0., 0., 0., 0., 0., 0., 1., 0., 0., 1.,],\n",
        "     [0., 0., 1., 1., 0., 0., 0., 0., 0., 0.,],\n",
        "     [0., 1., 0., 0., 0., 0., 0., 0., 1., 0.,],\n",
        "     [0., 1., 0., 0., 0., 0., 0., 0., 0., 1.,],\n",
        "     [0., 0., 0., 0., 0., 0., 0., 0., 1., 1.,],\n",
        "     [0., 0., 0., 0., 0., 0., 0., 1., 1., 0.,],\n",
        "     [1., 0., 0., 0., 0., 0., 0., 1., 0., 0.,],\n",
        "     [0., 0., 0., 0., 0., 1., 1., 0., 0., 0.,],\n",
        "     [0., 0., 1., 0., 1., 1., 0., 0., 0., 1.,],\n",
        "     [1., 0., 0., 1., 1., 0., 0., 0., 1., 0.,]]\n",
        ")\n",
        "ans_test_corpus_words = sorted([START_TOKEN, \"All\", \"ends\", \"that\", \"gold\", \"All's\", \"glitters\", \"isn't\", \"well\", END_TOKEN])\n",
        "word2ind_ans = dict(zip(ans_test_corpus_words, range(len(ans_test_corpus_words))))\n",
        "\n",
        "# Test correct word2ind\n",
        "assert (word2ind_ans == word2ind_test), \"Your word2ind is incorrect:\\nCorrect: {}\\nYours: {}\".format(word2ind_ans, word2ind_test)\n",
        "\n",
        "# Test correct M shape\n",
        "assert (M_test.shape == M_test_ans.shape), \"M matrix has incorrect shape.\\nCorrect: {}\\nYours: {}\".format(M_test.shape, M_test_ans.shape)\n",
        "\n",
        "# Test correct M values\n",
        "for w1 in word2ind_ans.keys():\n",
        "    idx1 = word2ind_ans[w1]\n",
        "    for w2 in word2ind_ans.keys():\n",
        "        idx2 = word2ind_ans[w2]\n",
        "        student = M_test[idx1, idx2]\n",
        "        correct = M_test_ans[idx1, idx2]\n",
        "        if student != correct:\n",
        "            print(\"Correct M:\")\n",
        "            print(M_test_ans)\n",
        "            print(\"Your M: \")\n",
        "            print(M_test)\n",
        "            raise AssertionError(\"Incorrect count at index ({}, {})=({}, {}) in matrix M. Yours has {} but should have {}.\".format(idx1, idx2, w1, w2, student, correct))\n",
        "\n",
        "# Print Success\n",
        "print (\"-\" * 80)\n",
        "print(\"Passed All Tests!\")\n",
        "print (\"-\" * 80)"
      ]
    },
    {
      "cell_type": "markdown",
      "metadata": {
        "id": "3ziKiOM1apzR"
      },
      "source": [
        "### Question 1.3: Implement `reduce_to_k_dim` [code] (1 point)\n",
        "\n",
        "Construct a method that performs dimensionality reduction on the matrix to produce k-dimensional embeddings. Use SVD to take the top k components and produce a new matrix of k-dimensional embeddings. \n",
        "\n",
        "**Note:** All of numpy, scipy, and scikit-learn (`sklearn`) provide *some* implementation of SVD, but only scipy and sklearn provide an implementation of Truncated SVD, and only sklearn provides an efficient randomized algorithm for calculating large-scale Truncated SVD. So please use [sklearn.decomposition.TruncatedSVD](https://scikit-learn.org/stable/modules/generated/sklearn.decomposition.TruncatedSVD.html)."
      ]
    },
    {
      "cell_type": "code",
      "execution_count": 10,
      "metadata": {
        "id": "exQ6BszNapzR"
      },
      "outputs": [],
      "source": [
        "def reduce_to_k_dim(M, k=2):\n",
        "    \"\"\" Reduce a co-occurence count matrix of dimensionality (num_corpus_words, num_corpus_words)\n",
        "        to a matrix of dimensionality (num_corpus_words, k) using the following SVD function from Scikit-Learn:\n",
        "            - http://scikit-learn.org/stable/modules/generated/sklearn.decomposition.TruncatedSVD.html\n",
        "    \n",
        "        Params:\n",
        "            M (numpy matrix of shape (number of unique words in the corpus , number of unique words in the corpus)): co-occurence matrix of word counts\n",
        "            k (int): embedding size of each word after dimension reduction\n",
        "        Return:\n",
        "            M_reduced (numpy matrix of shape (number of corpus words, k)): matrix of k-dimensioal word embeddings.\n",
        "                    In terms of the SVD from math class, this actually returns U * S\n",
        "    \"\"\"    \n",
        "    n_iters = 10     # Use this parameter in your call to `TruncatedSVD`\n",
        "    M_reduced = None\n",
        "    print(\"Running Truncated SVD over %i words...\" % (M.shape[0]))\n",
        "    \n",
        "    # ------------------\n",
        "    # Write your implementation here.\n",
        "    m_truncated_svd = TruncatedSVD(n_components=k, n_iter=n_iters, random_state=167)\n",
        "    M_reduced = m_truncated_svd.fit_transform(M)\n",
        "\n",
        "    # ------------------\n",
        "\n",
        "    print(\"Done.\")\n",
        "    return M_reduced"
      ]
    },
    {
      "cell_type": "code",
      "execution_count": 11,
      "metadata": {
        "colab": {
          "base_uri": "https://localhost:8080/"
        },
        "id": "q7xBZYrAapzS",
        "outputId": "90f83826-3734-4c73-b295-28c76ce4c5de"
      },
      "outputs": [
        {
          "output_type": "stream",
          "name": "stdout",
          "text": [
            "Running Truncated SVD over 10 words...\n",
            "Done.\n",
            "--------------------------------------------------------------------------------\n",
            "Passed All Tests!\n",
            "--------------------------------------------------------------------------------\n",
            "[[ 6.54802087e-01  7.83221122e-01]\n",
            " [ 5.20200324e-01  1.52655666e-15]\n",
            " [ 7.05647176e-01 -4.84057274e-01]\n",
            " [ 7.05647176e-01  4.84057274e-01]\n",
            " [ 1.02780472e+00  3.33066907e-16]\n",
            " [ 6.54802087e-01 -7.83221122e-01]\n",
            " [ 3.82258491e-01 -6.56224003e-01]\n",
            " [ 3.82258491e-01  6.56224003e-01]\n",
            " [ 1.39420808e+00  1.06179274e+00]\n",
            " [ 1.39420808e+00 -1.06179274e+00]]\n"
          ]
        }
      ],
      "source": [
        "# ---------------------\n",
        "# Run this sanity check\n",
        "# Note that this is not an exhaustive check for correctness \n",
        "# In fact we only check that your M_reduced has the right dimensions.\n",
        "# ---------------------\n",
        "\n",
        "# Define toy corpus and run student code\n",
        "test_corpus = [\"{} All that glitters isn't gold {}\".format(START_TOKEN, END_TOKEN).split(\" \"), \"{} All's well that ends well {}\".format(START_TOKEN, END_TOKEN).split(\" \")]\n",
        "M_test, word2ind_test = compute_co_occurrence_matrix(test_corpus, window_size=1)\n",
        "M_test_reduced = reduce_to_k_dim(M_test, k=2)\n",
        "\n",
        "# Test proper dimensions\n",
        "assert (M_test_reduced.shape[0] == 10), \"M_reduced has {} rows; should have {}\".format(M_test_reduced.shape[0], 10)\n",
        "assert (M_test_reduced.shape[1] == 2), \"M_reduced has {} columns; should have {}\".format(M_test_reduced.shape[1], 2)\n",
        "\n",
        "# Print Success\n",
        "print (\"-\" * 80)\n",
        "print(\"Passed All Tests!\")\n",
        "print (\"-\" * 80)\n",
        "print(M_test_reduced)"
      ]
    },
    {
      "cell_type": "markdown",
      "metadata": {
        "id": "Iypv-A44apzS"
      },
      "source": [
        "### Question 1.4: Implement `plot_embeddings` [code] (1 point)\n",
        "\n",
        "Here you will write a function to plot a set of 2D vectors in 2D space. For graphs, we will use Matplotlib (`plt`).\n",
        "\n",
        "For this example, you may find it useful to adapt [this code](http://web.archive.org/web/20190924160434/https://www.pythonmembers.club/2018/05/08/matplotlib-scatter-plot-annotate-set-text-at-label-each-point/). In the future, a good way to make a plot is to look at [the Matplotlib gallery](https://matplotlib.org/gallery/index.html), find a plot that looks somewhat like what you want, and adapt the code they give."
      ]
    },
    {
      "cell_type": "code",
      "execution_count": 12,
      "metadata": {
        "id": "1ZQkTqGzapzS"
      },
      "outputs": [],
      "source": [
        "def plot_embeddings(M_reduced, word2ind, words):\n",
        "    \"\"\" Plot in a scatterplot the embeddings of the words specified in the list \"words\".\n",
        "        NOTE: do not plot all the words listed in M_reduced / word2ind.\n",
        "        Include a label next to each point.\n",
        "        \n",
        "        Params:\n",
        "            M_reduced (numpy matrix of shape (number of unique words in the corpus , 2)): matrix of 2-dimensioal word embeddings\n",
        "            word2ind (dict): dictionary that maps word to indices for matrix M\n",
        "            words (list of strings): words whose embeddings we want to visualize\n",
        "    \"\"\"\n",
        "\n",
        "    # ------------------\n",
        "    # Write your implementation here.\n",
        "    for word in words:\n",
        "      x = M_reduced[word2ind[word]][0]\n",
        "      y = M_reduced[word2ind[word]][1]\n",
        "      plt.scatter(x, y, color='red', marker='x')\n",
        "      plt.text(x, y, word)\n",
        "    \n",
        "    plt.show()\n",
        "\n",
        "    # ------------------"
      ]
    },
    {
      "cell_type": "code",
      "execution_count": 13,
      "metadata": {
        "colab": {
          "base_uri": "https://localhost:8080/",
          "height": 374
        },
        "id": "Ri8YDqv-apzT",
        "outputId": "ab207d83-4134-4cce-d16b-4a4a16166e2c"
      },
      "outputs": [
        {
          "output_type": "stream",
          "name": "stdout",
          "text": [
            "--------------------------------------------------------------------------------\n",
            "Outputted Plot:\n"
          ]
        },
        {
          "output_type": "display_data",
          "data": {
            "text/plain": [
              "<Figure size 720x360 with 1 Axes>"
            ],
            "image/png": "[encoded data removed]"
          },
          "metadata": {
            "needs_background": "light"
          }
        },
        {
          "output_type": "stream",
          "name": "stdout",
          "text": [
            "--------------------------------------------------------------------------------\n"
          ]
        }
      ],
      "source": [
        "# ---------------------\n",
        "# Run this sanity check\n",
        "# Note that this is not an exhaustive check for correctness.\n",
        "# The plot produced should look like the \"test solution plot\" depicted below. \n",
        "# ---------------------\n",
        "\n",
        "print (\"-\" * 80)\n",
        "print (\"Outputted Plot:\")\n",
        "\n",
        "M_reduced_plot_test = np.array([[1, 1], [-1, -1], [1, -1], [-1, 1], [0, 0]])\n",
        "word2ind_plot_test = {'test1': 0, 'test2': 1, 'test3': 2, 'test4': 3, 'test5': 4}\n",
        "words = ['test1', 'test2', 'test3', 'test4', 'test5']\n",
        "plot_embeddings(M_reduced_plot_test, word2ind_plot_test, words)\n",
        "\n",
        "print (\"-\" * 80)"
      ]
    },
    {
      "cell_type": "markdown",
      "metadata": {
        "id": "0Gx7R3eyapzT"
      },
      "source": [
        "### Question 1.5: Co-Occurrence Plot Analysis [written] (3 points)\n",
        "\n",
        "Now we will put together all the parts you have written! We will compute the co-occurrence matrix with fixed window of 4 (the default window size), over the Reuters \"grain\" corpus. Then we will use TruncatedSVD to compute 2-dimensional embeddings of each word. TruncatedSVD returns U\\*S, so we need to normalize the returned vectors, so that all the vectors will appear around the unit circle (therefore closeness is directional closeness). **Note**: The line of code below that does the normalizing uses the NumPy concept of *broadcasting*. If you don't know about broadcasting, check out\n",
        "[Computation on Arrays: Broadcasting by Jake VanderPlas](https://jakevdp.github.io/PythonDataScienceHandbook/02.05-computation-on-arrays-broadcasting.html).\n",
        "\n",
        "Run the below cell to produce the plot. It'll probably take a few seconds to run. What clusters together in 2-dimensional embedding space? What doesn't cluster together that you might think should have?"
      ]
    },
    {
      "cell_type": "code",
      "execution_count": 14,
      "metadata": {
        "colab": {
          "base_uri": "https://localhost:8080/",
          "height": 374
        },
        "id": "duxmhfpTapzT",
        "outputId": "3f122132-e880-468d-f28e-570ff23b14f5"
      },
      "outputs": [
        {
          "output_type": "stream",
          "name": "stdout",
          "text": [
            "Running Truncated SVD over 7146 words...\n",
            "Done.\n",
            "(7146, 2)\n"
          ]
        },
        {
          "output_type": "display_data",
          "data": {
            "text/plain": [
              "<Figure size 720x360 with 1 Axes>"
            ],
            "image/png": "[encoded data removed]"
          },
          "metadata": {
            "needs_background": "light"
          }
        }
      ],
      "source": [
        "# -----------------------------\n",
        "# Run This Cell to Produce Your Plot\n",
        "# ------------------------------\n",
        "reuters_corpus = read_corpus()\n",
        "M_co_occurrence, word2ind_co_occurrence = compute_co_occurrence_matrix(reuters_corpus)\n",
        "M_reduced_co_occurrence = reduce_to_k_dim(M_co_occurrence, k=2)\n",
        "\n",
        "# Rescale (normalize) the rows to make them each of unit-length\n",
        "M_lengths = np.linalg.norm(M_reduced_co_occurrence, axis=1)\n",
        "M_normalized = M_reduced_co_occurrence / M_lengths[:, np.newaxis] # broadcasting\n",
        "print(M_normalized.shape)\n",
        "\n",
        "words = ['tonnes', 'grain', 'wheat',  'agriculture', 'corn', 'maize', 'export', 'department', 'barley', 'grains', 'soybeans', 'sorghum']\n",
        "\n",
        "plot_embeddings(M_normalized, word2ind_co_occurrence, words)"
      ]
    },
    {
      "cell_type": "code",
      "source": [
        "print(M_reduced_co_occurrence.shape)\n",
        "print(M_lengths.shape)\n",
        "print(M_lengths[:, np.newaxis])"
      ],
      "metadata": {
        "colab": {
          "base_uri": "https://localhost:8080/"
        },
        "id": "K8GsDs-tDs--",
        "outputId": "e368c52c-e95d-4148-e75b-67e8a04e74e1"
      },
      "execution_count": 15,
      "outputs": [
        {
          "output_type": "stream",
          "name": "stdout",
          "text": [
            "(7146, 2)\n",
            "(7146,)\n",
            "[[4.04558920e+02]\n",
            " [9.58782335e-01]\n",
            " [1.91852869e+00]\n",
            " ...\n",
            " [4.25762763e+00]\n",
            " [4.80786242e-02]\n",
            " [1.08511947e+00]]\n"
          ]
        }
      ]
    },
    {
      "cell_type": "markdown",
      "metadata": {
        "id": "v-9rCV54apzT"
      },
      "source": [
        "#### <font color=\"red\">Write your answer here.</font>\n"
      ]
    },
    {
      "cell_type": "markdown",
      "metadata": {
        "id": "NAdJ9cXeapzU"
      },
      "source": [
        "## Part 2: Prediction-Based Word Vectors (15 points)\n",
        "\n",
        "As discussed in class, more recently prediction-based word vectors have demonstrated better performance, such as word2vec and GloVe (which also utilizes the benefit of counts). Here, we shall explore the embeddings produced by GloVe. Please revisit the class notes and lecture slides for more details on the word2vec and GloVe algorithms. If you're feeling adventurous, challenge yourself and try reading [GloVe's original paper](https://nlp.stanford.edu/pubs/glove.pdf).\n",
        "\n",
        "Then run the following cells to load the GloVe vectors into memory. **Note**: If this is your first time to run these cells, i.e. download the embedding model, it will take a couple minutes to run. If you've run these cells before, rerunning them will load the model without redownloading it, which will take about 1 to 2 minutes."
      ]
    },
    {
      "cell_type": "code",
      "source": [
        ""
      ],
      "metadata": {
        "id": "IAzqa1UNJGEP"
      },
      "execution_count": 15,
      "outputs": []
    },
    {
      "cell_type": "code",
      "execution_count": 23,
      "metadata": {
        "id": "7huVNmlcapzU"
      },
      "outputs": [],
      "source": [
        "def load_embedding_model():\n",
        "    \"\"\" Load GloVe Vectors\n",
        "        Return:\n",
        "            wv_from_bin: All 400000 embeddings, each lengh 200\n",
        "    \"\"\"\n",
        "    import gensim.downloader as api\n",
        "    wv_from_bin = api.load(\"glove-wiki-gigaword-200\")\n",
        "    print(\"Loaded vocab size %i\" % len(list(wv_from_bin.index2word)))\n",
        "    return wv_from_bin"
      ]
    },
    {
      "cell_type": "code",
      "execution_count": 24,
      "metadata": {
        "colab": {
          "base_uri": "https://localhost:8080/"
        },
        "id": "z2ImtYh0apzU",
        "outputId": "5dfef4d0-5cc7-46d6-d950-458f706a8a2e"
      },
      "outputs": [
        {
          "output_type": "stream",
          "name": "stdout",
          "text": [
            "Loaded vocab size 400000\n"
          ]
        }
      ],
      "source": [
        "# -----------------------------------\n",
        "# Run Cell to Load Word Vectors\n",
        "# Note: This will take a couple minutes\n",
        "# -----------------------------------\n",
        "wv_from_bin = load_embedding_model()"
      ]
    },
    {
      "cell_type": "markdown",
      "metadata": {
        "id": "PYLK6D-LapzU"
      },
      "source": [
        "#### Note: If you are receiving a \"reset by peer\" error, rerun the cell to restart the download. "
      ]
    },
    {
      "cell_type": "markdown",
      "metadata": {
        "id": "riC-kwviapzU"
      },
      "source": [
        "### Reducing dimensionality of Word Embeddings\n",
        "Let's directly compare the GloVe embeddings to those of the co-occurrence matrix. In order to avoid running out of memory, we will work with a sample of 10000 GloVe vectors instead.\n",
        "Run the following cells to:\n",
        "\n",
        "1. Put 10000 Glove vectors into a matrix M\n",
        "2. Run `reduce_to_k_dim` (your Truncated SVD function) to reduce the vectors from 200-dimensional to 2-dimensional."
      ]
    },
    {
      "cell_type": "code",
      "execution_count": 25,
      "metadata": {
        "id": "t9fA860WapzU"
      },
      "outputs": [],
      "source": [
        "def get_matrix_of_vectors(wv_from_bin, required_words=['tonnes', 'grain', 'wheat',  'agriculture', 'corn', 'maize', 'export', 'department', 'barley', 'grains', 'soybeans', 'sorghum']):\n",
        "    \"\"\" Put the GloVe vectors into a matrix M.\n",
        "        Param:\n",
        "            wv_from_bin: KeyedVectors object; the 400000 GloVe vectors loaded from file\n",
        "        Return:\n",
        "            M: numpy matrix shape (num words, 200) containing the vectors\n",
        "            word2ind: dictionary mapping each word to its row number in M\n",
        "    \"\"\"\n",
        "    import random\n",
        "    words = list(wv_from_bin.index2word)\n",
        "    print(\"Shuffling words ...\")\n",
        "    random.seed(225)\n",
        "    random.shuffle(words)\n",
        "    words = words[:10000]\n",
        "    print(\"Putting %i words into word2ind and matrix M...\" % len(words))\n",
        "    word2ind = {}\n",
        "    M = []\n",
        "    curInd = 0\n",
        "    for w in words:\n",
        "        try:\n",
        "            M.append(wv_from_bin.get_vector(w))\n",
        "            word2ind[w] = curInd\n",
        "            curInd += 1\n",
        "        except KeyError:\n",
        "            continue\n",
        "    for w in required_words:\n",
        "        if w in words:\n",
        "            continue\n",
        "        try:\n",
        "            M.append(wv_from_bin.get_vector(w))\n",
        "            word2ind[w] = curInd\n",
        "            curInd += 1\n",
        "        except KeyError:\n",
        "            continue\n",
        "    M = np.stack(M)\n",
        "    print(\"Done.\")\n",
        "    return M, word2ind"
      ]
    },
    {
      "cell_type": "code",
      "execution_count": 26,
      "metadata": {
        "colab": {
          "base_uri": "https://localhost:8080/"
        },
        "id": "qyV_FGqpapzV",
        "outputId": "cfafa290-9efe-46b8-d0f4-c70dbe2aeccd"
      },
      "outputs": [
        {
          "output_type": "stream",
          "name": "stdout",
          "text": [
            "Shuffling words ...\n",
            "Putting 10000 words into word2ind and matrix M...\n",
            "Done.\n",
            "Running Truncated SVD over 10012 words...\n",
            "Done.\n"
          ]
        }
      ],
      "source": [
        "# -----------------------------------------------------------------\n",
        "# Run Cell to Reduce 200-Dimensional Word Embeddings to k Dimensions\n",
        "# Note: This should be quick to run\n",
        "# -----------------------------------------------------------------\n",
        "M, word2ind = get_matrix_of_vectors(wv_from_bin)\n",
        "M_reduced = reduce_to_k_dim(M, k=2)\n",
        "\n",
        "# Rescale (normalize) the rows to make them each of unit-length\n",
        "M_lengths = np.linalg.norm(M_reduced, axis=1)\n",
        "M_reduced_normalized = M_reduced / M_lengths[:, np.newaxis] # broadcasting"
      ]
    },
    {
      "cell_type": "markdown",
      "metadata": {
        "id": "OabAGKzcapzV"
      },
      "source": [
        "**Note: If you are receiving out of memory issues on your local machine, try closing other applications to free more memory on your device. You may want to try restarting your machine so that you can free up extra memory. Then immediately run the jupyter notebook and see if you can load the word vectors properly. If you still have problems with loading the embeddings onto your local machine after this, please go to office hours or contact course staff.**"
      ]
    },
    {
      "cell_type": "markdown",
      "metadata": {
        "id": "-ZRxmxTDapzV"
      },
      "source": [
        "### Question 2.1: GloVe Plot Analysis [written] (3 points)\n",
        "\n",
        "Run the cell below to plot the 2D GloVe embeddings for `['tonnes', 'grain', 'wheat',  'agriculture', 'corn', 'maize', 'export', 'department', 'barley', 'grains', 'soybeans', 'sorghum']`.\n",
        "\n",
        "What clusters together in 2-dimensional embedding space? What doesn't cluster together that you think should have? How is the plot different from the one generated earlier from the co-occurrence matrix? What is a possible cause for the difference?"
      ]
    },
    {
      "cell_type": "code",
      "execution_count": 27,
      "metadata": {
        "scrolled": true,
        "colab": {
          "base_uri": "https://localhost:8080/",
          "height": 320
        },
        "id": "Ej55kyj_apzV",
        "outputId": "8cf34e0f-4750-45ef-9961-dc281e6cd075"
      },
      "outputs": [
        {
          "output_type": "display_data",
          "data": {
            "text/plain": [
              "<Figure size 720x360 with 1 Axes>"
            ],
            "image/png": "[encoded data removed]"
          },
          "metadata": {
            "needs_background": "light"
          }
        }
      ],
      "source": [
        "words = ['tonnes', 'grain', 'wheat',  'agriculture', 'corn', 'maize', 'export', 'department', 'barley', 'grains', 'soybeans', 'sorghum']\n",
        "plot_embeddings(M_reduced_normalized, word2ind, words)"
      ]
    },
    {
      "cell_type": "markdown",
      "metadata": {
        "id": "-ZdJ9D6tapzV"
      },
      "source": [
        "#### <font color=\"red\">Write your answer here.</font>"
      ]
    },
    {
      "cell_type": "markdown",
      "metadata": {
        "id": "1B-JwrrpapzW"
      },
      "source": [
        "### Cosine Similarity\n",
        "Now that we have word vectors, we need a way to quantify the similarity between individual words, according to these vectors. One such metric is cosine-similarity. We will be using this to find words that are \"close\" and \"far\" from one another.\n",
        "\n",
        "We can think of n-dimensional vectors as points in n-dimensional space. If we take this perspective [L1](http://mathworld.wolfram.com/L1-Norm.html) and [L2](http://mathworld.wolfram.com/L2-Norm.html) Distances help quantify the amount of space \"we must travel\" to get between these two points. Another approach is to examine the angle between two vectors. From trigonometry we know that:\n",
        "\n",
        "<img src=\"https://www.oreilly.com/library/view/statistics-for-machine/9781788295758/assets/2b4a7a82-ad4c-4b2a-b808-e423a334de6f.png\" width=20% style=\"float: center;\"></img>\n",
        "\n",
        "Instead of computing the actual angle, we can leave the similarity in terms of $similarity = cos(\\Theta)$. Formally the [Cosine Similarity](https://en.wikipedia.org/wiki/Cosine_similarity) $s$ between two vectors $p$ and $q$ is defined as:\n",
        "\n",
        "$$s = \\frac{p \\cdot q}{||p|| ||q||}, \\textrm{ where } s \\in [-1, 1] $$ "
      ]
    },
    {
      "cell_type": "markdown",
      "metadata": {
        "id": "3OaNsPE-apzW"
      },
      "source": [
        "### Question 2.2: Words with Multiple Meanings (1.5 points) [code + written] \n",
        "Polysemes and homonyms are words that have more than one meaning (see this [wiki page](https://en.wikipedia.org/wiki/Polysemy) to learn more about the difference between polysemes and homonyms ). Find a word with *at least two different meanings* such that the top-10 most similar words (according to cosine similarity) contain related words from *both* meanings. For example, \"leaves\" has both \"go_away\" and \"a_structure_of_a_plant\" meaning in the top 10, and \"scoop\" has both \"handed_waffle_cone\" and \"lowdown\". You will probably need to try several polysemous or homonymic words before you find one. \n",
        "\n",
        "Please state the word you discover and the multiple meanings that occur in the top 10. Why do you think many of the polysemous or homonymic words you tried didn't work (i.e. the top-10 most similar words only contain **one** of the meanings of the words)?\n",
        "\n",
        "**Note**: You should use the `wv_from_bin.most_similar(word)` function to get the top 10 similar words. This function ranks all other words in the vocabulary with respect to their cosine similarity to the given word. For further assistance, please check the __[GenSim documentation](https://radimrehurek.com/gensim/models/keyedvectors.html#gensim.models.keyedvectors.FastTextKeyedVectors.most_similar)__."
      ]
    },
    {
      "cell_type": "code",
      "execution_count": 30,
      "metadata": {
        "colab": {
          "base_uri": "https://localhost:8080/"
        },
        "id": "nKj7N6rqapzW",
        "outputId": "e88c8723-e329-4d61-c0cb-fa41b29e93a2"
      },
      "outputs": [
        {
          "output_type": "execute_result",
          "data": {
            "text/plain": [
              "[('better', 0.8141133785247803),\n",
              " ('really', 0.8016482591629028),\n",
              " ('always', 0.7913188338279724),\n",
              " ('sure', 0.7792829275131226),\n",
              " ('you', 0.7747212052345276),\n",
              " ('very', 0.7718809247016907),\n",
              " ('things', 0.7658981084823608),\n",
              " ('well', 0.7652329802513123),\n",
              " ('think', 0.7623050808906555),\n",
              " ('we', 0.7586264610290527)]"
            ]
          },
          "metadata": {},
          "execution_count": 30
        }
      ],
      "source": [
        "# ------------------\n",
        "# Write your implementation here.\n",
        "wv_from_bin.most_similar('good')\n",
        "\n",
        "# ------------------"
      ]
    },
    {
      "cell_type": "code",
      "source": [
        "wv_from_bin.most_similar('apple', topn=20)"
      ],
      "metadata": {
        "colab": {
          "base_uri": "https://localhost:8080/"
        },
        "id": "X36o84cuMkGO",
        "outputId": "4fe553fe-b575-43a4-872e-82cfb6d66cdc"
      },
      "execution_count": 46,
      "outputs": [
        {
          "output_type": "execute_result",
          "data": {
            "text/plain": [
              "[('iphone', 0.6271389126777649),\n",
              " ('microsoft', 0.6061939001083374),\n",
              " ('intel', 0.5992331504821777),\n",
              " ('macintosh', 0.5989754796028137),\n",
              " ('ipod', 0.5908078551292419),\n",
              " ('ibm', 0.5888804793357849),\n",
              " ('ipad', 0.5876859426498413),\n",
              " ('software', 0.5711662769317627),\n",
              " ('google', 0.5554560422897339),\n",
              " ('itunes', 0.5478185415267944),\n",
              " ('pc', 0.5444667339324951),\n",
              " ('imac', 0.5354787111282349),\n",
              " ('computer', 0.5339134931564331),\n",
              " ('chips', 0.522017240524292),\n",
              " ('sony', 0.5184574127197266),\n",
              " ('apples', 0.5155556201934814),\n",
              " ('hewlett', 0.515369176864624),\n",
              " ('motorola', 0.5098389387130737),\n",
              " ('blackberry', 0.504676878452301),\n",
              " ('netscape', 0.49874329566955566)]"
            ]
          },
          "metadata": {},
          "execution_count": 46
        }
      ]
    },
    {
      "cell_type": "code",
      "source": [
        "wv_from_bin.most_similar('samsung', topn=20)"
      ],
      "metadata": {
        "colab": {
          "base_uri": "https://localhost:8080/"
        },
        "id": "9mkozpRmMlRI",
        "outputId": "d6ce7481-92c2-4b68-8f5c-dfa37ac178dc"
      },
      "execution_count": 47,
      "outputs": [
        {
          "output_type": "execute_result",
          "data": {
            "text/plain": [
              "[('lg', 0.7518872022628784),\n",
              " ('hyundai', 0.6675201654434204),\n",
              " ('panasonic', 0.6326290369033813),\n",
              " ('toshiba', 0.6170634031295776),\n",
              " ('sdi', 0.5919978618621826),\n",
              " ('electronics', 0.5833467245101929),\n",
              " ('fujitsu', 0.5766627192497253),\n",
              " ('nokia', 0.5727240443229675),\n",
              " ('nec', 0.5726516842842102),\n",
              " ('daewoo', 0.5581914186477661),\n",
              " ('posco', 0.5526381731033325),\n",
              " ('sony', 0.5516092777252197),\n",
              " ('lcd', 0.5484787821769714),\n",
              " ('motorola', 0.5425117611885071),\n",
              " ('hitachi', 0.5401551723480225),\n",
              " ('hynix', 0.5268266201019287),\n",
              " ('semiconductor', 0.5254107117652893),\n",
              " ('sanyo', 0.5145459175109863),\n",
              " ('philips', 0.5091080069541931),\n",
              " ('siemens', 0.5019107460975647)]"
            ]
          },
          "metadata": {},
          "execution_count": 47
        }
      ]
    },
    {
      "cell_type": "code",
      "source": [
        "wv_from_bin.most_similar('huawei', topn=20)"
      ],
      "metadata": {
        "colab": {
          "base_uri": "https://localhost:8080/"
        },
        "id": "WG3Il1_tMpE_",
        "outputId": "66d27595-f98a-4072-9663-d785e7a29e8f"
      },
      "execution_count": 48,
      "outputs": [
        {
          "output_type": "execute_result",
          "data": {
            "text/plain": [
              "[('zte', 0.7453933358192444),\n",
              " ('haier', 0.5662178993225098),\n",
              " ('lucent', 0.5372007489204407),\n",
              " ('alcatel', 0.5173822641372681),\n",
              " ('technologies', 0.511946439743042),\n",
              " ('nortel', 0.49590593576431274),\n",
              " ('uunet', 0.4814104437828064),\n",
              " ('unicom', 0.4682976007461548),\n",
              " ('telecom', 0.46594908833503723),\n",
              " ('cisco', 0.46284952759742737),\n",
              " ('lenovo', 0.4608071744441986),\n",
              " ('nokia', 0.4567490220069885),\n",
              " ('synagro', 0.4557429850101471),\n",
              " ('hcl', 0.4554169178009033),\n",
              " ('3com', 0.4532144069671631),\n",
              " ('datang', 0.4523051381111145),\n",
              " ('zhongxing', 0.4483164846897125),\n",
              " ('cae', 0.4449745714664459),\n",
              " ('motorola', 0.4417010247707367),\n",
              " ('siemens', 0.44124794006347656)]"
            ]
          },
          "metadata": {},
          "execution_count": 48
        }
      ]
    },
    {
      "cell_type": "code",
      "source": [
        "wv_from_bin.most_similar('bmw', topn=20)"
      ],
      "metadata": {
        "colab": {
          "base_uri": "https://localhost:8080/"
        },
        "id": "uPIutQLINuNN",
        "outputId": "2275f732-89c2-4cf6-e4fb-aa3db11b3369"
      },
      "execution_count": 50,
      "outputs": [
        {
          "output_type": "execute_result",
          "data": {
            "text/plain": [
              "[('mercedes', 0.7167689800262451),\n",
              " ('audi', 0.6868889331817627),\n",
              " ('benz', 0.6840651035308838),\n",
              " ('volkswagen', 0.6554473042488098),\n",
              " ('renault', 0.6368719339370728),\n",
              " ('porsche', 0.6318350434303284),\n",
              " ('sauber', 0.6147507429122925),\n",
              " ('volvo', 0.5863637924194336),\n",
              " ('honda', 0.5849629640579224),\n",
              " ('ferrari', 0.5820727348327637),\n",
              " ('toyota', 0.579595685005188),\n",
              " ('vw', 0.5752115249633789),\n",
              " ('daimler', 0.5745106935501099),\n",
              " ('nissan', 0.5712559223175049),\n",
              " ('daimlerchrysler', 0.5703006982803345),\n",
              " ('5-series', 0.570095419883728),\n",
              " ('lexus', 0.5572115182876587),\n",
              " ('3-series', 0.5559712648391724),\n",
              " ('carmaker', 0.5429246425628662),\n",
              " ('peugeot', 0.5404567718505859)]"
            ]
          },
          "metadata": {},
          "execution_count": 50
        }
      ]
    },
    {
      "cell_type": "code",
      "source": [
        "wv_from_bin.most_similar('geely', topn=20)"
      ],
      "metadata": {
        "colab": {
          "base_uri": "https://localhost:8080/"
        },
        "id": "YRoCzRSEN7pw",
        "outputId": "0b898473-4952-4d26-9eb5-96318b6f86d1"
      },
      "execution_count": 52,
      "outputs": [
        {
          "output_type": "execute_result",
          "data": {
            "text/plain": [
              "[('chery', 0.5816158056259155),\n",
              " ('volvo', 0.5516939759254456),\n",
              " ('haier', 0.5196852684020996),\n",
              " ('carmaker', 0.4901055097579956),\n",
              " ('zhejiang', 0.4656980633735657),\n",
              " ('baosteel', 0.4641824960708618),\n",
              " ('scania', 0.4582200348377228),\n",
              " ('byd', 0.4560743570327759),\n",
              " ('shufu', 0.44880571961402893),\n",
              " ('laiwu', 0.4468464255332947),\n",
              " ('baic', 0.4416654109954834),\n",
              " ('automaker', 0.4327748417854309),\n",
              " ('kelon', 0.42730188369750977),\n",
              " ('sinochem', 0.42506539821624756),\n",
              " ('lenovo', 0.4190436899662018),\n",
              " ('konka', 0.41628584265708923),\n",
              " ('ssangyong', 0.41331732273101807),\n",
              " ('ssab', 0.410785973072052),\n",
              " ('skf', 0.40726181864738464),\n",
              " ('arcelormittal', 0.4059547185897827)]"
            ]
          },
          "metadata": {},
          "execution_count": 52
        }
      ]
    },
    {
      "cell_type": "code",
      "source": [
        "wv_from_bin.most_similar('honeywell')"
      ],
      "metadata": {
        "colab": {
          "base_uri": "https://localhost:8080/"
        },
        "id": "bhbUfU_XMuXT",
        "outputId": "5cfad8a5-6ace-46bb-9762-6f16d192a32a"
      },
      "execution_count": 45,
      "outputs": [
        {
          "output_type": "execute_result",
          "data": {
            "text/plain": [
              "[('ge', 0.7074675559997559),\n",
              " ('alliedsignal', 0.683214545249939),\n",
              " ('textron', 0.5751370191574097),\n",
              " ('westinghouse', 0.5264223217964172),\n",
              " ('lucent', 0.5230650901794434),\n",
              " ('trw', 0.5205550193786621),\n",
              " ('packard', 0.5146443843841553),\n",
              " ('caterpillar', 0.5071490406990051),\n",
              " ('motorola', 0.5055563449859619),\n",
              " ('alcoa', 0.5054365396499634)]"
            ]
          },
          "metadata": {},
          "execution_count": 45
        }
      ]
    },
    {
      "cell_type": "code",
      "source": [
        "wv_from_bin.most_similar('tesla', topn=20)"
      ],
      "metadata": {
        "colab": {
          "base_uri": "https://localhost:8080/"
        },
        "id": "yfaP-bqsOUDp",
        "outputId": "1e2acd99-fa9b-4e73-e6d3-92f044b5f916"
      },
      "execution_count": 54,
      "outputs": [
        {
          "output_type": "execute_result",
          "data": {
            "text/plain": [
              "[('motors', 0.5129432678222656),\n",
              " ('roadster', 0.4831695556640625),\n",
              " ('nikola', 0.4811766445636749),\n",
              " ('edison', 0.45055288076400757),\n",
              " ('isuzu', 0.4434756636619568),\n",
              " ('electric', 0.44116291403770447),\n",
              " ('volt', 0.44067317247390747),\n",
              " ('inventor', 0.4354279637336731),\n",
              " ('nvidia', 0.43264564871788025),\n",
              " ('wardenclyffe', 0.41840118169784546),\n",
              " ('ev1', 0.41791832447052),\n",
              " ('coil', 0.41244134306907654),\n",
              " ('coils', 0.38744261860847473),\n",
              " ('lamborghini', 0.38667115569114685),\n",
              " ('rechargeable', 0.38486722111701965),\n",
              " ('roadsters', 0.3818674385547638),\n",
              " ('g.m.', 0.380782812833786),\n",
              " ('plug-in', 0.37828201055526733),\n",
              " ('mazda', 0.3778231739997864),\n",
              " ('micron', 0.3718774914741516)]"
            ]
          },
          "metadata": {},
          "execution_count": 54
        }
      ]
    },
    {
      "cell_type": "code",
      "source": [
        "wv_from_bin.most_similar('facebook', topn=20)"
      ],
      "metadata": {
        "colab": {
          "base_uri": "https://localhost:8080/"
        },
        "id": "qDqgl9zXOfM6",
        "outputId": "a6427b0a-6967-4d2f-c14d-645969bbe7ec"
      },
      "execution_count": 58,
      "outputs": [
        {
          "output_type": "execute_result",
          "data": {
            "text/plain": [
              "[('twitter', 0.8435289263725281),\n",
              " ('myspace', 0.8185950517654419),\n",
              " ('youtube', 0.7537194490432739),\n",
              " ('google', 0.671447217464447),\n",
              " ('blogs', 0.6526654958724976),\n",
              " ('linkedin', 0.6494942903518677),\n",
              " ('blog', 0.6467068195343018),\n",
              " ('web', 0.6389558911323547),\n",
              " ('website', 0.6388845443725586),\n",
              " ('zuckerberg', 0.6286188960075378),\n",
              " ('websites', 0.6250430345535278),\n",
              " ('users', 0.6207194328308105),\n",
              " ('networking', 0.6175296902656555),\n",
              " ('online', 0.6171836853027344),\n",
              " ('flickr', 0.6115960478782654),\n",
              " ('internet', 0.6040122509002686),\n",
              " ('yahoo', 0.592220664024353),\n",
              " ('blogging', 0.5804023742675781),\n",
              " ('instagram', 0.5770766735076904),\n",
              " ('skype', 0.5765348672866821)]"
            ]
          },
          "metadata": {},
          "execution_count": 58
        }
      ]
    },
    {
      "cell_type": "code",
      "source": [
        "wv_from_bin.most_similar('h&m', topn=20)"
      ],
      "metadata": {
        "colab": {
          "base_uri": "https://localhost:8080/"
        },
        "id": "5gLnU2pBOwTf",
        "outputId": "b77e7750-0317-4d73-b8f6-44b9f1b083fd"
      },
      "execution_count": 61,
      "outputs": [
        {
          "output_type": "execute_result",
          "data": {
            "text/plain": [
              "[('c&a', 0.5070998668670654),\n",
              " ('sephora', 0.49876973032951355),\n",
              " ('topshop', 0.4913516044616699),\n",
              " ('zara', 0.4629468023777008),\n",
              " ('mexx', 0.4608934223651886),\n",
              " ('j.crew', 0.4538807272911072),\n",
              " ('fall/winter', 0.4476618766784668),\n",
              " ('matalan', 0.44641903042793274),\n",
              " ('superdrug', 0.44581952691078186),\n",
              " ('lancôme', 0.43919268250465393),\n",
              " ('bon-ton', 0.43673932552337646),\n",
              " ('debenhams', 0.4366729259490967),\n",
              " ('beachwear', 0.4332478940486908),\n",
              " ('ikea', 0.42957156896591187),\n",
              " ('anthropologie', 0.42599576711654663),\n",
              " ('jcpenney', 0.42297476530075073),\n",
              " ('spring/summer', 0.4206225275993347),\n",
              " ('burberry', 0.4167807102203369),\n",
              " ('bloomingdale', 0.41494256258010864),\n",
              " ('b&q', 0.41323769092559814)]"
            ]
          },
          "metadata": {},
          "execution_count": 61
        }
      ]
    },
    {
      "cell_type": "code",
      "source": [
        "wv_from_bin.most_similar('nike', topn=20)"
      ],
      "metadata": {
        "colab": {
          "base_uri": "https://localhost:8080/"
        },
        "id": "Yr9diSrGPg2m",
        "outputId": "08307855-8a2c-40a1-842a-0aa618d013e1"
      },
      "execution_count": 62,
      "outputs": [
        {
          "output_type": "execute_result",
          "data": {
            "text/plain": [
              "[('adidas', 0.7082109451293945),\n",
              " ('reebok', 0.6686112880706787),\n",
              " ('apparel', 0.560280978679657),\n",
              " ('swoosh', 0.5576590299606323),\n",
              " ('sneakers', 0.5547460317611694),\n",
              " ('sneaker', 0.5255051851272583),\n",
              " ('shoe', 0.49650344252586365),\n",
              " ('sportswear', 0.48064762353897095),\n",
              " ('footwear', 0.4795113205909729),\n",
              " ('sponsor', 0.475738525390625),\n",
              " ('puma', 0.47121673822402954),\n",
              " ('titleist', 0.46618494391441345),\n",
              " ('sponsorship', 0.46539974212646484),\n",
              " ('sponsors', 0.45128297805786133),\n",
              " ('beaverton', 0.45060625672340393),\n",
              " ('shoes', 0.44915324449539185),\n",
              " ('mart', 0.4453921318054199),\n",
              " ('brand', 0.4395320415496826),\n",
              " ('pepsi', 0.4256014823913574),\n",
              " ('motorola', 0.42476484179496765)]"
            ]
          },
          "metadata": {},
          "execution_count": 62
        }
      ]
    },
    {
      "cell_type": "code",
      "source": [
        "wv_from_bin.most_similar('adidas', topn=20)"
      ],
      "metadata": {
        "colab": {
          "base_uri": "https://localhost:8080/"
        },
        "id": "mfS7jdoQPlxD",
        "outputId": "cc6e1ea6-520f-430a-9aed-75952e64092a"
      },
      "execution_count": 63,
      "outputs": [
        {
          "output_type": "execute_result",
          "data": {
            "text/plain": [
              "[('reebok', 0.719016432762146),\n",
              " ('nike', 0.7082109451293945),\n",
              " ('sportswear', 0.6800757646560669),\n",
              " ('puma', 0.5965368151664734),\n",
              " ('sneakers', 0.574507474899292),\n",
              " ('sneaker', 0.566622793674469),\n",
              " ('apparel', 0.5364523530006409),\n",
              " ('taylormade', 0.5222746133804321),\n",
              " ('footwear', 0.4954334497451782),\n",
              " ('shoes', 0.4892440736293793),\n",
              " ('speedo', 0.4886344373226166),\n",
              " ('ag', 0.48487311601638794),\n",
              " ('shoe', 0.4795190393924713),\n",
              " ('umbro', 0.4713866114616394),\n",
              " ('swimwear', 0.46423399448394775),\n",
              " ('volkswagen', 0.4501868486404419),\n",
              " ('polo', 0.4477965533733368),\n",
              " ('sponsorship', 0.44011086225509644),\n",
              " ('keds', 0.42604291439056396),\n",
              " ('jerseys', 0.42271751165390015)]"
            ]
          },
          "metadata": {},
          "execution_count": 63
        }
      ]
    },
    {
      "cell_type": "code",
      "source": [
        "wv_from_bin.most_similar(\"ck\", topn=20)"
      ],
      "metadata": {
        "colab": {
          "base_uri": "https://localhost:8080/"
        },
        "id": "yj4ubGMmPwh8",
        "outputId": "281531a9-3886-49af-ebb7-95d68e421190"
      },
      "execution_count": 73,
      "outputs": [
        {
          "output_type": "execute_result",
          "data": {
            "text/plain": [
              "[('calvin', 0.4925266206264496),\n",
              " ('dkny', 0.45676925778388977),\n",
              " ('sportcenter', 0.4523279070854187),\n",
              " ('jeans', 0.4291590452194214),\n",
              " ('klein', 0.4112396836280823),\n",
              " ('dg', 0.40810394287109375),\n",
              " ('nayudu', 0.3829610347747803),\n",
              " ('moet', 0.38164272904396057),\n",
              " ('denim', 0.38109076023101807),\n",
              " ('warnaco', 0.37786275148391724),\n",
              " ('jeanswear', 0.37453794479370117),\n",
              " ('hennessy', 0.36960452795028687),\n",
              " ('karan', 0.3664029836654663),\n",
              " ('oce', 0.3659818768501282),\n",
              " ('sportswear', 0.3647208511829376),\n",
              " ('chandon', 0.3629071116447449),\n",
              " ('trillin', 0.358979731798172),\n",
              " ('underwear', 0.3541145622730255),\n",
              " ('fragrances', 0.3534366488456726),\n",
              " ('bagel', 0.3513495922088623)]"
            ]
          },
          "metadata": {},
          "execution_count": 73
        }
      ]
    },
    {
      "cell_type": "code",
      "source": [
        "wv_from_bin.most_similar(\"converse\", topn=20)"
      ],
      "metadata": {
        "colab": {
          "base_uri": "https://localhost:8080/"
        },
        "id": "ecxLQ5CcQs8-",
        "outputId": "18e1f9ca-7551-4a40-91c5-84eea756e5b7"
      },
      "execution_count": 76,
      "outputs": [
        {
          "output_type": "execute_result",
          "data": {
            "text/plain": [
              "[('sneakers', 0.6077280640602112),\n",
              " ('sneaker', 0.46198609471321106),\n",
              " ('shoes', 0.42193007469177246),\n",
              " ('reebok', 0.41848674416542053),\n",
              " ('nike', 0.4166819155216217),\n",
              " ('adidas', 0.4110904932022095),\n",
              " ('socks', 0.4050147831439972),\n",
              " ('shoe', 0.40286409854888916),\n",
              " ('jeans', 0.3976730704307556),\n",
              " ('laces', 0.3787418007850647),\n",
              " ('sandals', 0.37468421459198),\n",
              " ('timberland', 0.3722640872001648),\n",
              " ('distinguish', 0.36227500438690186),\n",
              " ('florsheim', 0.3592531681060791),\n",
              " ('sweatshirts', 0.35544782876968384),\n",
              " ('boots', 0.3545383810997009),\n",
              " ('pants', 0.3540637493133545),\n",
              " ('hosiery', 0.35103699564933777),\n",
              " ('hightops', 0.34899306297302246),\n",
              " ('keds', 0.3473569452762604)]"
            ]
          },
          "metadata": {},
          "execution_count": 76
        }
      ]
    },
    {
      "cell_type": "code",
      "source": [
        "wv_from_bin.most_similar('lacoste', topn=20)"
      ],
      "metadata": {
        "colab": {
          "base_uri": "https://localhost:8080/"
        },
        "id": "8G56yRnZRFBk",
        "outputId": "c83d4d9d-1ec5-4a44-8d62-62ca52713c33"
      },
      "execution_count": 77,
      "outputs": [
        {
          "output_type": "execute_result",
          "data": {
            "text/plain": [
              "[('lanvin', 0.4335879385471344),\n",
              " ('hermès', 0.4239671230316162),\n",
              " ('cochet', 0.4198978841304779),\n",
              " ('clément', 0.41267746686935425),\n",
              " ('rene', 0.4090011417865753),\n",
              " ('thierry', 0.4089953601360321),\n",
              " ('hermes', 0.4047155976295471),\n",
              " ('borotra', 0.4014361500740051),\n",
              " ('chemise', 0.39995336532592773),\n",
              " ('cartier', 0.3972025513648987),\n",
              " ('bardot', 0.39591115713119507),\n",
              " ('fernand', 0.3930252194404602),\n",
              " ('sportswear', 0.39102983474731445),\n",
              " ('izod', 0.3909556269645691),\n",
              " ('chanel', 0.38793283700942993),\n",
              " ('vuitton', 0.38586658239364624),\n",
              " ('beatrice', 0.3856257200241089),\n",
              " ('faasen', 0.38524433970451355),\n",
              " ('handbags', 0.3780166208744049),\n",
              " ('khakis', 0.3768294155597687)]"
            ]
          },
          "metadata": {},
          "execution_count": 77
        }
      ]
    },
    {
      "cell_type": "code",
      "source": [
        "wv_from_bin.most_similar('uniqlo', topn=20)"
      ],
      "metadata": {
        "colab": {
          "base_uri": "https://localhost:8080/"
        },
        "id": "KDhhYA8BRQEA",
        "outputId": "af05d987-d736-4a17-d652-2033f44b65e2"
      },
      "execution_count": 79,
      "outputs": [
        {
          "output_type": "execute_result",
          "data": {
            "text/plain": [
              "[('mothercare', 0.4480432868003845),\n",
              " ('retailing', 0.4417460262775421),\n",
              " ('topshop', 0.42707157135009766),\n",
              " ('ready-to-wear', 0.4243854880332947),\n",
              " ('superdrug', 0.41490936279296875),\n",
              " ('mexx', 0.41237014532089233),\n",
              " ('apparel', 0.4038099944591522),\n",
              " ('aquos', 0.4026598036289215),\n",
              " ('amerisuites', 0.40242519974708557),\n",
              " ('supercenter', 0.4002472162246704),\n",
              " ('hennes', 0.39820295572280884),\n",
              " ('wertkauf', 0.3971702456474304),\n",
              " ('familymart', 0.39522767066955566),\n",
              " ('clothing', 0.3889542520046234),\n",
              " ('casual', 0.3872099220752716),\n",
              " ('fuddruckers', 0.3855218291282654),\n",
              " ('hypermarket', 0.3847671449184418),\n",
              " ('lenscrafters', 0.3843299150466919),\n",
              " ('hypermarkets', 0.3837728798389435),\n",
              " ('footwear', 0.3835541009902954)]"
            ]
          },
          "metadata": {},
          "execution_count": 79
        }
      ]
    },
    {
      "cell_type": "code",
      "source": [
        "wv_from_bin.most_similar('muji', topn=20)"
      ],
      "metadata": {
        "colab": {
          "base_uri": "https://localhost:8080/"
        },
        "id": "6RINm1BQRepG",
        "outputId": "af540c78-a063-47b8-91df-df8b775ae98c"
      },
      "execution_count": 80,
      "outputs": [
        {
          "output_type": "execute_result",
          "data": {
            "text/plain": [
              "[('dollarama', 0.5677516460418701),\n",
              " ('fopp', 0.5252377986907959),\n",
              " ('save-a-lot', 0.5073984861373901),\n",
              " ('pust', 0.503294825553894),\n",
              " ('cafepress', 0.5014147758483887),\n",
              " ('robosapien', 0.4999891519546509),\n",
              " ('computerware', 0.4943494498729706),\n",
              " ('youth-team', 0.4933806359767914),\n",
              " ('sphodromantis', 0.4912043809890747),\n",
              " ('arandas', 0.4911457598209381),\n",
              " ('steffie', 0.4886452555656433),\n",
              " ('hhgregg', 0.4884582459926605),\n",
              " ('hoshihananomia', 0.4864780008792877),\n",
              " ('madewell', 0.484527587890625),\n",
              " ('fielea', 0.4841874837875366),\n",
              " ('amoria', 0.48407652974128723),\n",
              " ('amee', 0.48195064067840576),\n",
              " ('anisopodus', 0.4813452363014221),\n",
              " ('kathyrn', 0.4795258045196533),\n",
              " ('alamelu', 0.4795111417770386)]"
            ]
          },
          "metadata": {},
          "execution_count": 80
        }
      ]
    },
    {
      "cell_type": "code",
      "source": [
        "wv_from_bin.most_similar('ikea', topn=20)"
      ],
      "metadata": {
        "colab": {
          "base_uri": "https://localhost:8080/"
        },
        "id": "ldux2-5YRplt",
        "outputId": "23ab1255-5239-4b2e-ee7c-3468772b5efc"
      },
      "execution_count": 81,
      "outputs": [
        {
          "output_type": "execute_result",
          "data": {
            "text/plain": [
              "[('furnishings', 0.556840717792511),\n",
              " ('furniture', 0.5370278358459473),\n",
              " ('retailer', 0.5350003242492676),\n",
              " ('kamprad', 0.5214967727661133),\n",
              " ('appliance', 0.5039699077606201),\n",
              " ('furnishing', 0.5018892288208008),\n",
              " ('carrefour', 0.4853472113609314),\n",
              " ('mart', 0.48211804032325745),\n",
              " ('stores', 0.47267040610313416),\n",
              " ('store', 0.4651605486869812),\n",
              " ('homewares', 0.4645256996154785),\n",
              " ('walmart', 0.46368157863616943),\n",
              " ('tesco', 0.44564101099967957),\n",
              " ('showroom', 0.44497445225715637),\n",
              " ('ahold', 0.4435151517391205),\n",
              " ('starbucks', 0.4409845471382141),\n",
              " ('gome', 0.4393410384654999),\n",
              " ('nordstrom', 0.43830612301826477),\n",
              " ('housewares', 0.4370158910751343),\n",
              " ('sephora', 0.4353094696998596)]"
            ]
          },
          "metadata": {},
          "execution_count": 81
        }
      ]
    },
    {
      "cell_type": "code",
      "source": [
        "wv_from_bin.most_similar('starbucks', topn=20)"
      ],
      "metadata": {
        "colab": {
          "base_uri": "https://localhost:8080/"
        },
        "id": "AHhy18K5Ru7K",
        "outputId": "658d3b78-502a-4c9d-ec19-2569929a52e7"
      },
      "execution_count": 82,
      "outputs": [
        {
          "output_type": "execute_result",
          "data": {
            "text/plain": [
              "[(\"dunkin'\", 0.6544542908668518),\n",
              " ('donuts', 0.6264630556106567),\n",
              " ('coffee', 0.5818396806716919),\n",
              " ('7-eleven', 0.5697736144065857),\n",
              " ('mcdonalds', 0.5504791736602783),\n",
              " ('mcdonald', 0.5476234555244446),\n",
              " ('mart', 0.5473501682281494),\n",
              " ('stores', 0.5459513664245605),\n",
              " ('cafe', 0.5380913615226746),\n",
              " ('latte', 0.5291129350662231),\n",
              " ('store', 0.5187830924987793),\n",
              " ('coffeehouse', 0.5159116983413696),\n",
              " ('cola', 0.515746533870697),\n",
              " ('walgreens', 0.5145913362503052),\n",
              " ('grocery', 0.5108262896537781),\n",
              " ('costco', 0.5016781091690063),\n",
              " ('espresso', 0.5003819465637207),\n",
              " ('supermarket', 0.5002560019493103),\n",
              " ('burger', 0.4983474910259247),\n",
              " ('restaurants', 0.4975537657737732)]"
            ]
          },
          "metadata": {},
          "execution_count": 82
        }
      ]
    },
    {
      "cell_type": "code",
      "source": [
        "wv_from_bin.most_similar('shein', topn=20)"
      ],
      "metadata": {
        "colab": {
          "base_uri": "https://localhost:8080/"
        },
        "id": "15sOyZ8tR9ae",
        "outputId": "16dcd85c-f7d6-48a5-9774-a9c81ef682bf"
      },
      "execution_count": 88,
      "outputs": [
        {
          "output_type": "execute_result",
          "data": {
            "text/plain": [
              "[('abdullahi', 0.5094675421714783),\n",
              " ('mwinyi', 0.5089333653450012),\n",
              " ('shahbazi', 0.5017743110656738),\n",
              " ('macki', 0.4922594428062439),\n",
              " ('bedjaoui', 0.48187005519866943),\n",
              " ('abdulahi', 0.47975942492485046),\n",
              " ('cassim', 0.4737018942832947),\n",
              " ('jiachen', 0.4647853374481201),\n",
              " ('taha', 0.4621591567993164),\n",
              " ('samatar', 0.46127787232398987),\n",
              " ('hamzah', 0.4569692313671112),\n",
              " ('rachid', 0.4540257453918457),\n",
              " ('parviz', 0.451188862323761),\n",
              " ('abdellahi', 0.4502997398376465),\n",
              " ('sheni', 0.4491506814956665),\n",
              " ('zou', 0.44524067640304565),\n",
              " ('kahlah', 0.4451759457588196),\n",
              " ('ahmadou', 0.4397560954093933),\n",
              " ('kourouma', 0.4382806122303009),\n",
              " ('yoshihisa', 0.4374973773956299)]"
            ]
          },
          "metadata": {},
          "execution_count": 88
        }
      ]
    },
    {
      "cell_type": "markdown",
      "metadata": {
        "id": "yA1A3fiQapzW"
      },
      "source": [
        "#### <font color=\"red\">Write your answer here.</font>"
      ]
    },
    {
      "cell_type": "code",
      "source": [
        "# get word vector and calculate distance\n",
        "len(wv_from_bin['apple'])"
      ],
      "metadata": {
        "colab": {
          "base_uri": "https://localhost:8080/"
        },
        "id": "k_-oyUdhSrxj",
        "outputId": "1a65fb60-7915-4bac-f882-343771b914bd"
      },
      "execution_count": 90,
      "outputs": [
        {
          "output_type": "execute_result",
          "data": {
            "text/plain": [
              "200"
            ]
          },
          "metadata": {},
          "execution_count": 90
        }
      ]
    },
    {
      "cell_type": "markdown",
      "metadata": {
        "id": "Y4gdNuzmapzW"
      },
      "source": [
        "### Question 2.3: Synonyms & Antonyms (2 points) [code + written] \n",
        "\n",
        "When considering Cosine Similarity, it's often more convenient to think of Cosine Distance, which is simply 1 - Cosine Similarity.\n",
        "\n",
        "Find three words $(w_1,w_2,w_3)$ where $w_1$ and $w_2$ are synonyms and $w_1$ and $w_3$ are antonyms, but Cosine Distance $(w_1,w_3) <$ Cosine Distance $(w_1,w_2)$. \n",
        "\n",
        "As an example, $w_1$=\"happy\" is closer to $w_3$=\"sad\" than to $w_2$=\"cheerful\". Please find a different example that satisfies the above. Once you have found your example, please give a possible explanation for why this counter-intuitive result may have happened.\n",
        "\n",
        "You should use the the `wv_from_bin.distance(w1, w2)` function here in order to compute the cosine distance between two words. Please see the __[GenSim documentation](https://radimrehurek.com/gensim/models/keyedvectors.html#gensim.models.keyedvectors.FastTextKeyedVectors.distance)__ for further assistance."
      ]
    },
    {
      "cell_type": "code",
      "execution_count": 91,
      "metadata": {
        "colab": {
          "base_uri": "https://localhost:8080/"
        },
        "id": "mE07ZmUsapzW",
        "outputId": "de31037a-a607-4edd-c221-bef9151e47bb"
      },
      "outputs": [
        {
          "output_type": "execute_result",
          "data": {
            "text/plain": [
              "0.6302466988563538"
            ]
          },
          "metadata": {},
          "execution_count": 91
        }
      ],
      "source": [
        "# ------------------\n",
        "# Write your implementation here.\n",
        "wv_from_bin.distance('apple', 'samsung')\n",
        "# ------------------"
      ]
    },
    {
      "cell_type": "code",
      "source": [
        "wv_from_bin.distance('bmw', 'tesla')"
      ],
      "metadata": {
        "colab": {
          "base_uri": "https://localhost:8080/"
        },
        "id": "ZhpHpqBbTYj-",
        "outputId": "76187c33-e3c3-41aa-fd46-257d97ee92f3"
      },
      "execution_count": 94,
      "outputs": [
        {
          "output_type": "execute_result",
          "data": {
            "text/plain": [
              "0.7255839705467224"
            ]
          },
          "metadata": {},
          "execution_count": 94
        }
      ]
    },
    {
      "cell_type": "code",
      "source": [
        "wv_from_bin.distance('apple', 'huawei')"
      ],
      "metadata": {
        "colab": {
          "base_uri": "https://localhost:8080/"
        },
        "id": "8QXUuTBcTVg2",
        "outputId": "3fe806ac-ba63-4056-fc1e-0dc538e53e45"
      },
      "execution_count": 93,
      "outputs": [
        {
          "output_type": "execute_result",
          "data": {
            "text/plain": [
              "0.7887519299983978"
            ]
          },
          "metadata": {},
          "execution_count": 93
        }
      ]
    },
    {
      "cell_type": "code",
      "source": [
        "wv_from_bin.distance('apple', 'microsoft')"
      ],
      "metadata": {
        "colab": {
          "base_uri": "https://localhost:8080/"
        },
        "id": "QJfBpbZwTRVA",
        "outputId": "59cc00a4-d96b-46be-89f3-943f0dc3bbac"
      },
      "execution_count": 92,
      "outputs": [
        {
          "output_type": "execute_result",
          "data": {
            "text/plain": [
              "0.3938061594963074"
            ]
          },
          "metadata": {},
          "execution_count": 92
        }
      ]
    },
    {
      "cell_type": "markdown",
      "metadata": {
        "id": "EVCBtXNvapzX"
      },
      "source": [
        "#### <font color=\"red\">Write your answer here.</font>"
      ]
    },
    {
      "cell_type": "markdown",
      "metadata": {
        "id": "FaTuY5evapzX"
      },
      "source": [
        "### Question 2.4: Analogies with Word Vectors [written] (1.5 points)\n",
        "Word vectors have been shown to *sometimes* exhibit the ability to solve analogies. \n",
        "\n",
        "As an example, for the analogy \"man : grandfather :: woman : x\" (read: man is to grandfather as woman is to x), what is x?\n",
        "\n",
        "In the cell below, we show you how to use word vectors to find x using the `most_similar` function from the __[GenSim documentation](https://radimrehurek.com/gensim/models/keyedvectors.html#gensim.models.keyedvectors.KeyedVectors.most_similar)__. The function finds words that are most similar to the words in the `positive` list and most dissimilar from the words in the `negative` list (while omitting the input words, which are often the most similar; see [this paper](https://www.aclweb.org/anthology/N18-2039.pdf)). The answer to the analogy will have the highest cosine similarity (largest returned numerical value)."
      ]
    },
    {
      "cell_type": "code",
      "execution_count": 95,
      "metadata": {
        "colab": {
          "base_uri": "https://localhost:8080/"
        },
        "id": "m5Lh6dwyapzX",
        "outputId": "7ee29a6e-e15a-40fc-b6af-ef3fe00ce322"
      },
      "outputs": [
        {
          "output_type": "stream",
          "name": "stdout",
          "text": [
            "[('grandmother', 0.7608444690704346),\n",
            " ('granddaughter', 0.7200808525085449),\n",
            " ('daughter', 0.7168302536010742),\n",
            " ('mother', 0.7151535749435425),\n",
            " ('niece', 0.7005682587623596),\n",
            " ('father', 0.6659887433052063),\n",
            " ('aunt', 0.6623408794403076),\n",
            " ('grandson', 0.6618767976760864),\n",
            " ('grandparents', 0.6446609497070312),\n",
            " ('wife', 0.6445354223251343)]\n"
          ]
        }
      ],
      "source": [
        "# Run this cell to answer the analogy -- man : grandfather :: woman : x\n",
        "pprint.pprint(wv_from_bin.most_similar(positive=['woman', 'grandfather'], negative=['man']))"
      ]
    },
    {
      "cell_type": "code",
      "source": [
        "wv_from_bin.most_similar('bmw', topn=20)"
      ],
      "metadata": {
        "colab": {
          "base_uri": "https://localhost:8080/"
        },
        "id": "H1KRHwu4TylX",
        "outputId": "09fbf76a-529e-4ca2-a0e5-954161dfa5f7"
      },
      "execution_count": 97,
      "outputs": [
        {
          "output_type": "execute_result",
          "data": {
            "text/plain": [
              "[('mercedes', 0.7167689800262451),\n",
              " ('audi', 0.6868889331817627),\n",
              " ('benz', 0.6840651035308838),\n",
              " ('volkswagen', 0.6554473042488098),\n",
              " ('renault', 0.6368719339370728),\n",
              " ('porsche', 0.6318350434303284),\n",
              " ('sauber', 0.6147507429122925),\n",
              " ('volvo', 0.5863637924194336),\n",
              " ('honda', 0.5849629640579224),\n",
              " ('ferrari', 0.5820727348327637),\n",
              " ('toyota', 0.579595685005188),\n",
              " ('vw', 0.5752115249633789),\n",
              " ('daimler', 0.5745106935501099),\n",
              " ('nissan', 0.5712559223175049),\n",
              " ('daimlerchrysler', 0.5703006982803345),\n",
              " ('5-series', 0.570095419883728),\n",
              " ('lexus', 0.5572115182876587),\n",
              " ('3-series', 0.5559712648391724),\n",
              " ('carmaker', 0.5429246425628662),\n",
              " ('peugeot', 0.5404567718505859)]"
            ]
          },
          "metadata": {},
          "execution_count": 97
        }
      ]
    },
    {
      "cell_type": "code",
      "source": [
        "wv_from_bin.most_similar('tesla', topn=20)"
      ],
      "metadata": {
        "colab": {
          "base_uri": "https://localhost:8080/"
        },
        "id": "Lj8iVNtbT4MJ",
        "outputId": "7490fa98-454d-4146-9831-86771adc3dea"
      },
      "execution_count": 99,
      "outputs": [
        {
          "output_type": "execute_result",
          "data": {
            "text/plain": [
              "[('motors', 0.5129432678222656),\n",
              " ('roadster', 0.4831695556640625),\n",
              " ('nikola', 0.4811766445636749),\n",
              " ('edison', 0.45055288076400757),\n",
              " ('isuzu', 0.4434756636619568),\n",
              " ('electric', 0.44116291403770447),\n",
              " ('volt', 0.44067317247390747),\n",
              " ('inventor', 0.4354279637336731),\n",
              " ('nvidia', 0.43264564871788025),\n",
              " ('wardenclyffe', 0.41840118169784546),\n",
              " ('ev1', 0.41791832447052),\n",
              " ('coil', 0.41244134306907654),\n",
              " ('coils', 0.38744261860847473),\n",
              " ('lamborghini', 0.38667115569114685),\n",
              " ('rechargeable', 0.38486722111701965),\n",
              " ('roadsters', 0.3818674385547638),\n",
              " ('g.m.', 0.380782812833786),\n",
              " ('plug-in', 0.37828201055526733),\n",
              " ('mazda', 0.3778231739997864),\n",
              " ('micron', 0.3718774914741516)]"
            ]
          },
          "metadata": {},
          "execution_count": 99
        }
      ]
    },
    {
      "cell_type": "code",
      "source": [
        "pprint.pprint(wv_from_bin.most_similar(positive=['tesla', 'electric'], topn=20))"
      ],
      "metadata": {
        "colab": {
          "base_uri": "https://localhost:8080/"
        },
        "id": "21OwL1ZZTkfy",
        "outputId": "d2e27ceb-a479-4923-e3f4-001cc0dec3de"
      },
      "execution_count": 108,
      "outputs": [
        {
          "output_type": "stream",
          "name": "stdout",
          "text": [
            "[('motors', 0.6628822684288025),\n",
            " ('edison', 0.5562387704849243),\n",
            " ('volt', 0.552075207233429),\n",
            " ('motor', 0.5233665704727173),\n",
            " ('powered', 0.5075327157974243),\n",
            " ('generator', 0.4958832859992981),\n",
            " ('electrical', 0.48335257172584534),\n",
            " ('generators', 0.4827658236026764),\n",
            " ('ev1', 0.47071534395217896),\n",
            " ('utility', 0.46966060996055603),\n",
            " ('hydro', 0.46765753626823425),\n",
            " ('manufacturer', 0.4638749957084656),\n",
            " ('turbines', 0.4637964367866516),\n",
            " ('solid-body', 0.46288713812828064),\n",
            " ('rechargeable', 0.46252211928367615),\n",
            " ('electricity', 0.459147185087204),\n",
            " ('sanyo', 0.4552963376045227),\n",
            " ('westinghouse', 0.4528196156024933),\n",
            " ('ge', 0.4520060420036316),\n",
            " ('battery', 0.4470507502555847)]\n"
          ]
        }
      ]
    },
    {
      "cell_type": "markdown",
      "metadata": {
        "id": "vfMYBUSqapzX"
      },
      "source": [
        "Let $m$, $g$, $w$, and $x$ denote the word vectors for `man`, `grandfather`, `woman`, and the answer, respectively. Using **only** vectors $m$, $g$, $w$, and the vector arithmetic operators $+$ and $-$ in your answer, what is the expression in which we are maximizing cosine similarity with $x$?\n",
        "\n",
        "Hint: Recall that word vectors are simply multi-dimensional vectors that represent a word. It might help to draw out a 2D example using arbitrary locations of each vector. Where would `man` and `woman` lie in the coordinate plane relative to `grandfather` and the answer?"
      ]
    },
    {
      "cell_type": "markdown",
      "metadata": {
        "id": "jK3SKCE9apzX"
      },
      "source": [
        "#### <font color=\"red\">Write your answer here.</font>"
      ]
    },
    {
      "cell_type": "markdown",
      "metadata": {
        "id": "BE3QFjKIapzX"
      },
      "source": [
        "### Question 2.5: Finding Analogies [code + written]  (1.5 points)\n",
        "Find an example of analogy that holds according to these vectors (i.e. the intended word is ranked top). In your solution please state the full analogy in the form x:y :: a:b. If you believe the analogy is complicated, explain why the analogy holds in one or two sentences.\n",
        "\n",
        "**Note**: You may have to try many analogies to find one that works!"
      ]
    },
    {
      "cell_type": "code",
      "execution_count": 110,
      "metadata": {
        "colab": {
          "base_uri": "https://localhost:8080/"
        },
        "id": "Ql58XJcHapzX",
        "outputId": "c8a6a6ef-fc18-4256-c13f-db2e7a68a736"
      },
      "outputs": [
        {
          "output_type": "stream",
          "name": "stdout",
          "text": [
            "[('prince', 0.5498569011688232),\n",
            " ('ii', 0.5442492365837097),\n",
            " ('brother', 0.5355215072631836),\n",
            " ('iii', 0.5316785573959351),\n",
            " ('reign', 0.5311692357063293),\n",
            " ('uncle', 0.5205864906311035),\n",
            " ('kingdom', 0.5030312538146973),\n",
            " ('henry', 0.4990271329879761),\n",
            " ('kings', 0.496202290058136),\n",
            " ('iv', 0.4810381531715393)]\n"
          ]
        }
      ],
      "source": [
        "# ------------------\n",
        "# Write your implementation here.\n",
        "# Run this cell to answer the analogy -- man : grandfather :: woman : x\n",
        "pprint.pprint(wv_from_bin.most_similar(positive=['man', 'king'], negative=['woman']))\n",
        "\n",
        "# ------------------"
      ]
    },
    {
      "cell_type": "markdown",
      "metadata": {
        "id": "Q3tTUKrgapzY"
      },
      "source": [
        "#### <font color=\"red\">Write your answer here.</font>"
      ]
    },
    {
      "cell_type": "markdown",
      "metadata": {
        "id": "jexm6Yb5apzY"
      },
      "source": [
        "### Question 2.6: Incorrect Analogy [code + written] (1.5 points)\n",
        "Find an example of analogy that does *not* hold according to these vectors. In your solution, state the intended analogy in the form x:y :: a:b, and state the (incorrect) value of b according to the word vectors."
      ]
    },
    {
      "cell_type": "code",
      "execution_count": null,
      "metadata": {
        "id": "UFENgNafapzY"
      },
      "outputs": [],
      "source": [
        "# ------------------\n",
        "# Write your implementation here.\n",
        "\n",
        "\n",
        "\n",
        "# ------------------"
      ]
    },
    {
      "cell_type": "markdown",
      "metadata": {
        "id": "ZJrs2VUSapzY"
      },
      "source": [
        "#### <font color=\"red\">Write your answer here.</font>"
      ]
    },
    {
      "cell_type": "markdown",
      "metadata": {
        "id": "Au4yiwZ7apzY"
      },
      "source": [
        "### Question 2.7: Guided Analysis of Bias in Word Vectors [written] (1 point)\n",
        "\n",
        "It's important to be cognizant of the biases (gender, race, sexual orientation etc.) implicit in our word embeddings. Bias can be dangerous because it can reinforce stereotypes through applications that employ these models.\n",
        "\n",
        "Run the cell below, to examine (a) which terms are most similar to \"girl\" and \"toy\" and most dissimilar to \"boy\", and (b) which terms are most similar to \"boy\" and \"toy\" and most dissimilar to \"girl\". Point out the difference between the list of female-associated words and the list of male-associated words, and explain how it is reflecting gender bias."
      ]
    },
    {
      "cell_type": "code",
      "execution_count": 111,
      "metadata": {
        "colab": {
          "base_uri": "https://localhost:8080/"
        },
        "id": "4v2DqVySapzY",
        "outputId": "4e4f4b87-7463-4001-f400-fef7005d363d"
      },
      "outputs": [
        {
          "output_type": "stream",
          "name": "stdout",
          "text": [
            "[('toys', 0.7094953060150146),\n",
            " ('doll', 0.5932915210723877),\n",
            " ('dolls', 0.570662260055542),\n",
            " ('barbie', 0.5407705903053284),\n",
            " ('mattel', 0.5328551530838013),\n",
            " ('accessories', 0.52069091796875),\n",
            " ('hasbro', 0.4922722280025482),\n",
            " ('jewelry', 0.47385698556900024),\n",
            " ('lego', 0.4690813720226288),\n",
            " ('apparel', 0.461362361907959)]\n",
            "\n",
            "[('toys', 0.7157087326049805),\n",
            " ('hasbro', 0.5164632797241211),\n",
            " ('robot', 0.4731711149215698),\n",
            " ('pet', 0.4670490026473999),\n",
            " ('manufacturer', 0.46681636571884155),\n",
            " ('mattel', 0.4582391381263733),\n",
            " ('lego', 0.45811760425567627),\n",
            " ('miniature', 0.4441472291946411),\n",
            " ('makers', 0.4429824650287628),\n",
            " ('manufactured', 0.44275349378585815)]\n"
          ]
        }
      ],
      "source": [
        "# Run this cell\n",
        "# Here `positive` indicates the list of words to be similar to and `negative` indicates the list of words to be\n",
        "# most dissimilar from.\n",
        "pprint.pprint(wv_from_bin.most_similar(positive=['girl', 'toy'], negative=['boy']))\n",
        "print()\n",
        "pprint.pprint(wv_from_bin.most_similar(positive=['boy', 'toy'], negative=['girl']))"
      ]
    },
    {
      "cell_type": "markdown",
      "metadata": {
        "id": "qbHjndDMapzY"
      },
      "source": [
        "#### <font color=\"red\">Write your answer here.</font>"
      ]
    },
    {
      "cell_type": "markdown",
      "metadata": {
        "id": "LyJiEGr-apzZ"
      },
      "source": [
        "### Question 2.8: Independent Analysis of Bias in Word Vectors [code + written]  (1 point)\n",
        "\n",
        "Use the `most_similar` function to find another case where some bias is exhibited by the vectors. Please briefly explain the example of bias that you discover."
      ]
    },
    {
      "cell_type": "code",
      "execution_count": null,
      "metadata": {
        "id": "9l9qOtTfapzZ"
      },
      "outputs": [],
      "source": [
        "# ------------------\n",
        "# Write your implementation here.\n",
        "\n",
        "\n",
        "# ------------------"
      ]
    },
    {
      "cell_type": "markdown",
      "metadata": {
        "id": "YX05kxsxapzZ"
      },
      "source": [
        "#### <font color=\"red\">Write your answer here.</font>"
      ]
    },
    {
      "cell_type": "markdown",
      "metadata": {
        "id": "t3yckUO7apzZ"
      },
      "source": [
        "### Question 2.9: Thinking About Bias [written] (2 points)\n",
        "\n",
        "Give one explanation of how bias gets into the word vectors. What is an experiment that you could do to test for or to measure this source of bias?"
      ]
    },
    {
      "cell_type": "markdown",
      "metadata": {
        "id": "Oh8fmy98apzZ"
      },
      "source": [
        "#### <font color=\"red\">Write your answer here.</font>"
      ]
    },
    {
      "cell_type": "markdown",
      "metadata": {
        "id": "jQM2eJdGapzZ"
      },
      "source": [
        "# <font color=\"blue\"> Submission Instructions</font>\n",
        "\n",
        "1. Click the Save button at the top of the Jupyter Notebook.\n",
        "2. Select Cell -> All Output -> Clear. This will clear all the outputs from all cells (but will keep the content of all cells). \n",
        "2. Select Cell -> Run All. This will run all the cells in order, and will take several minutes.\n",
        "3. Once you've rerun everything, select File -> Download as -> PDF via LaTeX (If you have trouble using \"PDF via LaTex\", you can also save the webpage as pdf. <font color='blue'> Make sure all your solutions especially the coding parts are displayed in the pdf</font>, it's okay if the provided codes get cut off because lines are not wrapped in code cells).\n",
        "4. Look at the PDF file and make sure all your solutions are there, displayed correctly. The PDF is the only thing your graders will see!\n",
        "5. Submit your PDF on Gradescope."
      ]
    }
  ],
  "metadata": {
    "anaconda-cloud": {},
    "kernelspec": {
      "display_name": "cs224n",
      "language": "python",
      "name": "cs224n"
    },
    "language_info": {
      "codemirror_mode": {
        "name": "ipython",
        "version": 3
      },
      "file_extension": ".py",
      "mimetype": "text/x-python",
      "name": "python",
      "nbconvert_exporter": "python",
      "pygments_lexer": "ipython3",
      "version": "3.7.11"
    },
    "colab": {
      "name": "exploring_word_vectors.ipynb",
      "provenance": [],
      "include_colab_link": true
    }
  },
  "nbformat": 4,
  "nbformat_minor": 0
}