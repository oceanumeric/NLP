{
 "cells": [
  {
   "cell_type": "markdown",
   "source": [
    "We have a list of textfiles in the folder `data/dev`, for instances:\n",
    "* aiken\n",
    "* balaji\n",
    "\n",
    "We a a file `devGOLD` which gives the target information, such as\n",
    "\n",
    "```\n",
    "ashishg\te\tashishg@stanford.edu\n",
    "ashishg\te\trozm@stanford.edu\n",
    "ashishg\tp\t650-723-1614\n",
    "ashishg\tp\t650-723-4173\n",
    "ashishg\tp\t650-814-1478\n",
    "balaji\te\tbalaji@stanford.edu\n",
    "bgirod\tp\t650-723-4539\n",
    "bgirod\tp\t650-724-3648\n",
    "bgirod\tp\t650-724-6354\n",
    "```\n",
    "\n",
    "__mission__: extract phone numbers and emails from those documents\n"
   ],
   "metadata": {}
  },
  {
   "cell_type": "code",
   "execution_count": 1,
   "source": [
    "import SpamLord as sl\n",
    "import os\n",
    "import re"
   ],
   "outputs": [],
   "metadata": {}
  },
  {
   "cell_type": "code",
   "execution_count": 79,
   "source": [
    "# define a function to extract information based on the regular exression pattern\n",
    "def email_extract(pattern, data_path):\n",
    "    # input: list of regular expression patterns and data path\n",
    "    # output: list of sets (filename, e/p, extracted_information)\n",
    "    res = []\n",
    "    for fname in os.listdir(data_path):\n",
    "        if fname[0] == '.':\n",
    "            continue \n",
    "        path = os.path.join(data_path, fname)\n",
    "        f = open(path, 'r', encoding=\"ISO-8859-1\")\n",
    "        for line in f:\n",
    "            matches = re.findall(pattern, line)\n",
    "            if matches:\n",
    "                res.append((fname, 'e', matches[0]))\n",
    "    return res"
   ],
   "outputs": [],
   "metadata": {}
  },
  {
   "cell_type": "code",
   "execution_count": 81,
   "source": [
    "def phone_extract(pattern, data_path):\n",
    "    # input: list of regular expression patterns and data path\n",
    "    # output: list of sets (filename, e/p, extracted_information)\n",
    "    res = []\n",
    "    for fname in os.listdir(data_path):\n",
    "        if fname[0] == '.':\n",
    "            continue \n",
    "        path = os.path.join(data_path, fname)\n",
    "        f = open(path, 'r', encoding=\"ISO-8859-1\")\n",
    "        for line in f:\n",
    "            matches = re.findall(pattern, line)\n",
    "            if matches:\n",
    "                res.append((fname, 'p',\n",
    "                f'{matches[0][1][1:4]}-{matches[0][2]}-{matches[0][3]}'))\n",
    "    return res"
   ],
   "outputs": [],
   "metadata": {}
  },
  {
   "cell_type": "code",
   "execution_count": 64,
   "source": [
    "'45s'.isalpha()"
   ],
   "outputs": [
    {
     "output_type": "execute_result",
     "data": {
      "text/plain": [
       "False"
      ]
     },
     "metadata": {},
     "execution_count": 64
    }
   ],
   "metadata": {}
  },
  {
   "cell_type": "code",
   "execution_count": 80,
   "source": [
    "phone_pattern1 = r'/^\\(?(1-)?(1\\s)?(1\\.)?(1\\/)?(1\\s\\()?1?(\\d{3})\\s?\\.?\\-?\\)?\\/?\\s?(\\d{3})\\s?\\-?\\.?\\/?\\d{4}$'\n",
    "phone_pattern2 = r'((\\(\\d{3}\\)) ?(\\d{3})\\-(\\d{4}))'\n",
    "email_pattern = r'\\b[A-Za-z0-9._%+-]+@[A-Za-z0-9.-]+\\.[A-Z|a-z]{2,}\\b'\n",
    "email_list = email_extract(email_pattern, './data/dev')\n",
    "email_list"
   ],
   "outputs": [
    {
     "output_type": "execute_result",
     "data": {
      "text/plain": [
       "[('manning', 'e', 'manning@cs.stanford.edu'),\n",
       " ('manning', 'e', 'dbarros@cs.stanford.edu'),\n",
       " ('manning', 'e', 'manning@cs.stanford.edu'),\n",
       " ('zm', 'e', 'manna@cs.stanford.edu'),\n",
       " ('nick', 'e', 'nick.parlante@cs.stanford.edu'),\n",
       " ('cheriton', 'e', 'cheriton@cs.stanford.edu'),\n",
       " ('cheriton', 'e', 'uma@cs.stanford.EDU'),\n",
       " ('psyoung', 'e', 'patrick.young@stanford.edu'),\n",
       " ('kunle', 'e', 'kunle@ogun.stanford.edu'),\n",
       " ('kunle', 'e', 'darlene@csl.stanford.edu'),\n",
       " ('engler', 'e', 'engler@lcs.mit.edu'),\n",
       " ('eroberts', 'e', 'eroberts@cs.stanford.edu'),\n",
       " ('rinard', 'e', 'rinard@lcs.mit.edu'),\n",
       " ('thm', 'e', 'pkrokel@Stanford.edu'),\n",
       " ('balaji', 'e', 'balaji@stanford.edu'),\n",
       " ('zelenski', 'e', 'zelenski@cs.stanford.edu'),\n",
       " ('latombe', 'e', 'latombe@cs.stanford.edu'),\n",
       " ('latombe', 'e', 'asandra@cs.stanford.edu'),\n",
       " ('latombe', 'e', 'liliana@cs.stanford.edu'),\n",
       " ('widom', 'e', 'siroker@cs.stanford.edu'),\n",
       " ('widom', 'e', 'widom@cs.stanford.edu'),\n",
       " ('dabo', 'e', 'dabo@cs.stanford.edu'),\n",
       " ('fedkiw', 'e', 'fedkiw@cs.stanford.edu'),\n",
       " ('kosecka', 'e', 'kosecka@cs.gmu.edu'),\n",
       " ('hanrahan', 'e', 'hanrahan@cs.stanford.edu'),\n",
       " ('nass', 'e', 'nass@stanford.edu'),\n",
       " ('nass', 'e', 'nass@stanford.edu'),\n",
       " ('shoham', 'e', 'shoham@stanford.edu')]"
      ]
     },
     "metadata": {},
     "execution_count": 80
    }
   ],
   "metadata": {}
  },
  {
   "cell_type": "code",
   "execution_count": 83,
   "source": [
    "phone_list = phone_extract(phone_pattern2, './data/dev')\n",
    "phone_list"
   ],
   "outputs": [
    {
     "output_type": "execute_result",
     "data": {
      "text/plain": [
       "[('manning', 'p', '650-723-7683'),\n",
       " ('manning', 'p', '650-725-1449'),\n",
       " ('manning', 'p', '650-725-3358'),\n",
       " ('zm', 'p', '650-723-4364'),\n",
       " ('zm', 'p', '650-725-4671'),\n",
       " ('hager', 'p', '410-516-5521'),\n",
       " ('hager', 'p', '410-516-5553'),\n",
       " ('nick', 'p', '650-725-4727'),\n",
       " ('ok', 'p', '650-723-9753'),\n",
       " ('ok', 'p', '650-725-1449'),\n",
       " ('lam', 'p', '650-725-3714'),\n",
       " ('lam', 'p', '650-725-6949'),\n",
       " ('kunle', 'p', '650-725-3713'),\n",
       " ('kunle', 'p', '650-725-6949'),\n",
       " ('kunle', 'p', '650-723-1430'),\n",
       " ('kunle', 'p', '650-725-6949'),\n",
       " ('rinard', 'p', '617-258-6922'),\n",
       " ('rinard', 'p', '617-253-1221'),\n",
       " ('thm', 'p', '650-725-3636'),\n",
       " ('thm', 'p', '650-725-3383'),\n",
       " ('thm', 'p', '650-725-3938'),\n",
       " ('thm', 'p', '650-725-3383'),\n",
       " ('serafim', 'p', '650-723-3334'),\n",
       " ('ashishg', 'p', '650-814-1478'),\n",
       " ('ashishg', 'p', '650-723-4173'),\n",
       " ('horowitz', 'p', '650-725-3707'),\n",
       " ('horowitz', 'p', '650-725-6949'),\n",
       " ('latombe', 'p', '650-723-0350'),\n",
       " ('latombe', 'p', '650-725-1449'),\n",
       " ('latombe', 'p', '650-721-6625'),\n",
       " ('latombe', 'p', '650-723-4137'),\n",
       " ('tim', 'p', '650-724-9147'),\n",
       " ('tim', 'p', '650-725-4671'),\n",
       " ('tim', 'p', '650-725-2340'),\n",
       " ('tim', 'p', '650-725-4671'),\n",
       " ('dabo', 'p', '650-725-3897'),\n",
       " ('dabo', 'p', '650-725-4671'),\n",
       " ('bgirod', 'p', '650-724-6354'),\n",
       " ('bgirod', 'p', '650-723-4539'),\n",
       " ('bgirod', 'p', '650-724-3648'),\n",
       " ('kosecka', 'p', '703-993-1876'),\n",
       " ('kosecka', 'p', '703-993-1710'),\n",
       " ('levoy', 'p', '650-725-4089'),\n",
       " ('levoy', 'p', '650-723-0033'),\n",
       " ('levoy', 'p', '650-725-3724'),\n",
       " ('levoy', 'p', '650-724-6865'),\n",
       " ('hanrahan', 'p', '650-723-8530'),\n",
       " ('hanrahan', 'p', '650-723-0033'),\n",
       " ('nass', 'p', '650-723-5499'),\n",
       " ('nass', 'p', '650-725-2472')]"
      ]
     },
     "metadata": {},
     "execution_count": 83
    }
   ],
   "metadata": {}
  },
  {
   "cell_type": "code",
   "execution_count": 84,
   "source": [
    "sl.score(email_list+phone_list, sl.get_gold('./data/devGOLD'))"
   ],
   "outputs": [
    {
     "output_type": "stream",
     "name": "stdout",
     "text": [
      "True Positives (73): \n",
      "{('ashishg', 'p', '650-723-4173'),\n",
      " ('ashishg', 'p', '650-814-1478'),\n",
      " ('balaji', 'e', 'balaji@stanford.edu'),\n",
      " ('bgirod', 'p', '650-723-4539'),\n",
      " ('bgirod', 'p', '650-724-3648'),\n",
      " ('bgirod', 'p', '650-724-6354'),\n",
      " ('cheriton', 'e', 'cheriton@cs.stanford.edu'),\n",
      " ('cheriton', 'e', 'uma@cs.stanford.edu'),\n",
      " ('dabo', 'e', 'dabo@cs.stanford.edu'),\n",
      " ('dabo', 'p', '650-725-3897'),\n",
      " ('dabo', 'p', '650-725-4671'),\n",
      " ('engler', 'e', 'engler@lcs.mit.edu'),\n",
      " ('eroberts', 'e', 'eroberts@cs.stanford.edu'),\n",
      " ('fedkiw', 'e', 'fedkiw@cs.stanford.edu'),\n",
      " ('hager', 'p', '410-516-5521'),\n",
      " ('hager', 'p', '410-516-5553'),\n",
      " ('hanrahan', 'e', 'hanrahan@cs.stanford.edu'),\n",
      " ('hanrahan', 'p', '650-723-0033'),\n",
      " ('hanrahan', 'p', '650-723-8530'),\n",
      " ('horowitz', 'p', '650-725-3707'),\n",
      " ('horowitz', 'p', '650-725-6949'),\n",
      " ('kosecka', 'e', 'kosecka@cs.gmu.edu'),\n",
      " ('kosecka', 'p', '703-993-1710'),\n",
      " ('kosecka', 'p', '703-993-1876'),\n",
      " ('kunle', 'e', 'darlene@csl.stanford.edu'),\n",
      " ('kunle', 'e', 'kunle@ogun.stanford.edu'),\n",
      " ('kunle', 'p', '650-723-1430'),\n",
      " ('kunle', 'p', '650-725-3713'),\n",
      " ('kunle', 'p', '650-725-6949'),\n",
      " ('lam', 'p', '650-725-3714'),\n",
      " ('lam', 'p', '650-725-6949'),\n",
      " ('latombe', 'e', 'asandra@cs.stanford.edu'),\n",
      " ('latombe', 'e', 'latombe@cs.stanford.edu'),\n",
      " ('latombe', 'e', 'liliana@cs.stanford.edu'),\n",
      " ('latombe', 'p', '650-721-6625'),\n",
      " ('latombe', 'p', '650-723-0350'),\n",
      " ('latombe', 'p', '650-723-4137'),\n",
      " ('latombe', 'p', '650-725-1449'),\n",
      " ('levoy', 'p', '650-723-0033'),\n",
      " ('levoy', 'p', '650-724-6865'),\n",
      " ('levoy', 'p', '650-725-3724'),\n",
      " ('levoy', 'p', '650-725-4089'),\n",
      " ('manning', 'e', 'dbarros@cs.stanford.edu'),\n",
      " ('manning', 'e', 'manning@cs.stanford.edu'),\n",
      " ('manning', 'p', '650-723-7683'),\n",
      " ('manning', 'p', '650-725-1449'),\n",
      " ('manning', 'p', '650-725-3358'),\n",
      " ('nass', 'e', 'nass@stanford.edu'),\n",
      " ('nass', 'p', '650-723-5499'),\n",
      " ('nass', 'p', '650-725-2472'),\n",
      " ('nick', 'e', 'nick.parlante@cs.stanford.edu'),\n",
      " ('nick', 'p', '650-725-4727'),\n",
      " ('ok', 'p', '650-723-9753'),\n",
      " ('ok', 'p', '650-725-1449'),\n",
      " ('psyoung', 'e', 'patrick.young@stanford.edu'),\n",
      " ('rinard', 'e', 'rinard@lcs.mit.edu'),\n",
      " ('rinard', 'p', '617-253-1221'),\n",
      " ('rinard', 'p', '617-258-6922'),\n",
      " ('serafim', 'p', '650-723-3334'),\n",
      " ('shoham', 'e', 'shoham@stanford.edu'),\n",
      " ('thm', 'e', 'pkrokel@stanford.edu'),\n",
      " ('thm', 'p', '650-725-3383'),\n",
      " ('thm', 'p', '650-725-3636'),\n",
      " ('thm', 'p', '650-725-3938'),\n",
      " ('tim', 'p', '650-724-9147'),\n",
      " ('tim', 'p', '650-725-2340'),\n",
      " ('tim', 'p', '650-725-4671'),\n",
      " ('widom', 'e', 'siroker@cs.stanford.edu'),\n",
      " ('widom', 'e', 'widom@cs.stanford.edu'),\n",
      " ('zelenski', 'e', 'zelenski@cs.stanford.edu'),\n",
      " ('zm', 'e', 'manna@cs.stanford.edu'),\n",
      " ('zm', 'p', '650-723-4364'),\n",
      " ('zm', 'p', '650-725-4671')}\n",
      "False Positives (0): \n",
      "set()\n",
      "False Negatives (44): \n",
      "{('ashishg', 'e', 'ashishg@stanford.edu'),\n",
      " ('ashishg', 'e', 'rozm@stanford.edu'),\n",
      " ('ashishg', 'p', '650-723-1614'),\n",
      " ('cheriton', 'p', '650-723-1131'),\n",
      " ('cheriton', 'p', '650-725-3726'),\n",
      " ('dlwh', 'e', 'dlwh@stanford.edu'),\n",
      " ('engler', 'e', 'engler@stanford.edu'),\n",
      " ('eroberts', 'p', '650-723-3642'),\n",
      " ('eroberts', 'p', '650-723-6092'),\n",
      " ('hager', 'e', 'hager@cs.jhu.edu'),\n",
      " ('hager', 'p', '410-516-8000'),\n",
      " ('jks', 'e', 'jks@robotics.stanford.edu'),\n",
      " ('jurafsky', 'e', 'jurafsky@stanford.edu'),\n",
      " ('jurafsky', 'p', '650-723-5666'),\n",
      " ('lam', 'e', 'lam@cs.stanford.edu'),\n",
      " ('levoy', 'e', 'ada@graphics.stanford.edu'),\n",
      " ('levoy', 'e', 'melissa@graphics.stanford.edu'),\n",
      " ('ouster', 'e', 'ouster@cs.stanford.edu'),\n",
      " ('ouster', 'e', 'teresa.lynn@stanford.edu'),\n",
      " ('pal', 'e', 'pal@cs.stanford.edu'),\n",
      " ('pal', 'p', '650-725-9046'),\n",
      " ('rajeev', 'p', '650-723-4377'),\n",
      " ('rajeev', 'p', '650-723-6045'),\n",
      " ('rajeev', 'p', '650-725-4671'),\n",
      " ('serafim', 'e', 'serafim@cs.stanford.edu'),\n",
      " ('serafim', 'p', '650-725-1449'),\n",
      " ('shoham', 'p', '650-723-3432'),\n",
      " ('shoham', 'p', '650-725-1449'),\n",
      " ('subh', 'e', 'subh@stanford.edu'),\n",
      " ('subh', 'e', 'uma@cs.stanford.edu'),\n",
      " ('subh', 'p', '650-724-1915'),\n",
      " ('subh', 'p', '650-725-3726'),\n",
      " ('subh', 'p', '650-725-6949'),\n",
      " ('ullman', 'e', 'support@gradiance.com'),\n",
      " ('ullman', 'e', 'ullman@cs.stanford.edu'),\n",
      " ('ullman', 'p', '650-494-8016'),\n",
      " ('ullman', 'p', '650-725-2588'),\n",
      " ('ullman', 'p', '650-725-4802'),\n",
      " ('vladlen', 'e', 'vladlen@stanford.edu'),\n",
      " ('widom', 'p', '650-723-0872'),\n",
      " ('widom', 'p', '650-723-7690'),\n",
      " ('widom', 'p', '650-725-2588'),\n",
      " ('zelenski', 'p', '650-723-6092'),\n",
      " ('zelenski', 'p', '650-725-8596')}\n",
      "Summary: tp=73, fp=0, fn=44\n"
     ]
    }
   ],
   "metadata": {}
  },
  {
   "cell_type": "code",
   "execution_count": null,
   "source": [],
   "outputs": [],
   "metadata": {}
  }
 ],
 "metadata": {
  "interpreter": {
   "hash": "5b9de406398efd0ba930f3892b796b87418a93e919060693a9aa912c9dedff03"
  },
  "kernelspec": {
   "name": "python3",
   "display_name": "Python 3.9.2 64-bit ('venv': venv)"
  },
  "language_info": {
   "codemirror_mode": {
    "name": "ipython",
    "version": 3
   },
   "file_extension": ".py",
   "mimetype": "text/x-python",
   "name": "python",
   "nbconvert_exporter": "python",
   "pygments_lexer": "ipython3",
   "version": "3.9.2"
  }
 },
 "nbformat": 4,
 "nbformat_minor": 5
}