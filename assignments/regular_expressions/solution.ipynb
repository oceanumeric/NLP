{
 "cells": [
  {
   "cell_type": "markdown",
   "source": [
    "We have a list of textfiles in the folder `data/dev`, for instances:\n",
    "* aiken\n",
    "* balaji\n",
    "\n",
    "We a a file `devGOLD` which gives the target information, such as\n",
    "\n",
    "```\n",
    "ashishg\te\tashishg@stanford.edu\n",
    "ashishg\te\trozm@stanford.edu\n",
    "ashishg\tp\t650-723-1614\n",
    "ashishg\tp\t650-723-4173\n",
    "ashishg\tp\t650-814-1478\n",
    "balaji\te\tbalaji@stanford.edu\n",
    "bgirod\tp\t650-723-4539\n",
    "bgirod\tp\t650-724-3648\n",
    "bgirod\tp\t650-724-6354\n",
    "```\n",
    "\n",
    "__mission__: extract phone numbers and emails from those documents\n"
   ],
   "metadata": {}
  },
  {
   "cell_type": "code",
   "execution_count": 1,
   "source": [
    "import SpamLord as sl\n",
    "import os\n",
    "import re"
   ],
   "outputs": [],
   "metadata": {}
  },
  {
   "cell_type": "code",
   "execution_count": 21,
   "source": [
    "# define a function to extract information based on the regular exression pattern\n",
    "def email_extract(list_patterns, data_path):\n",
    "    # input: list of regular expression patterns and data path\n",
    "    # output: list of sets (filename, e/p, extracted_information)\n",
    "    res = []\n",
    "    for fname in os.listdir(data_path):\n",
    "        if fname[0] == '.':\n",
    "            continue \n",
    "        path = os.path.join(data_path, fname)\n",
    "        f = open(path, 'r', encoding=\"ISO-8859-1\")\n",
    "        for line in f:\n",
    "            for p in list_patterns:\n",
    "                matches = re.findall(p, line)\n",
    "                for m in matches:\n",
    "                    email = \"\"\n",
    "                    for x in m:\n",
    "                        email += x\n",
    "                    res.append((fname, 'e', email))\n",
    "    return res"
   ],
   "outputs": [],
   "metadata": {}
  },
  {
   "cell_type": "code",
   "execution_count": 34,
   "source": [
    "pattern_list = [r'\\b[A-Za-z0-9._%+-]+@[A-Za-z0-9.-]+\\.[A-Z|a-z]{2,}\\b']\n",
    "email_list = email_extract(pattern_list, './data/dev')"
   ],
   "outputs": [
    {
     "output_type": "execute_result",
     "data": {
      "text/plain": [
       "[('cheriton', 'e', 'cheriton@cs.stanford.edu'),\n",
       " ('cheriton', 'e', 'uma@cs.stanford.EDU'),\n",
       " ('psyoung', 'e', 'patrick.young@stanford.edu'),\n",
       " ('psyoung', 'e', 'patrick.young@stanford.edu'),\n",
       " ('kunle', 'e', 'kunle@ogun.stanford.edu'),\n",
       " ('kunle', 'e', 'kunle@ogun.stanford.edu'),\n",
       " ('kunle', 'e', 'darlene@csl.stanford.edu'),\n",
       " ('kunle', 'e', 'darlene@csl.stanford.edu'),\n",
       " ('engler', 'e', 'engler@lcs.mit.edu'),\n",
       " ('eroberts', 'e', 'eroberts@cs.stanford.edu'),\n",
       " ('eroberts', 'e', 'eroberts@cs.stanford.edu'),\n",
       " ('rinard', 'e', 'rinard@lcs.mit.edu'),\n",
       " ('thm', 'e', 'pkrokel@Stanford.edu'),\n",
       " ('thm', 'e', 'pkrokel@Stanford.edu'),\n",
       " ('balaji', 'e', 'balaji@stanford.edu'),\n",
       " ('zelenski', 'e', 'zelenski@cs.stanford.edu'),\n",
       " ('zelenski', 'e', 'zelenski@cs.stanford.edu'),\n",
       " ('latombe', 'e', 'latombe@cs.stanford.edu'),\n",
       " ('latombe', 'e', 'latombe@cs.stanford.edu'),\n",
       " ('latombe', 'e', 'asandra@cs.stanford.edu'),\n",
       " ('latombe', 'e', 'asandra@cs.stanford.edu'),\n",
       " ('latombe', 'e', 'liliana@cs.stanford.edu'),\n",
       " ('latombe', 'e', 'liliana@cs.stanford.edu'),\n",
       " ('widom', 'e', 'siroker@cs.stanford.edu'),\n",
       " ('widom', 'e', 'widom@cs.stanford.edu'),\n",
       " ('dabo', 'e', 'dabo@cs.stanford.edu'),\n",
       " ('fedkiw', 'e', 'fedkiw@cs.stanford.edu'),\n",
       " ('fedkiw', 'e', 'fedkiw@cs.stanford.edu'),\n",
       " ('kosecka', 'e', 'kosecka@cs.gmu.edu'),\n",
       " ('kosecka', 'e', 'kosecka@cs.gmu.edu')]"
      ]
     },
     "metadata": {},
     "execution_count": 34
    }
   ],
   "metadata": {}
  },
  {
   "cell_type": "code",
   "execution_count": null,
   "source": [
    "sl.score(email_list, sl.get_gold('./data/devGOLD'))"
   ],
   "outputs": [],
   "metadata": {}
  },
  {
   "cell_type": "code",
   "execution_count": 9,
   "source": [
    "data_path = './data/dev'\n",
    "my_first_pat = '(\\w+)@(\\w+).edu'\n",
    "for fname in os.listdir(data_path):\n",
    "        if fname[0] == '.':\n",
    "            continue\n",
    "        path = os.path.join(data_path,fname)\n",
    "        f = open(path,'r', encoding=\"ISO-8859-1\")\n",
    "res=[]\n",
    "for line in f:\n",
    "    matches = re.findall(my_first_pat,line)\n",
    "    for m in matches:\n",
    "        email = '%s@%s.edu' % m\n",
    "        res.append(('e',email))\n"
   ],
   "outputs": [],
   "metadata": {}
  },
  {
   "cell_type": "code",
   "execution_count": 12,
   "source": [
    "mm = [('shoham', 'stanford'), ('shoham', 'stanford')]\n",
    "for m in mm:\n",
    "    print('%s%s' %m)"
   ],
   "outputs": [
    {
     "output_type": "stream",
     "name": "stdout",
     "text": [
      "shoham--stanford\n",
      "shoham--stanford\n"
     ]
    }
   ],
   "metadata": {}
  },
  {
   "cell_type": "code",
   "execution_count": 3,
   "source": [
    "sl.process_dir('./data/dev')"
   ],
   "outputs": [
    {
     "output_type": "execute_result",
     "data": {
      "text/plain": [
       "[('psyoung', 'e', 'young@stanford.edu'),\n",
       " ('psyoung', 'e', 'young@stanford.edu'),\n",
       " ('thm', 'e', 'pkrokel@Stanford.edu'),\n",
       " ('thm', 'e', 'pkrokel@Stanford.edu'),\n",
       " ('balaji', 'e', 'balaji@stanford.edu'),\n",
       " ('nass', 'e', 'nass@stanford.edu'),\n",
       " ('nass', 'e', 'nass@stanford.edu'),\n",
       " ('nass', 'e', 'nass@stanford.edu'),\n",
       " ('nass', 'e', 'nass@stanford.edu'),\n",
       " ('shoham', 'e', 'shoham@stanford.edu'),\n",
       " ('shoham', 'e', 'shoham@stanford.edu')]"
      ]
     },
     "metadata": {},
     "execution_count": 3
    }
   ],
   "metadata": {
    "scrolled": true
   }
  },
  {
   "cell_type": "code",
   "execution_count": 4,
   "source": [
    "os.listdir()"
   ],
   "outputs": [
    {
     "output_type": "execute_result",
     "data": {
      "text/plain": [
       "['.DS_Store',\n",
       " 'SpamLord.py',\n",
       " '__pycache__',\n",
       " 'Learning_re.ipynb',\n",
       " 'solution.ipynb',\n",
       " '.ipynb_checkpoints',\n",
       " 'data']"
      ]
     },
     "metadata": {},
     "execution_count": 4
    }
   ],
   "metadata": {}
  },
  {
   "cell_type": "code",
   "execution_count": null,
   "source": [],
   "outputs": [],
   "metadata": {}
  },
  {
   "cell_type": "code",
   "execution_count": null,
   "source": [],
   "outputs": [],
   "metadata": {}
  },
  {
   "cell_type": "code",
   "execution_count": null,
   "source": [],
   "outputs": [],
   "metadata": {}
  },
  {
   "cell_type": "markdown",
   "source": [],
   "metadata": {}
  }
 ],
 "metadata": {
  "interpreter": {
   "hash": "5b9de406398efd0ba930f3892b796b87418a93e919060693a9aa912c9dedff03"
  },
  "kernelspec": {
   "name": "python3",
   "display_name": "Python 3.9.2 64-bit ('venv': venv)"
  },
  "language_info": {
   "codemirror_mode": {
    "name": "ipython",
    "version": 3
   },
   "file_extension": ".py",
   "mimetype": "text/x-python",
   "name": "python",
   "nbconvert_exporter": "python",
   "pygments_lexer": "ipython3",
   "version": "3.9.2"
  }
 },
 "nbformat": 4,
 "nbformat_minor": 5
}