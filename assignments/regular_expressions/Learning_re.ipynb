{
 "cells": [
  {
   "cell_type": "code",
   "execution_count": 1,
   "id": "af45e52a",
   "metadata": {},
   "outputs": [],
   "source": [
    "# import re\n",
    "import re"
   ]
  },
  {
   "cell_type": "markdown",
   "id": "d5ba52dc",
   "metadata": {},
   "source": [
    "What can we do with regular expression?\n",
    "\n",
    "* extract information we want based on some patterns\n",
    "\n",
    "Pseudocode:\n",
    "\n",
    "1. get the text\n",
    "2. define the pattern and compile\n",
    "3. search for the pattern in the text\n",
    "4. print the output"
   ]
  },
  {
   "cell_type": "code",
   "execution_count": 2,
   "id": "221a1655",
   "metadata": {},
   "outputs": [
    {
     "data": {
      "text/plain": [
       "<re.Match object; span=(7, 9), match='py'>"
      ]
     },
     "execution_count": 2,
     "metadata": {},
     "output_type": "execute_result"
    }
   ],
   "source": [
    "s='I love python, I wish I can call my girlfriend 0658-2828-22 or email her loveyou@gmail.com'\n",
    "re.search('py', s)"
   ]
  },
  {
   "cell_type": "code",
   "execution_count": 4,
   "id": "62298694",
   "metadata": {},
   "outputs": [
    {
     "data": {
      "text/plain": [
       "<re.Match object; span=(2, 3), match='l'>"
      ]
     },
     "execution_count": 4,
     "metadata": {},
     "output_type": "execute_result"
    }
   ],
   "source": [
    "# mathch character a to z\n",
    "re.search('[a-z]', s)"
   ]
  },
  {
   "cell_type": "code",
   "execution_count": 7,
   "id": "c58fc135",
   "metadata": {},
   "outputs": [
    {
     "data": {
      "text/plain": [
       "<re.Match object; span=(2, 4), match='lo'>"
      ]
     },
     "execution_count": 7,
     "metadata": {},
     "output_type": "execute_result"
    }
   ],
   "source": [
    "# match two characters\n",
    "re.search('[a-z][a-z]', s)"
   ]
  },
  {
   "cell_type": "code",
   "execution_count": 9,
   "id": "4c0b78be",
   "metadata": {},
   "outputs": [],
   "source": [
    "re.search('[a-z][0-9]', s)  # no match "
   ]
  },
  {
   "cell_type": "code",
   "execution_count": 10,
   "id": "2c90db4b",
   "metadata": {},
   "outputs": [],
   "source": [
    "re.search('^[a-z]', s)  # match the beginning"
   ]
  },
  {
   "cell_type": "code",
   "execution_count": 11,
   "id": "1b65e4cb",
   "metadata": {},
   "outputs": [
    {
     "data": {
      "text/plain": [
       "<re.Match object; span=(0, 1), match='I'>"
      ]
     },
     "execution_count": 11,
     "metadata": {},
     "output_type": "execute_result"
    }
   ],
   "source": [
    "re.search('^[A-Z]', s)"
   ]
  },
  {
   "cell_type": "code",
   "execution_count": 12,
   "id": "c18010a6",
   "metadata": {},
   "outputs": [
    {
     "data": {
      "text/plain": [
       "<re.Match object; span=(0, 1), match='I'>"
      ]
     },
     "execution_count": 12,
     "metadata": {},
     "output_type": "execute_result"
    }
   ],
   "source": [
    "# match any single character\n",
    "re.search('.', s)"
   ]
  },
  {
   "cell_type": "code",
   "execution_count": 13,
   "id": "04032f8c",
   "metadata": {},
   "outputs": [
    {
     "data": {
      "text/plain": [
       "<re.Match object; span=(2, 4), match='lo'>"
      ]
     },
     "execution_count": 13,
     "metadata": {},
     "output_type": "execute_result"
    }
   ],
   "source": [
    "re.search('[a-z].', s)"
   ]
  },
  {
   "cell_type": "code",
   "execution_count": 14,
   "id": "e2dcb4d9",
   "metadata": {},
   "outputs": [
    {
     "data": {
      "text/plain": [
       "<re.Match object; span=(2, 5), match='lov'>"
      ]
     },
     "execution_count": 14,
     "metadata": {},
     "output_type": "execute_result"
    }
   ],
   "source": [
    "re.search('[a-z]..', s)"
   ]
  },
  {
   "cell_type": "code",
   "execution_count": 16,
   "id": "61cf393d",
   "metadata": {},
   "outputs": [
    {
     "data": {
      "text/plain": [
       "<re.Match object; span=(2, 8), match='love p'>"
      ]
     },
     "execution_count": 16,
     "metadata": {},
     "output_type": "execute_result"
    }
   ],
   "source": [
    "re.search('[a-z].....', s)"
   ]
  },
  {
   "cell_type": "code",
   "execution_count": 17,
   "id": "8396812a",
   "metadata": {},
   "outputs": [
    {
     "data": {
      "text/plain": [
       "<re.Match object; span=(2, 7), match='love '>"
      ]
     },
     "execution_count": 17,
     "metadata": {},
     "output_type": "execute_result"
    }
   ],
   "source": [
    "re.search('.ove.', s)"
   ]
  },
  {
   "cell_type": "code",
   "execution_count": 18,
   "id": "ed7961aa",
   "metadata": {},
   "outputs": [
    {
     "data": {
      "text/plain": [
       "<re.Match object; span=(89, 90), match='m'>"
      ]
     },
     "execution_count": 18,
     "metadata": {},
     "output_type": "execute_result"
    }
   ],
   "source": [
    "re.search('[a-z]$', s)"
   ]
  },
  {
   "cell_type": "code",
   "execution_count": 21,
   "id": "6c52905d",
   "metadata": {},
   "outputs": [
    {
     "data": {
      "text/plain": [
       "<re.Match object; span=(0, 0), match=''>"
      ]
     },
     "execution_count": 21,
     "metadata": {},
     "output_type": "execute_result"
    }
   ],
   "source": [
    "re.search('2*', s)"
   ]
  },
  {
   "cell_type": "code",
   "execution_count": 24,
   "id": "c74bd06a",
   "metadata": {},
   "outputs": [
    {
     "data": {
      "text/plain": [
       "<re.Match object; span=(0, 0), match=''>"
      ]
     },
     "execution_count": 24,
     "metadata": {},
     "output_type": "execute_result"
    }
   ],
   "source": [
    "re.search('[a-z]*', s)"
   ]
  },
  {
   "cell_type": "code",
   "execution_count": 26,
   "id": "b9f5ff2c",
   "metadata": {},
   "outputs": [
    {
     "data": {
      "text/plain": [
       "<re.Match object; span=(0, 5), match='I lov'>"
      ]
     },
     "execution_count": 26,
     "metadata": {},
     "output_type": "execute_result"
    }
   ],
   "source": [
    "re.search('^.....', s)"
   ]
  },
  {
   "cell_type": "code",
   "execution_count": 30,
   "id": "46c869f0",
   "metadata": {},
   "outputs": [
    {
     "data": {
      "text/plain": [
       "<re.Match object; span=(0, 3), match='I l'>"
      ]
     },
     "execution_count": 30,
     "metadata": {},
     "output_type": "execute_result"
    }
   ],
   "source": [
    "re.search('...', s)"
   ]
  },
  {
   "cell_type": "code",
   "execution_count": 31,
   "id": "1e795716",
   "metadata": {},
   "outputs": [
    {
     "data": {
      "text/plain": [
       "<re.Match object; span=(0, 1), match='I'>"
      ]
     },
     "execution_count": 31,
     "metadata": {},
     "output_type": "execute_result"
    }
   ],
   "source": [
    "re.search('[^b]', s)"
   ]
  },
  {
   "cell_type": "code",
   "execution_count": 34,
   "id": "4cfb1043",
   "metadata": {},
   "outputs": [
    {
     "data": {
      "text/plain": [
       "<re.Match object; span=(7, 8), match='p'>"
      ]
     },
     "execution_count": 34,
     "metadata": {},
     "output_type": "execute_result"
    }
   ],
   "source": [
    "re.search('p{1}', s)"
   ]
  },
  {
   "cell_type": "code",
   "execution_count": 38,
   "id": "df291b5b",
   "metadata": {},
   "outputs": [
    {
     "data": {
      "text/plain": [
       "<re.Match object; span=(47, 49), match='06'>"
      ]
     },
     "execution_count": 38,
     "metadata": {},
     "output_type": "execute_result"
    }
   ],
   "source": [
    "re.search('[0-9]{2}', s)"
   ]
  },
  {
   "cell_type": "code",
   "execution_count": 39,
   "id": "7e19ebcb",
   "metadata": {},
   "outputs": [
    {
     "data": {
      "text/plain": [
       "<re.Match object; span=(25, 26), match='a'>"
      ]
     },
     "execution_count": 39,
     "metadata": {},
     "output_type": "execute_result"
    }
   ],
   "source": [
    "re.search('a|d', s)"
   ]
  },
  {
   "cell_type": "code",
   "execution_count": 40,
   "id": "00828e96",
   "metadata": {},
   "outputs": [
    {
     "data": {
      "text/plain": [
       "<re.Match object; span=(2, 3), match='l'>"
      ]
     },
     "execution_count": 40,
     "metadata": {},
     "output_type": "execute_result"
    }
   ],
   "source": [
    "re.search('[a-z]|[a-z]', s)"
   ]
  },
  {
   "cell_type": "code",
   "execution_count": 41,
   "id": "c939264d",
   "metadata": {},
   "outputs": [
    {
     "data": {
      "text/plain": [
       "<re.Match object; span=(51, 52), match='-'>"
      ]
     },
     "execution_count": 41,
     "metadata": {},
     "output_type": "execute_result"
    }
   ],
   "source": [
    "re.search('\\-', s)"
   ]
  },
  {
   "cell_type": "code",
   "execution_count": 42,
   "id": "56e15d6d",
   "metadata": {},
   "outputs": [
    {
     "data": {
      "text/plain": [
       "['I love python, I wish I can call my girlfriend 0658',\n",
       " '2828',\n",
       " '22 or email her loveyou@gmail.com']"
      ]
     },
     "execution_count": 42,
     "metadata": {},
     "output_type": "execute_result"
    }
   ],
   "source": [
    "re.split('\\-', s)"
   ]
  },
  {
   "cell_type": "code",
   "execution_count": 44,
   "id": "aae7825b",
   "metadata": {},
   "outputs": [
    {
     "data": {
      "text/plain": [
       "['I love python, I wish I can call my girlfriend ',\n",
       " '',\n",
       " '',\n",
       " '',\n",
       " '-',\n",
       " '',\n",
       " '',\n",
       " '',\n",
       " '-',\n",
       " '',\n",
       " ' or email her loveyou@gmail.com']"
      ]
     },
     "execution_count": 44,
     "metadata": {},
     "output_type": "execute_result"
    }
   ],
   "source": [
    "re.split('[0-9]', s)"
   ]
  },
  {
   "cell_type": "code",
   "execution_count": 45,
   "id": "3e7ef435",
   "metadata": {},
   "outputs": [
    {
     "data": {
      "text/plain": [
       "['l',\n",
       " 'o',\n",
       " 'v',\n",
       " 'e',\n",
       " 'p',\n",
       " 'y',\n",
       " 't',\n",
       " 'h',\n",
       " 'o',\n",
       " 'n',\n",
       " 'w',\n",
       " 'i',\n",
       " 's',\n",
       " 'h',\n",
       " 'c',\n",
       " 'a',\n",
       " 'n',\n",
       " 'c',\n",
       " 'a',\n",
       " 'l',\n",
       " 'l',\n",
       " 'm',\n",
       " 'y',\n",
       " 'g',\n",
       " 'i',\n",
       " 'r',\n",
       " 'l',\n",
       " 'f',\n",
       " 'r',\n",
       " 'i',\n",
       " 'e',\n",
       " 'n',\n",
       " 'd',\n",
       " 'o',\n",
       " 'r',\n",
       " 'e',\n",
       " 'm',\n",
       " 'a',\n",
       " 'i',\n",
       " 'l',\n",
       " 'h',\n",
       " 'e',\n",
       " 'r',\n",
       " 'l',\n",
       " 'o',\n",
       " 'v',\n",
       " 'e',\n",
       " 'y',\n",
       " 'o',\n",
       " 'u',\n",
       " 'g',\n",
       " 'm',\n",
       " 'a',\n",
       " 'i',\n",
       " 'l',\n",
       " 'c',\n",
       " 'o',\n",
       " 'm']"
      ]
     },
     "execution_count": 45,
     "metadata": {},
     "output_type": "execute_result"
    }
   ],
   "source": [
    "re.findall('[a-z]', s)"
   ]
  },
  {
   "cell_type": "code",
   "execution_count": 47,
   "id": "a6c99fd6",
   "metadata": {},
   "outputs": [
    {
     "data": {
      "text/plain": [
       "['d 0']"
      ]
     },
     "execution_count": 47,
     "metadata": {},
     "output_type": "execute_result"
    }
   ],
   "source": [
    "re.findall('[a-z].[0-9]', s)"
   ]
  },
  {
   "cell_type": "code",
   "execution_count": 48,
   "id": "6f271d60",
   "metadata": {},
   "outputs": [
    {
     "data": {
      "text/plain": [
       "'I love rust, I wish I can call my girlfriend 0658-2828-22 or email her loveyou@gmail.com'"
      ]
     },
     "execution_count": 48,
     "metadata": {},
     "output_type": "execute_result"
    }
   ],
   "source": [
    "re.sub('python', 'rust', s)"
   ]
  },
  {
   "cell_type": "code",
   "execution_count": 50,
   "id": "bbb0f768",
   "metadata": {},
   "outputs": [
    {
     "data": {
      "text/plain": [
       "<re.Match object; span=(47, 51), match='0658'>"
      ]
     },
     "execution_count": 50,
     "metadata": {},
     "output_type": "execute_result"
    }
   ],
   "source": [
    "re.search('\\d{4}', s)"
   ]
  },
  {
   "cell_type": "code",
   "execution_count": null,
   "id": "4f029024",
   "metadata": {},
   "outputs": [],
   "source": []
  }
 ],
 "metadata": {
  "kernelspec": {
   "display_name": "Python 3 (ipykernel)",
   "language": "python",
   "name": "python3"
  },
  "language_info": {
   "codemirror_mode": {
    "name": "ipython",
    "version": 3
   },
   "file_extension": ".py",
   "mimetype": "text/x-python",
   "name": "python",
   "nbconvert_exporter": "python",
   "pygments_lexer": "ipython3",
   "version": "3.9.2"
  }
 },
 "nbformat": 4,
 "nbformat_minor": 5
}
