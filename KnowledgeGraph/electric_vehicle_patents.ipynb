{
 "cells": [
  {
   "cell_type": "markdown",
   "metadata": {},
   "source": [
    "# Patent Research for Automative Industry\n",
    "\n",
    "<img src=\"./images/top-electric-car-brands.png\" width=\"50%\" height=\"50%\">\n",
    "\n",
    "In this tutorial, we will learn:\n",
    "\n",
    "- structure of a patent, such as applicant, title, publish date, citation, CPC class, etc.\n",
    "- we will use automative industry to investigate the patent landscape of traditional vehicle firms like BMW and electric vehicles like Tesla.\n",
    "\n",
    "The tutorial is designed to make sure _you will become comfortable on querying patents via EPO linked data endpoint_ (you will learn what it is) and __could conduct the independent patent research on different topics__ in the future. "
   ]
  },
  {
   "cell_type": "markdown",
   "metadata": {},
   "source": [
    "## EPO Linked Data\n",
    "\n",
    "This European Patent Office Linked open EP data Service publishes information about European patent applications using a technique known as Linked Data. Please to to the following link to try querying patents by clicking 'perform query'. Right now, you do not need to know the query language, just have a look at the format and results to know it. Here is the link:\n",
    "\n",
    "- [link](https://data.epo.org/linked-data/sparql.html) "
   ]
  },
  {
   "cell_type": "code",
   "execution_count": 1,
   "metadata": {},
   "outputs": [
    {
     "data": {
      "text/html": [
       "4"
      ],
      "text/latex": [
       "4"
      ],
      "text/markdown": [
       "4"
      ],
      "text/plain": [
       "[1] 4"
      ]
     },
     "metadata": {},
     "output_type": "display_data"
    }
   ],
   "source": [
    "2+2"
   ]
  },
  {
   "cell_type": "code",
   "execution_count": null,
   "metadata": {},
   "outputs": [],
   "source": []
  }
 ],
 "metadata": {
  "kernelspec": {
   "display_name": "R",
   "language": "R",
   "name": "ir"
  },
  "language_info": {
   "codemirror_mode": "r",
   "file_extension": ".r",
   "mimetype": "text/x-r-source",
   "name": "R",
   "pygments_lexer": "r",
   "version": "4.3.2"
  }
 },
 "nbformat": 4,
 "nbformat_minor": 4
}
