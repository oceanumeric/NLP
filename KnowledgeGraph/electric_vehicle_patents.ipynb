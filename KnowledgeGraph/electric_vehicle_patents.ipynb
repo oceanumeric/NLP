{
 "cells": [
  {
   "cell_type": "markdown",
   "metadata": {},
   "source": [
    "# Patent Research for Automative Industry\n",
    "\n",
    "![electric-car-brand](./images/top-electric-car-brands.png)"
   ]
  },
  {
   "cell_type": "code",
   "execution_count": null,
   "metadata": {},
   "outputs": [],
   "source": []
  }
 ],
 "metadata": {
  "language_info": {
   "name": "python"
  }
 },
 "nbformat": 4,
 "nbformat_minor": 2
}
