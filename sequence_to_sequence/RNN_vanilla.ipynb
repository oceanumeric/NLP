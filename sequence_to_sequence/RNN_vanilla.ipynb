{
 "cells": [
  {
   "attachments": {},
   "cell_type": "markdown",
   "metadata": {},
   "source": [
    "# Recurrent Neural Network (RNN) from scratch\n",
    "\n",
    "This notebook again is based on the [blog post](http://karpathy.github.io/2015/05/21/rnn-effectiveness/) by Andrej Karpathy. The goal is to implement a simple RNN from scratch in Python and train it to perform character-level language modeling.\n",
    "\n",
    "Andrej also gave a talk about RNNs at the Deep Learning Summer School 2015, which is available [here](https://skillsmatter.com/skillscasts/6611-visualizing-and-understanding-recurrent-networks#video).\n",
    "\n",
    "Instead of using numpy, we will use pytorch to implement the RNN. This will allow us to easily run the code on a GPU.\n",
    "\n",
    "Here, we will use Shakespeare's Sonnets as the training data. We are not making names because the sequence of names is not very long and the RNN will not be able to learn much from it."
   ]
  },
  {
   "cell_type": "code",
   "execution_count": 3,
   "metadata": {},
   "outputs": [],
   "source": [
    "# import packages that are not related to torch\n",
    "import os\n",
    "import math\n",
    "import time\n",
    "import numpy as np\n",
    "from tqdm import tqdm\n",
    "import matplotlib.pyplot as plt\n",
    "\n",
    "\n",
    "# torch import\n",
    "import torch\n",
    "import torch.nn as nn\n",
    "import torch.nn.functional as F\n",
    "import torch.utils.data as tu_data\n",
    "from torchvision.datasets import FashionMNIST\n",
    "\n",
    "\n",
    "### --------- environment setup --------- ###\n",
    "# set up the data path\n",
    "DATA_PATH = \"../GPT-2/data\"\n",
    "\n",
    "# function for setting seed\n",
    "def set_seed(seed):\n",
    "    np.random.seed(seed)\n",
    "    torch.manual_seed(seed)\n",
    "    if torch.cuda.is_available():\n",
    "        torch.cuda.manual_seed(seed)\n",
    "        torch.cuda.manual_seed_all(seed)\n",
    "        \n",
    "# set up seed globally and deterministically\n",
    "set_seed(42)\n",
    "torch.backends.cudnn.deterministic = True\n",
    "torch.backends.cudnn.benchmark = False\n",
    "\n",
    "# set up device\n",
    "device = torch.device(\"cuda\" if torch.cuda.is_available() else \"cpu\")"
   ]
  },
  {
   "cell_type": "code",
   "execution_count": 14,
   "metadata": {},
   "outputs": [],
   "source": [
    "# read the dataset (names)\n",
    "shk_text = open(os.path.join(DATA_PATH, \"input.txt\"), \"r\").read()\n"
   ]
  },
  {
   "cell_type": "code",
   "execution_count": 17,
   "metadata": {},
   "outputs": [
    {
     "name": "stdout",
     "output_type": "stream",
     "text": [
      "First Citizen:\n",
      "Before we proceed any further, hear me speak.\n",
      "\n",
      "All:\n",
      "Speak, speak.\n",
      "\n",
      "First Citizen:\n",
      "You\n"
     ]
    }
   ],
   "source": [
    "print(shk_text[:100])"
   ]
  },
  {
   "cell_type": "code",
   "execution_count": 20,
   "metadata": {},
   "outputs": [
    {
     "name": "stdout",
     "output_type": "stream",
     "text": [
      "['\\n', ' ', '!', '$', '&', \"'\", ',', '-', '.', '3', ':', ';', '?', 'A', 'B', 'C', 'D', 'E', 'F', 'G', 'H', 'I', 'J', 'K', 'L', 'M', 'N', 'O', 'P', 'Q', 'R', 'S', 'T', 'U', 'V', 'W', 'X', 'Y', 'Z', 'a', 'b', 'c', 'd', 'e', 'f', 'g', 'h', 'i', 'j', 'k', 'l', 'm', 'n', 'o', 'p', 'q', 'r', 's', 't', 'u', 'v', 'w', 'x', 'y', 'z']\n",
      "The number of unique characters: 65\n",
      "\n",
      " !$&',-.3:;?ABCDEFGHIJKLMNOPQRSTUVWXYZabcdefghijklmnopqrstuvwxyz\n"
     ]
    }
   ],
   "source": [
    "# we will work on characters\n",
    "# we will use '.' as the start and end token\n",
    "chars = sorted(list(set(shk_text)))\n",
    "print(chars)\n",
    "print(\"The number of unique characters: {}\".format(len(chars)))\n",
    "print(\"\".join(chars))"
   ]
  },
  {
   "cell_type": "code",
   "execution_count": 22,
   "metadata": {},
   "outputs": [
    {
     "name": "stdout",
     "output_type": "stream",
     "text": [
      "{'\\n': 0, ' ': 1, '!': 2, '$': 3, '&': 4, \"'\": 5, ',': 6, '-': 7, '.': 8, '3': 9, ':': 10, ';': 11, '?': 12, 'A': 13, 'B': 14, 'C': 15, 'D': 16, 'E': 17, 'F': 18, 'G': 19, 'H': 20, 'I': 21, 'J': 22, 'K': 23, 'L': 24, 'M': 25, 'N': 26, 'O': 27, 'P': 28, 'Q': 29, 'R': 30, 'S': 31, 'T': 32, 'U': 33, 'V': 34, 'W': 35, 'X': 36, 'Y': 37, 'Z': 38, 'a': 39, 'b': 40, 'c': 41, 'd': 42, 'e': 43, 'f': 44, 'g': 45, 'h': 46, 'i': 47, 'j': 48, 'k': 49, 'l': 50, 'm': 51, 'n': 52, 'o': 53, 'p': 54, 'q': 55, 'r': 56, 's': 57, 't': 58, 'u': 59, 'v': 60, 'w': 61, 'x': 62, 'y': 63, 'z': 64}\n",
      "{0: '\\n', 1: ' ', 2: '!', 3: '$', 4: '&', 5: \"'\", 6: ',', 7: '-', 8: '.', 9: '3', 10: ':', 11: ';', 12: '?', 13: 'A', 14: 'B', 15: 'C', 16: 'D', 17: 'E', 18: 'F', 19: 'G', 20: 'H', 21: 'I', 22: 'J', 23: 'K', 24: 'L', 25: 'M', 26: 'N', 27: 'O', 28: 'P', 29: 'Q', 30: 'R', 31: 'S', 32: 'T', 33: 'U', 34: 'V', 35: 'W', 36: 'X', 37: 'Y', 38: 'Z', 39: 'a', 40: 'b', 41: 'c', 42: 'd', 43: 'e', 44: 'f', 45: 'g', 46: 'h', 47: 'i', 48: 'j', 49: 'k', 50: 'l', 51: 'm', 52: 'n', 53: 'o', 54: 'p', 55: 'q', 56: 'r', 57: 's', 58: 't', 59: 'u', 60: 'v', 61: 'w', 62: 'x', 63: 'y', 64: 'z'}\n"
     ]
    }
   ],
   "source": [
    "# create index\n",
    "char2idx = {ch: i for i, ch in enumerate(chars)}\n",
    "idx2char = {i: ch for i, ch in enumerate(chars)}\n",
    "print(char2idx)\n",
    "print(idx2char)"
   ]
  },
  {
   "attachments": {},
   "cell_type": "markdown",
   "metadata": {},
   "source": [
    "Before we start, let's just use one function to understand the basic idea of RNNs: \n",
    "\n",
    "$$\n",
    "h_{t+1}  = tanh(W_{hh} h_t + W_{xh} x_t)\n",
    "$$\n",
    "\n",
    "where $h_{t+1}$ is the hidden layer. After the hidden layer we have\n",
    "the output layer and then softmax to get the probabilities for the next character."
   ]
  },
  {
   "cell_type": "code",
   "execution_count": 23,
   "metadata": {},
   "outputs": [
    {
     "name": "stdout",
     "output_type": "stream",
     "text": [
      "The text has 1115394 characters, 65 unique.\n"
     ]
    }
   ],
   "source": [
    "# set up hyperparameters\n",
    "text_size, vocab_size = len(shk_text), len(chars)\n",
    "print(\"The text has {} characters, {} unique.\".format(text_size, vocab_size))\n",
    "hidden_size = 100 \n",
    "seq_len = 9  # the length of the sequence\n",
    "learning_rate = 1e-2"
   ]
  },
  {
   "cell_type": "code",
   "execution_count": 24,
   "metadata": {},
   "outputs": [
    {
     "name": "stdout",
     "output_type": "stream",
     "text": [
      "The number of parameters: 23165\n"
     ]
    }
   ],
   "source": [
    "# initialize the parameters\n",
    "# since we are doing one-hot encoding,\n",
    "# the input size is the same as the vocab_size\n",
    "wxh = torch.randn(hidden_size, vocab_size,\n",
    "                  device=device, dtype=torch.float32,\n",
    "                  requires_grad=True)\n",
    "whh = torch.randn(hidden_size, hidden_size,\n",
    "                    device=device, dtype=torch.float32,\n",
    "                    requires_grad=True)\n",
    "why = torch.randn(vocab_size, hidden_size,\n",
    "                    device=device, dtype=torch.float32,\n",
    "                    requires_grad=True)\n",
    "# bias\n",
    "bh = torch.zeros(hidden_size, device=device,\n",
    "                    dtype=torch.float32, requires_grad=True)\n",
    "by = torch.zeros(vocab_size, device=device,\n",
    "                    dtype=torch.float32, requires_grad=True)\n",
    "parameters = [wxh, whh, why, bh, by]\n",
    "# print out the number of parameters\n",
    "print(\"The number of parameters: {}\".format(sum(p.numel() for p in parameters)))\n"
   ]
  },
  {
   "cell_type": "code",
   "execution_count": 27,
   "metadata": {},
   "outputs": [
    {
     "name": "stdout",
     "output_type": "stream",
     "text": [
      "[46, 43, 50, 50, 53]\n",
      "hello\n"
     ]
    }
   ],
   "source": [
    "# prepare the data\n",
    "encode = lambda text: [char2idx[ch] for ch in text]\n",
    "decode = lambda tnsr: \"\".join([idx2char[i] for i in tnsr])\n",
    "\n",
    "# test the encode and decode functions\n",
    "print(encode(\"hello\"))\n",
    "print(decode(encode(\"hello\")))"
   ]
  },
  {
   "cell_type": "code",
   "execution_count": 32,
   "metadata": {},
   "outputs": [
    {
     "name": "stdout",
     "output_type": "stream",
     "text": [
      "The text has 1115394 characters, 65 unique.\n",
      "torch.Size([1115394])\n",
      "tensor([18, 47, 56, 57, 58,  1, 15, 47, 58, 47], device='cuda:0')\n"
     ]
    }
   ],
   "source": [
    "# we now will encode the whole text\n",
    "encoded_text = torch.tensor(encode(shk_text), device=device, dtype=torch.long)\n",
    "print(\"The text has {} characters, {} unique.\".format(text_size, vocab_size))\n",
    "# encoded_text is a 1D tensor and has the length of the text\n",
    "print(encoded_text.shape)\n",
    "print(encoded_text[:10])"
   ]
  },
  {
   "cell_type": "code",
   "execution_count": 34,
   "metadata": {},
   "outputs": [
    {
     "name": "stdout",
     "output_type": "stream",
     "text": [
      "The number of training data: 1003854\n",
      "The number of test data: 111540\n"
     ]
    }
   ],
   "source": [
    "# now split the dataset into training and validation\n",
    "# split the dataset into train and test sets\n",
    "train_n = int(encoded_text.shape[0] * 0.9)\n",
    "train_data = encoded_text[:train_n]\n",
    "test_data = encoded_text[train_n:]\n",
    "print(\"The number of training data: {}\".format(train_data.shape[0]))\n",
    "print(\"The number of test data: {}\".format(test_data.shape[0]))"
   ]
  },
  {
   "attachments": {},
   "cell_type": "markdown",
   "metadata": {},
   "source": [
    "## Structure of training a nueral network\n",
    "\n",
    "What are the key components of training a neural network?\n",
    "\n",
    "- load the original data\n",
    "- preprocess the data\n",
    "- initialize the parameters\n",
    "- forward propagation\n",
    "- compute the loss\n",
    "- backpropagation\n",
    "- update the parameters\n",
    "- predict\n",
    "\n",
    "Working with text, reading the dataset is not difficult. We just need to read the text file and convert it to a list of characters or tokens. However, once we have the data, we need to preprocess it. This is a very important step. We need to convert the characters to numbers. We also need to create a dictionary to map the numbers back to the characters. The common way to do this is to use one-hot encoding, which needs to construct __a dictionary__ to map the characters to numbers.\n",
    "\n",
    "Once we have a dictionary, we can use it to convert the characters to integers. However, this one-hot encoding is not very efficient. We will use a different way to encode the characters. We will use the `Embedding` layer in pytorch to do this. This layer will map the characters to a vector of real numbers. This is a more efficient way to encode the characters. Therefore, here are common steps to preprocess the data:\n",
    "\n",
    "- read the text file\n",
    "- clean the text on character level or token level\n",
    "- construct a dictionary to map the characters to numbers\n",
    "- then characters flow into the neural network as numbers\n",
    "    - human being read the text as characters\n",
    "    - the neural network read the text as numbers\n",
    "\n",
    "Once, we have the data, we need to initialize the parameters. Without using `Pytorch`, one has to initialize the parameters manually. However, with `Pytorch`, we can use the `nn` module to do this. We will use the `nn` module to initialize the parameters. Or if the modules are not available, we can write our own `class` to initialize the parameters."
   ]
  },
  {
   "cell_type": "code",
   "execution_count": 47,
   "metadata": {},
   "outputs": [],
   "source": [
    "# now construct the embedding layer\n",
    "# we do not need to set up the device as we coudl use the .to(device) method\n",
    "class Embedding:\n",
    "  \n",
    "  def __init__(self, dict_size, embedding_dim):\n",
    "    \"\"\"\n",
    "    dict_size: the size of the dictionary\n",
    "    embedding_dim: the dimension of the embedding\n",
    "    \"\"\"\n",
    "    self.weight = torch.randn((dict_size, embedding_dim))\n",
    "    \n",
    "  def __call__(self, IX):\n",
    "    \"\"\"\n",
    "    embedding layer will be the first layer of the network\n",
    "    and each time we will pass a batch of data to the network\n",
    "    the input.shape = (batch_size, seq_len), then \n",
    "    the output.shape = (batch_size, seq_len, embedding_dim)\n",
    "    the input datatype has to be int, such as torch.long\n",
    "    This way we could train the embedding layer efficiently\n",
    "    batch by batch instead of training the whole dataset\n",
    "    \"\"\"\n",
    "    self.out = self.weight[IX]\n",
    "    return self.out\n",
    "  \n",
    "  def parameters(self):\n",
    "    return [self.weight]"
   ]
  },
  {
   "cell_type": "code",
   "execution_count": 48,
   "metadata": {},
   "outputs": [],
   "source": [
    "# since RNN rolls out the sequence, we need to define the RNNCell\n",
    "# based on https://pytorch.org/docs/stable/generated/torch.nn.RNNCell.html?highlight=rnncell\n",
    "# you can watch this for more details: https://youtu.be/ySEx_Bqxvvo\n",
    "class RNNCell:\n",
    "\n",
    "    def __init__(self, vocab_size, hidden_size, bias=True):\n",
    "        \"\"\"\n",
    "        input_size: the size of the input\n",
    "        hidden_size: the size of the hidden state\n",
    "        remark: the order matters, which determines whether we should\n",
    "        call input @ weight or weight @ input\n",
    "        here we set up the weight as (input_size, hidden_size)\n",
    "        therefore, we should call input @ weight\n",
    "        \"\"\"\n",
    "        self.vocab_size = vocab_size\n",
    "        self.hidden_size = hidden_size\n",
    "        self.wxh = torch.randn((vocab_size, hidden_size))\n",
    "        self.whh = torch.randn((hidden_size, hidden_size))\n",
    "        self.why = torch.randn((hidden_size, vocab_size))\n",
    "        self.bh = torch.zeros((hidden_size)) if bias else None\n",
    "\n",
    "    def __call__(self, x, h):\n",
    "        \"\"\"\n",
    "        x: the input of the RNNCell\n",
    "               the shape of the input x.shape = (batch_size, vocab_size)\n",
    "               there is no seq_len dimension\n",
    "        h: the hidden state of the RNNCell, h.shape = (batch_size, hidden_size)\n",
    "        \"\"\"\n",
    "        if h is None:\n",
    "            # we need to initialize the hidden state\n",
    "            h = torch.zeros((x.shape[0], self.hidden_size))\n",
    "        self.hidden = torch.tanh(x @ self.wxh + h @ self.whh + self.bh)\n",
    "        self.out = self.hidden @ self.why\n",
    "        # return the output and the hidden state\n",
    "        return self.out, self.hidden"
   ]
  },
  {
   "cell_type": "code",
   "execution_count": null,
   "metadata": {},
   "outputs": [],
   "source": [
    "# the second layer is the RNN layer\n",
    "# we will run a customer layer, __init__ part is the initialization\n",
    "# and the __call__ part is the forward pass\n",
    "# if the weight.shape = (input_size, hidden_size)\n",
    "# then in the forward pass, we should call weight @ input\n",
    "# otherwise, we should set up the weight as (hidden_size, input_size)\n",
    "# and call input @ weight\n",
    "# now we will create a RNN layer based on the RNNCell\n",
    "class RNN:\n",
    "\n",
    "    def \n",
    "\n"
   ]
  },
  {
   "cell_type": "code",
   "execution_count": null,
   "metadata": {},
   "outputs": [],
   "source": [
    "# define the forward function\n",
    "def forward(input_seq, target_seq, initial_hidden_state, *parameters):\n",
    "    \"\"\"\n",
    "    input_seq: the input sequence\n",
    "    \"\"\""
   ]
  }
 ],
 "metadata": {
  "kernelspec": {
   "display_name": "nlpvenv",
   "language": "python",
   "name": "python3"
  },
  "language_info": {
   "codemirror_mode": {
    "name": "ipython",
    "version": 3
   },
   "file_extension": ".py",
   "mimetype": "text/x-python",
   "name": "python",
   "nbconvert_exporter": "python",
   "pygments_lexer": "ipython3",
   "version": "3.9.5"
  },
  "orig_nbformat": 4
 },
 "nbformat": 4,
 "nbformat_minor": 2
}
